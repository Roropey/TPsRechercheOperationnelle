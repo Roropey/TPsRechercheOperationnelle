{
 "cells": [
  {
   "attachments": {},
   "cell_type": "markdown",
   "metadata": {},
   "source": [
    "# TP 2 : Branch-and-bound applied to a knapsack problem"
   ]
  },
  {
   "cell_type": "markdown",
   "metadata": {},
   "source": [
    "### Initialisation (à faire une seule fois)"
   ]
  },
  {
   "cell_type": "code",
   "execution_count": 1,
   "metadata": {},
   "outputs": [
    {
     "name": "stderr",
     "output_type": "stream",
     "text": [
      "\u001b[32m\u001b[1m    Updating\u001b[22m\u001b[39m registry at `~/.julia/registries/General.toml`\n",
      "\u001b[32m\u001b[1m   Resolving\u001b[22m\u001b[39m package versions...\n"
     ]
    },
    {
     "name": "stderr",
     "output_type": "stream",
     "text": [
      "\u001b[32m\u001b[1m  No Changes\u001b[22m\u001b[39m to `~/.julia/environments/v1.8/Project.toml`\n",
      "\u001b[32m\u001b[1m  No Changes\u001b[22m\u001b[39m to `~/.julia/environments/v1.8/Manifest.toml`\n"
     ]
    },
    {
     "name": "stderr",
     "output_type": "stream",
     "text": [
      "\u001b[32m\u001b[1m   Resolving\u001b[22m\u001b[39m package versions...\n"
     ]
    },
    {
     "name": "stderr",
     "output_type": "stream",
     "text": [
      "\u001b[32m\u001b[1m  No Changes\u001b[22m\u001b[39m to `~/.julia/environments/v1.8/Project.toml`\n",
      "\u001b[32m\u001b[1m  No Changes\u001b[22m\u001b[39m to `~/.julia/environments/v1.8/Manifest.toml`\n"
     ]
    }
   ],
   "source": [
    "import Pkg; \n",
    "Pkg.add(\"GraphRecipes\"); Pkg.add(\"Plots\"); \n",
    "using GraphRecipes, Plots #only used to visualize the search tree at the end of the branch-and-bound"
   ]
  },
  {
   "cell_type": "markdown",
   "metadata": {},
   "source": [
    "### Récupération des données"
   ]
  },
  {
   "cell_type": "code",
   "execution_count": 2,
   "metadata": {},
   "outputs": [
    {
     "data": {
      "text/plain": [
       "readKnaptxtInstance (generic function with 1 method)"
      ]
     },
     "metadata": {},
     "output_type": "display_data"
    }
   ],
   "source": [
    "function readKnaptxtInstance(filename)\n",
    "    price=[]\n",
    "    weight=[]\n",
    "    KnapCap=[]\n",
    "    open(filename) do f\n",
    "        for i in 1:3\n",
    "            tok = split(readline(f))\n",
    "            if(tok[1] == \"ListPrices=\")\n",
    "                for i in 2:(length(tok)-1)\n",
    "                    push!(price,parse(Int64, tok[i]))\n",
    "                end\n",
    "            elseif(tok[1] == \"ListWeights=\")\n",
    "                for i in 2:(length(tok)-1)\n",
    "                    push!(weight,parse(Int64, tok[i]))\n",
    "                end\n",
    "            elseif(tok[1] == \"Capacity=\")\n",
    "                push!(KnapCap, parse(Int64, tok[2]))\n",
    "            else\n",
    "                println(\"Unknown read :\", tok)\n",
    "            end \n",
    "        end\n",
    "    end\n",
    "    capacity=KnapCap[1]\n",
    "    return price, weight, capacity\n",
    "end"
   ]
  },
  {
   "cell_type": "markdown",
   "metadata": {},
   "source": [
    "### Tests de sondabilités TA, TO et TR basés sur le modèle linéaire"
   ]
  },
  {
   "cell_type": "code",
   "execution_count": 3,
   "metadata": {},
   "outputs": [
    {
     "data": {
      "text/plain": [
       "TestsSondabilite (generic function with 1 method)"
      ]
     },
     "metadata": {},
     "output_type": "display_data"
    }
   ],
   "source": [
    "# function TestsSondabilite_LP(model2, x, BestProfit, Bestsol)\n",
    "#     TA, TO, TR = false, false, false\n",
    "#     if(termination_status(model2) == MOI.INFEASIBLE)#Test de faisabilite\n",
    "#         TA=true\n",
    "#         println(\"TA\")\n",
    "#     elseif(objective_value(model2) <= BestProfit) #Test d'optimalite\n",
    "#         TO=true\n",
    "#         println(\"TO\")\n",
    "#     elseif( prod(abs.([round.(v, digits=0) for v in value.(x)]-value.(x)) .<= fill(10^-5, size(x))) \n",
    "#         ) #Test de resolution\n",
    "#         TR=true\n",
    "#         println(\"TR\")\n",
    "#         #if (value(benef) >= BestProfit)\n",
    "#         if (objective_value(model2) >= BestProfit)\n",
    "#             Bestsol = value.(x)\n",
    "#             #BestProfit=value(benef)\n",
    "#             BestProfit=objective_value(model2)\n",
    "#             println(\"\\nNew Solution memorized \", Bestsol, \" with bestprofit \", BestProfit, \"\\n\")\n",
    "#         end\n",
    "#     else\n",
    "#         println(\"non sondable\")\n",
    "#     end\n",
    "#     TA, TO, TR, Bestsol, BestProfit\n",
    "# end\n",
    "\n",
    "\n",
    "function TestsSondabilite(listobjs, listvals, price, weight, capacity, borneinf, bornesup, BestProfit, Bestsol, affichage)\n",
    "    TA, TO, TR = false, false, false\n",
    "    \n",
    "    current_weight = 0\n",
    "    current_price = 0\n",
    "    for i in 1:length(listobjs)\n",
    "        if listvals[i] == 1\n",
    "            current_weight += weight[listobjs[i]]\n",
    "            current_price += price[listobjs[i]]\n",
    "        end\n",
    "               \n",
    "    end\n",
    "\n",
    "    if current_weight > capacity  # Test d'Admissibilité\n",
    "        TA = true\n",
    "        if affichage\n",
    "            println(\"TA\")\n",
    "        end\n",
    "    elseif (bornesup < BestProfit)  # Test d'optimalite\n",
    "        TO = true\n",
    "        if affichage\n",
    "            println(\"TO\")\n",
    "        end\n",
    "    elseif borneinf == bornesup # Test de resolution\n",
    "        TR = true\n",
    "        if affichage\n",
    "            println(\"TR\")\n",
    "        end\n",
    "        if bornesup >= BestProfit\n",
    "            Bestsol = copy(listobjs)\n",
    "            BestProfit = bornesup\n",
    "            if affichage\n",
    "                println(\"\\nNew Solution memorized \", Bestsol, \" with bestprofit \", BestProfit, \"\\n\")\n",
    "            end\n",
    "        end\n",
    "    else\n",
    "        if affichage\n",
    "            println(\"non sondable\")\n",
    "        end\n",
    "    end\n",
    "    return TA, TO, TR, Bestsol, BestProfit\n",
    "end\n",
    "\n",
    "\n",
    "\n",
    "    "
   ]
  },
  {
   "cell_type": "markdown",
   "metadata": {},
   "source": [
    "## Procédure de séparation (branching) et stratégie d'exploration permettant de se placer au prochain noeud à traiter"
   ]
  },
  {
   "cell_type": "code",
   "execution_count": 4,
   "metadata": {},
   "outputs": [
    {
     "data": {
      "text/plain": [
       "ExplorerAutreNoeud_depthfirst! (generic function with 1 method)"
      ]
     },
     "metadata": {},
     "output_type": "display_data"
    }
   ],
   "source": [
    "function SeparerNoeud_lexicographic_depthfirst!(listobjs, listvals, n,  price, weight, affichage)\n",
    "    # this node is non-sondable. Apply the branching criterion to separate it into two subnodes\n",
    "    # and choose the child-node at the left  \n",
    "    \n",
    "    # lexicographic branching criterion: branch on the 1st object not yet fixed\n",
    "    i, obj, maxr = 1, 0, -1.0\n",
    "    while((i <= n))\n",
    "        if (!(i in listobjs)) && ((price[i]/weight[i]) >= maxr)\n",
    "            maxr = (price[i]/weight[i])\n",
    "            obj = i\n",
    "        end        \n",
    "        i+=1\n",
    "    end\n",
    "\n",
    "    if affichage\n",
    "        println(\"\\nbranch on object \", obj, \"\\n\")\n",
    "    end\n",
    "    # depthfirst exploration strategy: the node selected will be the most left of the child-nodes just created\n",
    "    push!(listobjs,obj) #save the identity of the object selected for branching\n",
    "    push!(listvals,1.0) #save the node selected, identified by the value assigned to the variable/object chosen\n",
    "end\n",
    "\n",
    "\n",
    "function ExplorerAutreNoeud_depthfirst!(listobjs, listvals, listnodes, affichage)\n",
    "    #this node is sondable, go back to parent node then right child if possible\n",
    "    \n",
    "    stop=false\n",
    "    #check if we are not at the root node\n",
    "    if (length(listobjs)>= 1)\n",
    "        #go back to parent node\n",
    "        obj=pop!(listobjs)\n",
    "        theval=pop!(listvals)\n",
    "        tmp=pop!(listnodes)\n",
    "\n",
    "        #go to right child if possible, otherwise go back to parent\n",
    "        while( (theval==0.0) && (length(listobjs)>= 1))\n",
    "            obj=pop!(listobjs)\n",
    "            theval=pop!(listvals)\n",
    "            tmp=pop!(listnodes)\n",
    "        end\n",
    "        if theval==1.0\n",
    "            push!(listobjs,obj)\n",
    "            push!(listvals,0.0)\n",
    "        else\n",
    "            if affichage\n",
    "                println(\"\\nFINISHED\")\n",
    "            end\n",
    "            stop=true\n",
    "        end\n",
    "    else\n",
    "        #the root node was sondable\n",
    "        if affichage\n",
    "            println(\"\\nFINISHED\")\n",
    "        end\n",
    "        stop=true\n",
    "    end\n",
    "    return stop \n",
    "end"
   ]
  },
  {
   "cell_type": "markdown",
   "metadata": {},
   "source": [
    "###  Création de la relaxation linéaire (= modèle associé au noeud 0): <span style=\"color:red\"> SECTION A SUPPRIMER !!!! </span>\n",
    "\n",
    "<span style=\"color:red\"> Cette section est à commenter/supprimer et remplacer par vos propres calculs de bornes supérieures et autres, par exemple basées sur les bornes 1 et 2 vues en cours, ou d'autres calculs de bornes de votre choix/conception validés au préalable par votre encadrant/e de TP </span>"
   ]
  },
  {
   "cell_type": "code",
   "execution_count": 5,
   "metadata": {},
   "outputs": [
    {
     "data": {
      "text/plain": [
       "Bornes_2! (generic function with 1 method)"
      ]
     },
     "metadata": {},
     "output_type": "display_data"
    }
   ],
   "source": [
    "#=Pkg.add(\"Clp\");\n",
    "Pkg.add(\"JuMP\");\n",
    "using JuMP, Clp\n",
    "\n",
    "function MajModele_LP!(model2, x, listobjs, listvals)\n",
    "    for i in 1:length(listobjs)\n",
    "        set_lower_bound(x[listobjs[i]],listvals[i])\n",
    "        set_upper_bound(x[listobjs[i]],listvals[i])\n",
    "    end\n",
    "end\n",
    "\n",
    "function Reset_LP!(model2, x, listobjs)\n",
    "    for i in 1:length(listobjs)\n",
    "        set_lower_bound(x[listobjs[i]],0.0)\n",
    "        set_upper_bound(x[listobjs[i]],1.0)\n",
    "    end\n",
    "end\n",
    "\n",
    "function Reset_allLP!(model2, x)\n",
    "    for i in 1:length(x)\n",
    "        set_lower_bound(x[i],0.0)\n",
    "        set_upper_bound(x[i],1.0)\n",
    "    end\n",
    "end\n",
    "\n",
    "function CreationModele_LP(price, weight, capacity),\n",
    "# ROOT NODE\n",
    "    \n",
    "    n=length(price)\n",
    "    \n",
    "    model2 = Model(Clp.Optimizer) # set optimizer\n",
    "    set_optimizer_attribute(model2, \"LogLevel\", 0) #don't display anything during solve\n",
    "    set_optimizer_attribute(model2, \"Algorithm\", 4) #LP solver chosen is simplex\n",
    "\n",
    "    # define x variables as CONTINUOUS (recall that it is not possible to define binary variables in Clp)\n",
    "    @variable(model2, 0 <= x[i in 1:n] <= 1)\n",
    "\n",
    "    # define objective function\n",
    "    @objective(model2, Max, sum(price[i]*x[i] for i in 1:n))\n",
    "\n",
    "    # define the capacity constraint \n",
    "    @constraint(model2, sum(weight[i]*x[i] for i in 1:n) <=  capacity)\n",
    "\n",
    "    println(model2) \n",
    "\n",
    "    return model2, x\n",
    "end=#\n",
    "\n",
    "\n",
    "function Bornes_1!(price, weight, capacity, listobjs, listvals)\n",
    "    \n",
    "    placeDispo, prixEnCours, obj, maxr = capacity, 0.0, 0, -1.0\n",
    "    for i in 1:length(listobjs)\n",
    "        if listvals[i] == 1\n",
    "            placeDispo -= weight[listobjs[i]]\n",
    "            prixEnCours += price[listobjs[i]]\n",
    "        end\n",
    "    end \n",
    "\n",
    "    if (length(listobjs) < length(price))\n",
    "        for i in 1:length(price)\n",
    "            if (!(i in listobjs)) && ((price[i]/weight[i]) >= maxr)\n",
    "                maxr = (price[i]/weight[i])\n",
    "                obj = i\n",
    "            end\n",
    "        end\n",
    "        facteurObj = placeDispo/weight[obj]\n",
    "\n",
    "        borneinf, bornesup = prixEnCours, (prixEnCours+facteurObj*price[obj])\n",
    "    else \n",
    "        borneinf, bornesup = prixEnCours, prixEnCours\n",
    "    end\n",
    "    return borneinf, bornesup\n",
    "\n",
    "end\n",
    "\n",
    "function Bornes_2!(price, weight, capacity, listobjs, listvals)\n",
    "    placeDispo, prixEnCours, listeAjoutee, obj = capacity, 0.0, [], -1\n",
    "    for i in 1:length(listobjs)\n",
    "        if listvals[i] == 1\n",
    "            placeDispo -= weight[listobjs[i]]\n",
    "            prixEnCours += price[listobjs[i]]\n",
    "        end\n",
    "    end\n",
    "    \n",
    "    if (length(listobjs) < length(price)) && (placeDispo > 0)\n",
    "        prixMax = prixEnCours\n",
    "        while (placeDispo > 0) && ((length(listobjs) + length(listeAjoutee)) < length(price)) \n",
    "            maxr, obj = -1.0, 0\n",
    "            for i in 1:length(price)\n",
    "                if (!(i in listobjs)) && (!(i in listeAjoutee)) && ((price[i]/weight[i]) >= maxr)\n",
    "                    maxr = (price[i]/weight[i])\n",
    "                    obj = i\n",
    "                end\n",
    "            end\n",
    "            push!(listeAjoutee,obj)\n",
    "\n",
    "            placeDispo -= weight[obj]\n",
    "            prixMax += price[obj]\n",
    "        end\n",
    "        \n",
    "        if placeDispo < 0    \n",
    "            placeDispo += weight[obj]\n",
    "            prixMax -= price[obj]\n",
    "        end\n",
    "        \n",
    "        facteurObj = placeDispo/weight[obj]  \n",
    "        return prixEnCours,prixMax+price[obj]*facteurObj\n",
    "    else\n",
    "        return prixEnCours, prixEnCours\n",
    "    end\n",
    "end\n"
   ]
  },
  {
   "cell_type": "markdown",
   "metadata": {},
   "source": [
    "### Boucle principale : résoudre une relaxation, appliquer les tests de sondabilité, identifier le prochain noeud, répéter."
   ]
  },
  {
   "cell_type": "code",
   "execution_count": 6,
   "metadata": {},
   "outputs": [
    {
     "data": {
      "text/plain": [
       "SolveKnapInstance (generic function with 1 method)"
      ]
     },
     "metadata": {},
     "output_type": "display_data"
    }
   ],
   "source": [
    "\n",
    "function SolveKnapInstance(filename, borne, affichage)\n",
    "\n",
    "    price, weight, capacity = readKnaptxtInstance(filename)\n",
    "\n",
    "    #model2, x = CreationModele_LP(price, weight, capacity)\n",
    "\n",
    "    #create the structure to memorize the search tree for visualization at the end\n",
    "    trParentnodes=Int64[] #will store orig node of arc in search tree\n",
    "    trChildnodes=Int64[] #will store destination node of arc in search tree\n",
    "    trNamenodes=[] #will store names of nodes in search tree\n",
    "\n",
    "    #intermediate structure to navigate in the search tree\n",
    "    listobjs=[]\n",
    "    listvals=[]\n",
    "    listnodes=[]\n",
    "\n",
    "    BestProfit=-1\n",
    "    Bestsol=[]\n",
    "\n",
    "    current_node_number=0\n",
    "    stop = false\n",
    "\n",
    "    while(!stop)\n",
    "        if affichage\n",
    "            println(\"\\nNode number \", current_node_number, \": \\n---------------\\n\")\n",
    "        end\n",
    "        #Update the graphical tree\n",
    "        push!(trNamenodes,current_node_number+1) \n",
    "        if(length(trNamenodes)>=2)\n",
    "            push!(trParentnodes,listnodes[end]+1) # +1 because the 1st node is \"node 0\"\n",
    "            push!(trChildnodes, current_node_number+1) # +1 because the 1st node is \"node 0\"\n",
    "        end\n",
    "        push!(listnodes, current_node_number)\n",
    "\n",
    "        #=\n",
    "        #create LP of current node\n",
    "        MajModele_LP!(model2, x, listobjs, listvals)\n",
    "        \n",
    "        println(model2)\n",
    "        \n",
    "        print(\"Solve the LP model of the current node to compute its bound: start ... \")\n",
    "\n",
    "        status = optimize!(model2)\n",
    "\n",
    "        println(\"... end\"); \n",
    "\n",
    "        print(\": Solution LP\")\n",
    "        if(termination_status(model2) == MOI.INFEASIBLE)#(has_values(model2))\n",
    "            print(\" : NOT AVAILABLE (probably infeasible or ressources limit reached)\")\n",
    "        else\n",
    "            print(\" \", objective_value(model2))\n",
    "            [print(\"\\t\", name(v),\"=\",value(v)) for v in all_variables(model2)] \n",
    "        end\n",
    "        println(\" \"); \n",
    "\n",
    "        =#\n",
    "\n",
    "        #println(\"listobjs, listvals, listnodes\", listobjs, listvals, listnodes)\n",
    "        #Calcul des bornes\n",
    "        if borne == \"borne1\"\n",
    "            borneinf, bornesup = Bornes_1!(price, weight, capacity, listobjs, listvals)\n",
    "        else borne == \"borne2\"\n",
    "            borneinf, bornesup = Bornes_2!(price, weight, capacity, listobjs, listvals)\n",
    "        end\n",
    "        if (affichage==true)\n",
    "            println(\"bornes :\", [borneinf, bornesup])\n",
    "            println(\"\\nPrevious Solution memorized \", Bestsol, \" with bestprofit \", BestProfit, \"\\n\")\n",
    "        end\n",
    "        \n",
    "        TA, TO, TR, Bestsol, BestProfit = TestsSondabilite(listobjs, listvals, price, weight, capacity, borneinf, bornesup, BestProfit, Bestsol, affichage)\n",
    "        \n",
    "        is_node_sondable = TA || TO || TR\n",
    "\n",
    "        #Reset_LP!(model2, x, listobjs)\n",
    "\n",
    "        \n",
    "        if(!is_node_sondable)\n",
    "            SeparerNoeud_lexicographic_depthfirst!(listobjs, listvals, length(price), price, weight, affichage)\n",
    "        else\n",
    "            stop = ExplorerAutreNoeud_depthfirst!(listobjs, listvals, listnodes, affichage)        \n",
    "        end\n",
    "        \n",
    "        \n",
    "        \n",
    "        #Reset_allLP!(model2, x)\n",
    "\n",
    "        current_node_number = current_node_number + 1\n",
    "    end\n",
    "    if affichage\n",
    "        println(\"\\n******\\n\\nOptimal value = \", BestProfit, \"\\n\\nOptimal x=\", Bestsol)\n",
    "    end\n",
    "    return BestProfit, Bestsol, trParentnodes, trChildnodes, trNamenodes\n",
    "\n",
    "end\n"
   ]
  },
  {
   "cell_type": "markdown",
   "metadata": {},
   "source": [
    "### Affichage du résultat final"
   ]
  },
  {
   "cell_type": "code",
   "execution_count": 7,
   "metadata": {},
   "outputs": [
    {
     "name": "stdout",
     "output_type": "stream",
     "text": [
      "\n",
      "Node number 0: \n",
      "---------------\n",
      "\n",
      "bornes :"
     ]
    },
    {
     "name": "stdout",
     "output_type": "stream",
     "text": [
      "[0.0, 100.0]\n",
      "\n",
      "Previous Solution memorized "
     ]
    },
    {
     "name": "stdout",
     "output_type": "stream",
     "text": [
      "Any[] with bestprofit -1\n",
      "\n",
      "non sondable\n",
      "\n",
      "branch on object 2\n",
      "\n",
      "\n",
      "Node number 1: \n",
      "---------------\n",
      "\n",
      "bornes :[40.0, 76.0]\n",
      "\n",
      "Previous Solution memorized Any[] with bestprofit -1\n",
      "\n",
      "non sondable\n",
      "\n",
      "branch on object 1\n",
      "\n",
      "\n",
      "Node number 2: \n",
      "---------------\n",
      "\n",
      "bornes :[82.0, 77.0]\n",
      "\n",
      "Previous Solution memorized Any[] with bestprofit -1\n",
      "\n",
      "TA\n",
      "\n",
      "Node number 3: \n",
      "---------------\n",
      "\n",
      "bornes :[40.0, 70.0]\n",
      "\n",
      "Previous Solution memorized Any[] with bestprofit -1\n",
      "\n",
      "non sondable\n",
      "\n",
      "branch on object 4\n",
      "\n",
      "\n",
      "Node number 4: \n",
      "---------------\n",
      "\n",
      "bornes :[65.0, 69.0]\n",
      "\n",
      "Previous Solution memorized Any[] with bestprofit -1\n",
      "\n",
      "non sondable\n",
      "\n",
      "branch on object 3\n",
      "\n",
      "\n",
      "Node number 5: \n",
      "---------------\n",
      "\n",
      "bornes :[77.0, 77.0]\n",
      "\n",
      "Previous Solution memorized Any[] with bestprofit -1\n",
      "\n",
      "TA\n",
      "\n",
      "Node number 6: \n",
      "---------------\n",
      "\n",
      "bornes :[65.0, 65.0]\n",
      "\n",
      "Previous Solution memorized Any[] with bestprofit -1\n",
      "\n",
      "TR\n",
      "\n",
      "New Solution memorized Any[2, 1, 4, 3] with bestprofit 65.0\n",
      "\n",
      "\n",
      "Node number 7: \n",
      "---------------\n",
      "\n",
      "bornes :[40.0, 64.0]\n",
      "\n",
      "Previous Solution memorized Any[2, 1, 4, 3] with bestprofit 65.0\n",
      "\n",
      "TO\n",
      "\n",
      "Node number 8: \n",
      "---------------\n",
      "\n",
      "bornes :[0.0, 60.0]\n",
      "\n",
      "Previous Solution memorized Any[2, 1, 4, 3] with bestprofit 65.0\n",
      "\n",
      "TO\n",
      "\n",
      "FINISHED\n",
      "\n",
      "******\n",
      "\n",
      "Optimal value = "
     ]
    },
    {
     "name": "stdout",
     "output_type": "stream",
     "text": [
      "65.0\n",
      "\n",
      "Optimal x=Any[2, 1, 4, 3]\n",
      "\n",
      "******\n",
      "\n",
      "Optimal value = 65.0\n",
      "\n",
      "Optimal x=Any[2, 1, 4, 3]\n"
     ]
    },
    {
     "data": {
      "image/png": "[encoded data removed]",
      "image/svg+xml": "<?xml version=\"1.0\" encoding=\"utf-8\"?>\n<svg xmlns=\"http://www.w3.org/2000/svg\" xmlns:xlink=\"http://www.w3.org/1999/xlink\" width=\"600\" height=\"400\" viewBox=\"0 0 2400 1600\">\n<defs>\n  <clipPath id=\"clip910\">\n    <rect x=\"0\" y=\"0\" width=\"2400\" height=\"1600\"/>\n  </clipPath>\n</defs>\n<path clip-path=\"url(#clip910)\" d=\"\nM0 1600 L2400 1600 L2400 0 L0 0  Z\n  \" fill=\"#ffffff\" fill-rule=\"evenodd\" fill-opacity=\"1\"/>\n<defs>\n  <clipPath id=\"clip911\">\n    <rect x=\"480\" y=\"0\" width=\"1681\" height=\"1600\"/>\n  </clipPath>\n</defs>\n<path clip-path=\"url(#clip910)\" d=\"\nM447.244 1552.76 L1952.76 1552.76 L1952.76 47.2441 L447.244 47.2441  Z\n  \" fill=\"#ffffff\" fill-rule=\"evenodd\" fill-opacity=\"1\"/>\n<defs>\n  <clipPath id=\"clip912\">\n    <rect x=\"447\" y=\"47\" width=\"1507\" height=\"1507\"/>\n  </clipPath>\n</defs>\n<polyline clip-path=\"url(#clip912)\" style=\"stroke:#000000; stroke-linecap:round; stroke-linejoin:round; stroke-width:4; stroke-opacity:1; fill:none\" points=\"\n  1190.97,262.317 1191.75,273.913 1194.02,285.27 1197.66,296.408 1202.58,307.343 1208.64,318.093 1215.76,328.675 1223.81,339.108 1232.69,349.409 1242.29,359.596 \n  1252.49,369.686 1263.18,379.696 1274.27,389.645 1285.63,399.549 1297.15,409.428 1308.73,419.297 1320.25,429.176 1331.61,439.08 1342.69,449.029 1353.39,459.039 \n  1363.59,469.129 1373.18,479.316 1382.06,489.616 1390.11,500.05 1397.23,510.632 1403.3,521.382 1408.21,532.317 1411.86,543.455 1414.12,554.812 1414.91,566.408 \n  \n  \"/>\n<polyline clip-path=\"url(#clip912)\" style=\"stroke:#000000; stroke-linecap:round; stroke-linejoin:round; stroke-width:4; stroke-opacity:1; fill:none\" points=\"\n  1414.91,566.408 1416.03,578.82 1419.3,590.474 1424.55,601.426 1431.63,611.731 1440.38,621.447 1450.64,630.628 1462.25,639.332 1475.04,647.615 1488.87,655.532 \n  1503.58,663.141 1518.99,670.496 1534.97,677.655 1551.34,684.673 1567.95,691.607 1584.64,698.513 1601.25,705.447 1617.62,712.466 1633.59,719.624 1649.01,726.98 \n  1663.71,734.588 1677.54,742.505 1690.34,750.788 1701.95,759.492 1712.21,768.674 1720.95,778.389 1728.03,788.695 1733.29,799.646 1736.56,811.3 1737.68,823.713 \n  \n  \"/>\n<polyline clip-path=\"url(#clip912)\" style=\"stroke:#000000; stroke-linecap:round; stroke-linejoin:round; stroke-width:4; stroke-opacity:1; fill:none\" points=\"\n  1414.91,566.408 1414.25,576.657 1412.34,586.74 1409.28,596.67 1405.15,606.458 1400.05,616.117 1394.06,625.659 1387.29,635.096 1379.83,644.441 1371.76,653.706 \n  1363.19,662.904 1354.2,672.046 1344.88,681.145 1335.33,690.214 1325.64,699.264 1315.91,708.308 1306.22,717.358 1296.67,726.426 1287.36,735.525 1278.37,744.667 \n  1269.79,753.865 1261.72,763.13 1254.26,772.475 1247.49,781.913 1241.51,791.455 1236.41,801.114 1232.28,810.902 1229.21,820.831 1227.31,830.914 1226.65,841.164 \n  \n  \"/>\n<polyline clip-path=\"url(#clip912)\" style=\"stroke:#000000; stroke-linecap:round; stroke-linejoin:round; stroke-width:4; stroke-opacity:1; fill:none\" points=\"\n  1226.65,841.164 1225.8,853.076 1223.32,864.674 1219.35,875.981 1213.99,887.021 1207.37,897.815 1199.6,908.389 1190.82,918.764 1181.13,928.965 1170.66,939.015 \n  1159.53,948.936 1147.86,958.753 1135.77,968.488 1123.38,978.165 1110.81,987.807 1098.18,997.437 1085.6,1007.08 1073.21,1016.76 1061.12,1026.49 1049.45,1036.31 \n  1038.32,1046.23 1027.85,1056.28 1018.17,1066.48 1009.38,1076.85 1001.62,1087.43 994.996,1098.22 989.637,1109.26 985.66,1120.57 983.186,1132.17 982.334,1144.08 \n  \n  \"/>\n<polyline clip-path=\"url(#clip912)\" style=\"stroke:#000000; stroke-linecap:round; stroke-linejoin:round; stroke-width:4; stroke-opacity:1; fill:none\" points=\"\n  982.334,1144.08 982.964,1152.14 984.794,1159.91 987.735,1167.4 991.699,1174.64 996.596,1181.64 1002.34,1188.44 1008.84,1195.05 1016,1201.49 1023.74,1207.8 \n  1031.97,1213.98 1040.61,1220.06 1049.55,1226.06 1058.71,1232.01 1068.01,1237.93 1077.35,1243.83 1086.65,1249.75 1095.82,1255.7 1104.76,1261.7 1113.39,1267.79 \n  1121.62,1273.97 1129.36,1280.27 1136.53,1286.71 1143.03,1293.32 1148.77,1300.12 1153.67,1307.13 1157.63,1314.36 1160.57,1321.85 1162.4,1329.62 1163.03,1337.68 \n  \n  \"/>\n<polyline clip-path=\"url(#clip912)\" style=\"stroke:#000000; stroke-linecap:round; stroke-linejoin:round; stroke-width:4; stroke-opacity:1; fill:none\" points=\"\n  982.334,1144.08 981.219,1150.84 977.978,1157.15 972.769,1163.04 965.749,1168.56 957.075,1173.72 946.906,1178.57 935.399,1183.13 922.711,1187.44 908.999,1191.54 \n  894.421,1195.46 879.135,1199.22 863.297,1202.87 847.066,1206.44 830.599,1209.95 814.053,1213.45 797.585,1216.97 781.354,1220.53 765.517,1224.18 750.23,1227.95 \n  735.652,1231.86 721.941,1235.96 709.252,1240.27 697.745,1244.84 687.576,1249.69 678.903,1254.85 671.883,1260.36 666.674,1266.25 663.433,1272.57 662.317,1279.32 \n  \n  \"/>\n<polyline clip-path=\"url(#clip912)\" style=\"stroke:#000000; stroke-linecap:round; stroke-linejoin:round; stroke-width:4; stroke-opacity:1; fill:none\" points=\"\n  1226.65,841.164 1227.67,852.539 1230.63,863.242 1235.4,873.324 1241.82,882.834 1249.75,891.822 1259.05,900.337 1269.58,908.43 1281.18,916.149 1293.72,923.545 \n  1307.06,930.668 1321.04,937.567 1335.52,944.292 1350.37,950.892 1365.43,957.418 1380.56,963.919 1395.62,970.445 1410.47,977.045 1424.95,983.77 1438.93,990.669 \n  1452.27,997.792 1464.81,1005.19 1476.41,1012.91 1486.94,1021 1496.24,1029.52 1504.17,1038.5 1510.59,1048.01 1515.36,1058.09 1518.32,1068.8 1519.34,1080.17 \n  \n  \"/>\n<polyline clip-path=\"url(#clip912)\" style=\"stroke:#000000; stroke-linecap:round; stroke-linejoin:round; stroke-width:4; stroke-opacity:1; fill:none\" points=\"\n  1190.97,262.317 1189.83,274.692 1186.52,286.272 1181.2,297.117 1174.04,307.284 1165.18,316.834 1154.8,325.824 1143.06,334.314 1130.1,342.363 1116.11,350.029 \n  1101.22,357.371 1085.62,364.449 1069.45,371.32 1052.88,378.044 1036.07,384.68 1019.18,391.287 1002.37,397.923 985.801,404.647 969.633,411.518 954.028,418.596 \n  939.146,425.938 925.149,433.604 912.196,441.652 900.449,450.142 890.068,459.133 881.214,468.682 874.047,478.85 868.73,489.694 865.421,501.275 864.283,513.65 \n  \n  \"/>\n<path clip-path=\"url(#clip912)\" d=\"\nM1210.04 262.317 L1200.5 245.802 L1181.43 245.802 L1171.9 262.317 L1181.43 278.832 L1200.5 278.832 L1210.04 262.317 L1210.04 262.317  Z\n  \" fill=\"#009af9\" fill-rule=\"evenodd\" fill-opacity=\"1\"/>\n<polyline clip-path=\"url(#clip912)\" style=\"stroke:#000000; stroke-linecap:round; stroke-linejoin:round; stroke-width:4; stroke-opacity:1; fill:none\" points=\"\n  1210.04,262.317 1200.5,245.802 1181.43,245.802 1171.9,262.317 1181.43,278.832 1200.5,278.832 1210.04,262.317 \n  \"/>\n<path clip-path=\"url(#clip912)\" d=\"\nM1433.97 566.408 L1424.44 549.893 L1405.37 549.893 L1395.84 566.408 L1405.37 582.923 L1424.44 582.923 L1433.97 566.408 L1433.97 566.408  Z\n  \" fill=\"#009af9\" fill-rule=\"evenodd\" fill-opacity=\"1\"/>\n<polyline clip-path=\"url(#clip912)\" style=\"stroke:#000000; stroke-linecap:round; stroke-linejoin:round; stroke-width:4; stroke-opacity:1; fill:none\" points=\"\n  1433.97,566.408 1424.44,549.893 1405.37,549.893 1395.84,566.408 1405.37,582.923 1424.44,582.923 1433.97,566.408 \n  \"/>\n<path clip-path=\"url(#clip912)\" d=\"\nM1756.75 823.713 L1747.22 807.198 L1728.15 807.198 L1718.61 823.713 L1728.15 840.228 L1747.22 840.228 L1756.75 823.713 L1756.75 823.713  Z\n  \" fill=\"#009af9\" fill-rule=\"evenodd\" fill-opacity=\"1\"/>\n<polyline clip-path=\"url(#clip912)\" style=\"stroke:#000000; stroke-linecap:round; stroke-linejoin:round; stroke-width:4; stroke-opacity:1; fill:none\" points=\"\n  1756.75,823.713 1747.22,807.198 1728.15,807.198 1718.61,823.713 1728.15,840.228 1747.22,840.228 1756.75,823.713 \n  \"/>\n<path clip-path=\"url(#clip912)\" d=\"\nM1245.72 841.164 L1236.18 824.649 L1217.11 824.649 L1207.58 841.164 L1217.11 857.679 L1236.18 857.679 L1245.72 841.164 L1245.72 841.164  Z\n  \" fill=\"#009af9\" fill-rule=\"evenodd\" fill-opacity=\"1\"/>\n<polyline clip-path=\"url(#clip912)\" style=\"stroke:#000000; stroke-linecap:round; stroke-linejoin:round; stroke-width:4; stroke-opacity:1; fill:none\" points=\"\n  1245.72,841.164 1236.18,824.649 1217.11,824.649 1207.58,841.164 1217.11,857.679 1236.18,857.679 1245.72,841.164 \n  \"/>\n<path clip-path=\"url(#clip912)\" d=\"\nM1001.4 1144.08 L991.869 1127.56 L972.799 1127.56 L963.264 1144.08 L972.799 1160.59 L991.869 1160.59 L1001.4 1144.08 L1001.4 1144.08  Z\n  \" fill=\"#009af9\" fill-rule=\"evenodd\" fill-opacity=\"1\"/>\n<polyline clip-path=\"url(#clip912)\" style=\"stroke:#000000; stroke-linecap:round; stroke-linejoin:round; stroke-width:4; stroke-opacity:1; fill:none\" points=\"\n  1001.4,1144.08 991.869,1127.56 972.799,1127.56 963.264,1144.08 972.799,1160.59 991.869,1160.59 1001.4,1144.08 \n  \"/>\n<path clip-path=\"url(#clip912)\" d=\"\nM1182.1 1337.68 L1172.57 1321.17 L1153.5 1321.17 L1143.96 1337.68 L1153.5 1354.2 L1172.57 1354.2 L1182.1 1337.68 L1182.1 1337.68  Z\n  \" fill=\"#009af9\" fill-rule=\"evenodd\" fill-opacity=\"1\"/>\n<polyline clip-path=\"url(#clip912)\" style=\"stroke:#000000; stroke-linecap:round; stroke-linejoin:round; stroke-width:4; stroke-opacity:1; fill:none\" points=\"\n  1182.1,1337.68 1172.57,1321.17 1153.5,1321.17 1143.96,1337.68 1153.5,1354.2 1172.57,1354.2 1182.1,1337.68 \n  \"/>\n<path clip-path=\"url(#clip912)\" d=\"\nM681.387 1279.32 L671.852 1262.81 L652.782 1262.81 L643.247 1279.32 L652.782 1295.84 L671.852 1295.84 L681.387 1279.32 L681.387 1279.32  Z\n  \" fill=\"#009af9\" fill-rule=\"evenodd\" fill-opacity=\"1\"/>\n<polyline clip-path=\"url(#clip912)\" style=\"stroke:#000000; stroke-linecap:round; stroke-linejoin:round; stroke-width:4; stroke-opacity:1; fill:none\" points=\"\n  681.387,1279.32 671.852,1262.81 652.782,1262.81 643.247,1279.32 652.782,1295.84 671.852,1295.84 681.387,1279.32 \n  \"/>\n<path clip-path=\"url(#clip912)\" d=\"\nM1538.41 1080.17 L1528.88 1063.66 L1509.81 1063.66 L1500.27 1080.17 L1509.81 1096.69 L1528.88 1096.69 L1538.41 1080.17 L1538.41 1080.17  Z\n  \" fill=\"#009af9\" fill-rule=\"evenodd\" fill-opacity=\"1\"/>\n<polyline clip-path=\"url(#clip912)\" style=\"stroke:#000000; stroke-linecap:round; stroke-linejoin:round; stroke-width:4; stroke-opacity:1; fill:none\" points=\"\n  1538.41,1080.17 1528.88,1063.66 1509.81,1063.66 1500.27,1080.17 1509.81,1096.69 1528.88,1096.69 1538.41,1080.17 \n  \"/>\n<path clip-path=\"url(#clip912)\" d=\"\nM883.352 513.65 L873.818 497.135 L854.748 497.135 L845.213 513.65 L854.748 530.164 L873.818 530.164 L883.352 513.65 L883.352 513.65  Z\n  \" fill=\"#009af9\" fill-rule=\"evenodd\" fill-opacity=\"1\"/>\n<polyline clip-path=\"url(#clip912)\" style=\"stroke:#000000; stroke-linecap:round; stroke-linejoin:round; stroke-width:4; stroke-opacity:1; fill:none\" points=\"\n  883.352,513.65 873.818,497.135 854.748,497.135 845.213,513.65 854.748,530.164 873.818,530.164 883.352,513.65 \n  \"/>\n<path clip-path=\"url(#clip912)\" d=\"M1190.97 262.717 L1190.62 262.517 L1190.62 262.117 L1190.97 261.917 L1191.32 262.117 L1191.32 262.517 Z\" fill=\"#009af9\" fill-rule=\"evenodd\" fill-opacity=\"1\" stroke=\"#000000\" stroke-opacity=\"1\" stroke-width=\"3.2\"/>\n<path clip-path=\"url(#clip912)\" d=\"M1414.91 566.808 L1414.56 566.608 L1414.56 566.208 L1414.91 566.008 L1415.25 566.208 L1415.25 566.608 Z\" fill=\"#009af9\" fill-rule=\"evenodd\" fill-opacity=\"1\" stroke=\"#000000\" stroke-opacity=\"1\" stroke-width=\"3.2\"/>\n<path clip-path=\"url(#clip912)\" d=\"M1737.68 824.113 L1737.34 823.913 L1737.34 823.513 L1737.68 823.313 L1738.03 823.513 L1738.03 823.913 Z\" fill=\"#009af9\" fill-rule=\"evenodd\" fill-opacity=\"1\" stroke=\"#000000\" stroke-opacity=\"1\" stroke-width=\"3.2\"/>\n<path clip-path=\"url(#clip912)\" d=\"M1226.65 841.564 L1226.3 841.364 L1226.3 840.964 L1226.65 840.764 L1227 840.964 L1227 841.364 Z\" fill=\"#009af9\" fill-rule=\"evenodd\" fill-opacity=\"1\" stroke=\"#000000\" stroke-opacity=\"1\" stroke-width=\"3.2\"/>\n<path clip-path=\"url(#clip912)\" d=\"M982.334 1144.48 L981.988 1144.28 L981.988 1143.88 L982.334 1143.68 L982.68 1143.88 L982.68 1144.28 Z\" fill=\"#009af9\" fill-rule=\"evenodd\" fill-opacity=\"1\" stroke=\"#000000\" stroke-opacity=\"1\" stroke-width=\"3.2\"/>\n<path clip-path=\"url(#clip912)\" d=\"M1163.03 1338.08 L1162.68 1337.88 L1162.68 1337.48 L1163.03 1337.28 L1163.38 1337.48 L1163.38 1337.88 Z\" fill=\"#009af9\" fill-rule=\"evenodd\" fill-opacity=\"1\" stroke=\"#000000\" stroke-opacity=\"1\" stroke-width=\"3.2\"/>\n<path clip-path=\"url(#clip912)\" d=\"M662.317 1279.72 L661.971 1279.52 L661.971 1279.12 L662.317 1278.92 L662.664 1279.12 L662.664 1279.52 Z\" fill=\"#009af9\" fill-rule=\"evenodd\" fill-opacity=\"1\" stroke=\"#000000\" stroke-opacity=\"1\" stroke-width=\"3.2\"/>\n<path clip-path=\"url(#clip912)\" d=\"M1519.34 1080.57 L1518.99 1080.37 L1518.99 1079.97 L1519.34 1079.77 L1519.69 1079.97 L1519.69 1080.37 Z\" fill=\"#009af9\" fill-rule=\"evenodd\" fill-opacity=\"1\" stroke=\"#000000\" stroke-opacity=\"1\" stroke-width=\"3.2\"/>\n<path clip-path=\"url(#clip912)\" d=\"M864.283 514.05 L863.936 513.85 L863.936 513.45 L864.283 513.25 L864.629 513.45 L864.629 513.85 Z\" fill=\"#009af9\" fill-rule=\"evenodd\" fill-opacity=\"1\" stroke=\"#000000\" stroke-opacity=\"1\" stroke-width=\"3.2\"/>\n<path clip-path=\"url(#clip910)\" d=\"M1182.55 273.994 L1189.24 273.994 L1189.24 250.924 L1181.97 252.382 L1181.97 248.656 L1189.2 247.197 L1193.29 247.197 L1193.29 273.994 L1199.97 273.994 L1199.97 277.437 L1182.55 277.437 L1182.55 273.994 Z\" fill=\"#000000\" fill-rule=\"evenodd\" fill-opacity=\"1\" /><path clip-path=\"url(#clip910)\" d=\"M1410.23 578.084 L1424.51 578.084 L1424.51 581.528 L1405.3 581.528 L1405.3 578.084 Q1407.63 575.674 1411.64 571.623 Q1415.67 567.552 1416.71 566.377 Q1418.67 564.17 1419.44 562.651 Q1420.23 561.111 1420.23 559.633 Q1420.23 557.222 1418.53 555.703 Q1416.85 554.184 1414.14 554.184 Q1412.21 554.184 1410.06 554.853 Q1407.94 555.521 1405.51 556.878 L1405.51 552.746 Q1407.98 551.754 1410.12 551.247 Q1412.27 550.741 1414.05 550.741 Q1418.75 550.741 1421.55 553.09 Q1424.34 555.44 1424.34 559.369 Q1424.34 561.233 1423.63 562.914 Q1422.95 564.575 1421.1 566.843 Q1420.6 567.431 1417.88 570.246 Q1415.17 573.041 1410.23 578.084 Z\" fill=\"#000000\" fill-rule=\"evenodd\" fill-opacity=\"1\" /><path clip-path=\"url(#clip910)\" d=\"M1741.4 822.528 Q1744.34 823.156 1745.98 825.141 Q1747.64 827.126 1747.64 830.042 Q1747.64 834.518 1744.56 836.969 Q1741.48 839.42 1735.81 839.42 Q1733.91 839.42 1731.88 839.035 Q1729.87 838.671 1727.73 837.921 L1727.73 833.972 Q1729.43 834.964 1731.45 835.47 Q1733.48 835.977 1735.69 835.977 Q1739.54 835.977 1741.54 834.458 Q1743.57 832.939 1743.57 830.042 Q1743.57 827.369 1741.68 825.87 Q1739.82 824.351 1736.48 824.351 L1732.95 824.351 L1732.95 820.988 L1736.64 820.988 Q1739.66 820.988 1741.26 819.793 Q1742.86 818.578 1742.86 816.31 Q1742.86 813.98 1741.2 812.745 Q1739.56 811.489 1736.48 811.489 Q1734.8 811.489 1732.87 811.854 Q1730.95 812.218 1728.64 812.988 L1728.64 809.342 Q1730.97 808.694 1732.99 808.37 Q1735.04 808.046 1736.84 808.046 Q1741.5 808.046 1744.21 810.173 Q1746.93 812.279 1746.93 815.884 Q1746.93 818.396 1745.49 820.138 Q1744.05 821.859 1741.4 822.528 Z\" fill=\"#000000\" fill-rule=\"evenodd\" fill-opacity=\"1\" /><path clip-path=\"url(#clip910)\" d=\"M1229.28 829.608 L1218.95 845.751 L1229.28 845.751 L1229.28 829.608 M1228.21 826.044 L1233.35 826.044 L1233.35 845.751 L1237.67 845.751 L1237.67 849.154 L1233.35 849.154 L1233.35 856.284 L1229.28 856.284 L1229.28 849.154 L1215.63 849.154 L1215.63 845.204 L1228.21 826.044 Z\" fill=\"#000000\" fill-rule=\"evenodd\" fill-opacity=\"1\" /><path clip-path=\"url(#clip910)\" d=\"M973.827 1128.96 L989.889 1128.96 L989.889 1132.4 L977.574 1132.4 L977.574 1139.82 Q978.465 1139.51 979.357 1139.37 Q980.248 1139.21 981.139 1139.21 Q986.203 1139.21 989.16 1141.98 Q992.117 1144.76 992.117 1149.5 Q992.117 1154.38 989.079 1157.09 Q986.041 1159.79 980.511 1159.79 Q978.607 1159.79 976.622 1159.46 Q974.658 1159.14 972.551 1158.49 L972.551 1154.38 Q974.374 1155.37 976.318 1155.86 Q978.263 1156.34 980.43 1156.34 Q983.934 1156.34 985.98 1154.5 Q988.026 1152.66 988.026 1149.5 Q988.026 1146.34 985.98 1144.5 Q983.934 1142.65 980.43 1142.65 Q978.79 1142.65 977.149 1143.02 Q975.529 1143.38 973.827 1144.15 L973.827 1128.96 Z\" fill=\"#000000\" fill-rule=\"evenodd\" fill-opacity=\"1\" /><path clip-path=\"url(#clip910)\" d=\"M1163.38 1336.05 Q1160.63 1336.05 1159.01 1337.94 Q1157.41 1339.82 1157.41 1343.1 Q1157.41 1346.36 1159.01 1348.27 Q1160.63 1350.15 1163.38 1350.15 Q1166.14 1350.15 1167.74 1348.27 Q1169.36 1346.36 1169.36 1343.1 Q1169.36 1339.82 1167.74 1337.94 Q1166.14 1336.05 1163.38 1336.05 M1171.51 1323.23 L1171.51 1326.96 Q1169.97 1326.23 1168.39 1325.84 Q1166.83 1325.46 1165.29 1325.46 Q1161.24 1325.46 1159.09 1328.19 Q1156.96 1330.93 1156.66 1336.46 Q1157.86 1334.7 1159.66 1333.76 Q1161.46 1332.81 1163.63 1332.81 Q1168.19 1332.81 1170.82 1335.59 Q1173.47 1338.34 1173.47 1343.1 Q1173.47 1347.76 1170.72 1350.57 Q1167.96 1353.39 1163.38 1353.39 Q1158.14 1353.39 1155.36 1349.38 Q1152.59 1345.35 1152.59 1337.71 Q1152.59 1330.54 1155.99 1326.29 Q1159.39 1322.02 1165.13 1322.02 Q1166.67 1322.02 1168.23 1322.32 Q1169.81 1322.62 1171.51 1323.23 Z\" fill=\"#000000\" fill-rule=\"evenodd\" fill-opacity=\"1\" /><path clip-path=\"url(#clip910)\" d=\"M652.595 1264.2 L672.039 1264.2 L672.039 1265.95 L661.061 1294.44 L656.788 1294.44 L667.118 1267.65 L652.595 1267.65 L652.595 1264.2 Z\" fill=\"#000000\" fill-rule=\"evenodd\" fill-opacity=\"1\" /><path clip-path=\"url(#clip910)\" d=\"M1519.34 1080.93 Q1516.42 1080.93 1514.74 1082.49 Q1513.08 1084.05 1513.08 1086.79 Q1513.08 1089.52 1514.74 1091.08 Q1516.42 1092.64 1519.34 1092.64 Q1522.26 1092.64 1523.94 1091.08 Q1525.62 1089.5 1525.62 1086.79 Q1525.62 1084.05 1523.94 1082.49 Q1522.28 1080.93 1519.34 1080.93 M1515.25 1079.19 Q1512.62 1078.54 1511.14 1076.74 Q1509.68 1074.94 1509.68 1072.35 Q1509.68 1068.72 1512.25 1066.61 Q1514.84 1064.51 1519.34 1064.51 Q1523.86 1064.51 1526.43 1066.61 Q1529 1068.72 1529 1072.35 Q1529 1074.94 1527.52 1076.74 Q1526.07 1078.54 1523.45 1079.19 Q1526.41 1079.88 1528.05 1081.88 Q1529.71 1083.89 1529.71 1086.79 Q1529.71 1091.18 1527.02 1093.53 Q1524.34 1095.88 1519.34 1095.88 Q1514.34 1095.88 1511.64 1093.53 Q1508.97 1091.18 1508.97 1086.79 Q1508.97 1083.89 1510.63 1081.88 Q1512.29 1079.88 1515.25 1079.19 M1513.75 1072.73 Q1513.75 1075.08 1515.21 1076.4 Q1516.69 1077.71 1519.34 1077.71 Q1521.97 1077.71 1523.45 1076.4 Q1524.95 1075.08 1524.95 1072.73 Q1524.95 1070.38 1523.45 1069.06 Q1521.97 1067.75 1519.34 1067.75 Q1516.69 1067.75 1515.21 1069.06 Q1513.75 1070.38 1513.75 1072.73 Z\" fill=\"#000000\" fill-rule=\"evenodd\" fill-opacity=\"1\" /><path clip-path=\"url(#clip910)\" d=\"M855.796 528.142 L855.796 524.415 Q857.335 525.144 858.915 525.529 Q860.495 525.914 862.014 525.914 Q866.065 525.914 868.192 523.2 Q870.339 520.465 870.643 514.915 Q869.468 516.657 867.665 517.589 Q865.862 518.521 863.675 518.521 Q859.138 518.521 856.485 515.786 Q853.852 513.032 853.852 508.272 Q853.852 503.613 856.606 500.798 Q859.361 497.983 863.938 497.983 Q869.184 497.983 871.939 502.013 Q874.714 506.024 874.714 513.68 Q874.714 520.83 871.311 525.103 Q867.928 529.357 862.196 529.357 Q860.657 529.357 859.077 529.053 Q857.497 528.749 855.796 528.142 M863.938 515.321 Q866.693 515.321 868.293 513.437 Q869.913 511.553 869.913 508.272 Q869.913 505.011 868.293 503.127 Q866.693 501.223 863.938 501.223 Q861.184 501.223 859.563 503.127 Q857.963 505.011 857.963 508.272 Q857.963 511.553 859.563 513.437 Q861.184 515.321 863.938 515.321 Z\" fill=\"#000000\" fill-rule=\"evenodd\" fill-opacity=\"1\" /></svg>\n",
      "text/html": [
       "<?xml version=\"1.0\" encoding=\"utf-8\"?>\n",
       "<svg xmlns=\"http://www.w3.org/2000/svg\" xmlns:xlink=\"http://www.w3.org/1999/xlink\" width=\"600\" height=\"400\" viewBox=\"0 0 2400 1600\">\n",
       "<defs>\n",
       "  <clipPath id=\"clip940\">\n",
       "    <rect x=\"0\" y=\"0\" width=\"2400\" height=\"1600\"/>\n",
       "  </clipPath>\n",
       "</defs>\n",
       "<path clip-path=\"url(#clip940)\" d=\"\n",
       "M0 1600 L2400 1600 L2400 0 L0 0  Z\n",
       "  \" fill=\"#ffffff\" fill-rule=\"evenodd\" fill-opacity=\"1\"/>\n",
       "<defs>\n",
       "  <clipPath id=\"clip941\">\n",
       "    <rect x=\"480\" y=\"0\" width=\"1681\" height=\"1600\"/>\n",
       "  </clipPath>\n",
       "</defs>\n",
       "<path clip-path=\"url(#clip940)\" d=\"\n",
       "M447.244 1552.76 L1952.76 1552.76 L1952.76 47.2441 L447.244 47.2441  Z\n",
       "  \" fill=\"#ffffff\" fill-rule=\"evenodd\" fill-opacity=\"1\"/>\n",
       "<defs>\n",
       "  <clipPath id=\"clip942\">\n",
       "    <rect x=\"447\" y=\"47\" width=\"1507\" height=\"1507\"/>\n",
       "  </clipPath>\n",
       "</defs>\n",
       "<polyline clip-path=\"url(#clip942)\" style=\"stroke:#000000; stroke-linecap:round; stroke-linejoin:round; stroke-width:4; stroke-opacity:1; fill:none\" points=\"\n",
       "  1190.97,262.317 1191.75,273.913 1194.02,285.27 1197.66,296.408 1202.58,307.343 1208.64,318.093 1215.76,328.675 1223.81,339.108 1232.69,349.409 1242.29,359.596 \n",
       "  1252.49,369.686 1263.18,379.696 1274.27,389.645 1285.63,399.549 1297.15,409.428 1308.73,419.297 1320.25,429.176 1331.61,439.08 1342.69,449.029 1353.39,459.039 \n",
       "  1363.59,469.129 1373.18,479.316 1382.06,489.616 1390.11,500.05 1397.23,510.632 1403.3,521.382 1408.21,532.317 1411.86,543.455 1414.12,554.812 1414.91,566.408 \n",
       "  \n",
       "  \"/>\n",
       "<polyline clip-path=\"url(#clip942)\" style=\"stroke:#000000; stroke-linecap:round; stroke-linejoin:round; stroke-width:4; stroke-opacity:1; fill:none\" points=\"\n",
       "  1414.91,566.408 1416.03,578.82 1419.3,590.474 1424.55,601.426 1431.63,611.731 1440.38,621.447 1450.64,630.628 1462.25,639.332 1475.04,647.615 1488.87,655.532 \n",
       "  1503.58,663.141 1518.99,670.496 1534.97,677.655 1551.34,684.673 1567.95,691.607 1584.64,698.513 1601.25,705.447 1617.62,712.466 1633.59,719.624 1649.01,726.98 \n",
       "  1663.71,734.588 1677.54,742.505 1690.34,750.788 1701.95,759.492 1712.21,768.674 1720.95,778.389 1728.03,788.695 1733.29,799.646 1736.56,811.3 1737.68,823.713 \n",
       "  \n",
       "  \"/>\n",
       "<polyline clip-path=\"url(#clip942)\" style=\"stroke:#000000; stroke-linecap:round; stroke-linejoin:round; stroke-width:4; stroke-opacity:1; fill:none\" points=\"\n",
       "  1414.91,566.408 1414.25,576.657 1412.34,586.74 1409.28,596.67 1405.15,606.458 1400.05,616.117 1394.06,625.659 1387.29,635.096 1379.83,644.441 1371.76,653.706 \n",
       "  1363.19,662.904 1354.2,672.046 1344.88,681.145 1335.33,690.214 1325.64,699.264 1315.91,708.308 1306.22,717.358 1296.67,726.426 1287.36,735.525 1278.37,744.667 \n",
       "  1269.79,753.865 1261.72,763.13 1254.26,772.475 1247.49,781.913 1241.51,791.455 1236.41,801.114 1232.28,810.902 1229.21,820.831 1227.31,830.914 1226.65,841.164 \n",
       "  \n",
       "  \"/>\n",
       "<polyline clip-path=\"url(#clip942)\" style=\"stroke:#000000; stroke-linecap:round; stroke-linejoin:round; stroke-width:4; stroke-opacity:1; fill:none\" points=\"\n",
       "  1226.65,841.164 1225.8,853.076 1223.32,864.674 1219.35,875.981 1213.99,887.021 1207.37,897.815 1199.6,908.389 1190.82,918.764 1181.13,928.965 1170.66,939.015 \n",
       "  1159.53,948.936 1147.86,958.753 1135.77,968.488 1123.38,978.165 1110.81,987.807 1098.18,997.437 1085.6,1007.08 1073.21,1016.76 1061.12,1026.49 1049.45,1036.31 \n",
       "  1038.32,1046.23 1027.85,1056.28 1018.17,1066.48 1009.38,1076.85 1001.62,1087.43 994.996,1098.22 989.637,1109.26 985.66,1120.57 983.186,1132.17 982.334,1144.08 \n",
       "  \n",
       "  \"/>\n",
       "<polyline clip-path=\"url(#clip942)\" style=\"stroke:#000000; stroke-linecap:round; stroke-linejoin:round; stroke-width:4; stroke-opacity:1; fill:none\" points=\"\n",
       "  982.334,1144.08 982.964,1152.14 984.794,1159.91 987.735,1167.4 991.699,1174.64 996.596,1181.64 1002.34,1188.44 1008.84,1195.05 1016,1201.49 1023.74,1207.8 \n",
       "  1031.97,1213.98 1040.61,1220.06 1049.55,1226.06 1058.71,1232.01 1068.01,1237.93 1077.35,1243.83 1086.65,1249.75 1095.82,1255.7 1104.76,1261.7 1113.39,1267.79 \n",
       "  1121.62,1273.97 1129.36,1280.27 1136.53,1286.71 1143.03,1293.32 1148.77,1300.12 1153.67,1307.13 1157.63,1314.36 1160.57,1321.85 1162.4,1329.62 1163.03,1337.68 \n",
       "  \n",
       "  \"/>\n",
       "<polyline clip-path=\"url(#clip942)\" style=\"stroke:#000000; stroke-linecap:round; stroke-linejoin:round; stroke-width:4; stroke-opacity:1; fill:none\" points=\"\n",
       "  982.334,1144.08 981.219,1150.84 977.978,1157.15 972.769,1163.04 965.749,1168.56 957.075,1173.72 946.906,1178.57 935.399,1183.13 922.711,1187.44 908.999,1191.54 \n",
       "  894.421,1195.46 879.135,1199.22 863.297,1202.87 847.066,1206.44 830.599,1209.95 814.053,1213.45 797.585,1216.97 781.354,1220.53 765.517,1224.18 750.23,1227.95 \n",
       "  735.652,1231.86 721.941,1235.96 709.252,1240.27 697.745,1244.84 687.576,1249.69 678.903,1254.85 671.883,1260.36 666.674,1266.25 663.433,1272.57 662.317,1279.32 \n",
       "  \n",
       "  \"/>\n",
       "<polyline clip-path=\"url(#clip942)\" style=\"stroke:#000000; stroke-linecap:round; stroke-linejoin:round; stroke-width:4; stroke-opacity:1; fill:none\" points=\"\n",
       "  1226.65,841.164 1227.67,852.539 1230.63,863.242 1235.4,873.324 1241.82,882.834 1249.75,891.822 1259.05,900.337 1269.58,908.43 1281.18,916.149 1293.72,923.545 \n",
       "  1307.06,930.668 1321.04,937.567 1335.52,944.292 1350.37,950.892 1365.43,957.418 1380.56,963.919 1395.62,970.445 1410.47,977.045 1424.95,983.77 1438.93,990.669 \n",
       "  1452.27,997.792 1464.81,1005.19 1476.41,1012.91 1486.94,1021 1496.24,1029.52 1504.17,1038.5 1510.59,1048.01 1515.36,1058.09 1518.32,1068.8 1519.34,1080.17 \n",
       "  \n",
       "  \"/>\n",
       "<polyline clip-path=\"url(#clip942)\" style=\"stroke:#000000; stroke-linecap:round; stroke-linejoin:round; stroke-width:4; stroke-opacity:1; fill:none\" points=\"\n",
       "  1190.97,262.317 1189.83,274.692 1186.52,286.272 1181.2,297.117 1174.04,307.284 1165.18,316.834 1154.8,325.824 1143.06,334.314 1130.1,342.363 1116.11,350.029 \n",
       "  1101.22,357.371 1085.62,364.449 1069.45,371.32 1052.88,378.044 1036.07,384.68 1019.18,391.287 1002.37,397.923 985.801,404.647 969.633,411.518 954.028,418.596 \n",
       "  939.146,425.938 925.149,433.604 912.196,441.652 900.449,450.142 890.068,459.133 881.214,468.682 874.047,478.85 868.73,489.694 865.421,501.275 864.283,513.65 \n",
       "  \n",
       "  \"/>\n",
       "<path clip-path=\"url(#clip942)\" d=\"\n",
       "M1210.04 262.317 L1200.5 245.802 L1181.43 245.802 L1171.9 262.317 L1181.43 278.832 L1200.5 278.832 L1210.04 262.317 L1210.04 262.317  Z\n",
       "  \" fill=\"#009af9\" fill-rule=\"evenodd\" fill-opacity=\"1\"/>\n",
       "<polyline clip-path=\"url(#clip942)\" style=\"stroke:#000000; stroke-linecap:round; stroke-linejoin:round; stroke-width:4; stroke-opacity:1; fill:none\" points=\"\n",
       "  1210.04,262.317 1200.5,245.802 1181.43,245.802 1171.9,262.317 1181.43,278.832 1200.5,278.832 1210.04,262.317 \n",
       "  \"/>\n",
       "<path clip-path=\"url(#clip942)\" d=\"\n",
       "M1433.97 566.408 L1424.44 549.893 L1405.37 549.893 L1395.84 566.408 L1405.37 582.923 L1424.44 582.923 L1433.97 566.408 L1433.97 566.408  Z\n",
       "  \" fill=\"#009af9\" fill-rule=\"evenodd\" fill-opacity=\"1\"/>\n",
       "<polyline clip-path=\"url(#clip942)\" style=\"stroke:#000000; stroke-linecap:round; stroke-linejoin:round; stroke-width:4; stroke-opacity:1; fill:none\" points=\"\n",
       "  1433.97,566.408 1424.44,549.893 1405.37,549.893 1395.84,566.408 1405.37,582.923 1424.44,582.923 1433.97,566.408 \n",
       "  \"/>\n",
       "<path clip-path=\"url(#clip942)\" d=\"\n",
       "M1756.75 823.713 L1747.22 807.198 L1728.15 807.198 L1718.61 823.713 L1728.15 840.228 L1747.22 840.228 L1756.75 823.713 L1756.75 823.713  Z\n",
       "  \" fill=\"#009af9\" fill-rule=\"evenodd\" fill-opacity=\"1\"/>\n",
       "<polyline clip-path=\"url(#clip942)\" style=\"stroke:#000000; stroke-linecap:round; stroke-linejoin:round; stroke-width:4; stroke-opacity:1; fill:none\" points=\"\n",
       "  1756.75,823.713 1747.22,807.198 1728.15,807.198 1718.61,823.713 1728.15,840.228 1747.22,840.228 1756.75,823.713 \n",
       "  \"/>\n",
       "<path clip-path=\"url(#clip942)\" d=\"\n",
       "M1245.72 841.164 L1236.18 824.649 L1217.11 824.649 L1207.58 841.164 L1217.11 857.679 L1236.18 857.679 L1245.72 841.164 L1245.72 841.164  Z\n",
       "  \" fill=\"#009af9\" fill-rule=\"evenodd\" fill-opacity=\"1\"/>\n",
       "<polyline clip-path=\"url(#clip942)\" style=\"stroke:#000000; stroke-linecap:round; stroke-linejoin:round; stroke-width:4; stroke-opacity:1; fill:none\" points=\"\n",
       "  1245.72,841.164 1236.18,824.649 1217.11,824.649 1207.58,841.164 1217.11,857.679 1236.18,857.679 1245.72,841.164 \n",
       "  \"/>\n",
       "<path clip-path=\"url(#clip942)\" d=\"\n",
       "M1001.4 1144.08 L991.869 1127.56 L972.799 1127.56 L963.264 1144.08 L972.799 1160.59 L991.869 1160.59 L1001.4 1144.08 L1001.4 1144.08  Z\n",
       "  \" fill=\"#009af9\" fill-rule=\"evenodd\" fill-opacity=\"1\"/>\n",
       "<polyline clip-path=\"url(#clip942)\" style=\"stroke:#000000; stroke-linecap:round; stroke-linejoin:round; stroke-width:4; stroke-opacity:1; fill:none\" points=\"\n",
       "  1001.4,1144.08 991.869,1127.56 972.799,1127.56 963.264,1144.08 972.799,1160.59 991.869,1160.59 1001.4,1144.08 \n",
       "  \"/>\n",
       "<path clip-path=\"url(#clip942)\" d=\"\n",
       "M1182.1 1337.68 L1172.57 1321.17 L1153.5 1321.17 L1143.96 1337.68 L1153.5 1354.2 L1172.57 1354.2 L1182.1 1337.68 L1182.1 1337.68  Z\n",
       "  \" fill=\"#009af9\" fill-rule=\"evenodd\" fill-opacity=\"1\"/>\n",
       "<polyline clip-path=\"url(#clip942)\" style=\"stroke:#000000; stroke-linecap:round; stroke-linejoin:round; stroke-width:4; stroke-opacity:1; fill:none\" points=\"\n",
       "  1182.1,1337.68 1172.57,1321.17 1153.5,1321.17 1143.96,1337.68 1153.5,1354.2 1172.57,1354.2 1182.1,1337.68 \n",
       "  \"/>\n",
       "<path clip-path=\"url(#clip942)\" d=\"\n",
       "M681.387 1279.32 L671.852 1262.81 L652.782 1262.81 L643.247 1279.32 L652.782 1295.84 L671.852 1295.84 L681.387 1279.32 L681.387 1279.32  Z\n",
       "  \" fill=\"#009af9\" fill-rule=\"evenodd\" fill-opacity=\"1\"/>\n",
       "<polyline clip-path=\"url(#clip942)\" style=\"stroke:#000000; stroke-linecap:round; stroke-linejoin:round; stroke-width:4; stroke-opacity:1; fill:none\" points=\"\n",
       "  681.387,1279.32 671.852,1262.81 652.782,1262.81 643.247,1279.32 652.782,1295.84 671.852,1295.84 681.387,1279.32 \n",
       "  \"/>\n",
       "<path clip-path=\"url(#clip942)\" d=\"\n",
       "M1538.41 1080.17 L1528.88 1063.66 L1509.81 1063.66 L1500.27 1080.17 L1509.81 1096.69 L1528.88 1096.69 L1538.41 1080.17 L1538.41 1080.17  Z\n",
       "  \" fill=\"#009af9\" fill-rule=\"evenodd\" fill-opacity=\"1\"/>\n",
       "<polyline clip-path=\"url(#clip942)\" style=\"stroke:#000000; stroke-linecap:round; stroke-linejoin:round; stroke-width:4; stroke-opacity:1; fill:none\" points=\"\n",
       "  1538.41,1080.17 1528.88,1063.66 1509.81,1063.66 1500.27,1080.17 1509.81,1096.69 1528.88,1096.69 1538.41,1080.17 \n",
       "  \"/>\n",
       "<path clip-path=\"url(#clip942)\" d=\"\n",
       "M883.352 513.65 L873.818 497.135 L854.748 497.135 L845.213 513.65 L854.748 530.164 L873.818 530.164 L883.352 513.65 L883.352 513.65  Z\n",
       "  \" fill=\"#009af9\" fill-rule=\"evenodd\" fill-opacity=\"1\"/>\n",
       "<polyline clip-path=\"url(#clip942)\" style=\"stroke:#000000; stroke-linecap:round; stroke-linejoin:round; stroke-width:4; stroke-opacity:1; fill:none\" points=\"\n",
       "  883.352,513.65 873.818,497.135 854.748,497.135 845.213,513.65 854.748,530.164 873.818,530.164 883.352,513.65 \n",
       "  \"/>\n",
       "<path clip-path=\"url(#clip942)\" d=\"M1190.97 262.717 L1190.62 262.517 L1190.62 262.117 L1190.97 261.917 L1191.32 262.117 L1191.32 262.517 Z\" fill=\"#009af9\" fill-rule=\"evenodd\" fill-opacity=\"1\" stroke=\"#000000\" stroke-opacity=\"1\" stroke-width=\"3.2\"/>\n",
       "<path clip-path=\"url(#clip942)\" d=\"M1414.91 566.808 L1414.56 566.608 L1414.56 566.208 L1414.91 566.008 L1415.25 566.208 L1415.25 566.608 Z\" fill=\"#009af9\" fill-rule=\"evenodd\" fill-opacity=\"1\" stroke=\"#000000\" stroke-opacity=\"1\" stroke-width=\"3.2\"/>\n",
       "<path clip-path=\"url(#clip942)\" d=\"M1737.68 824.113 L1737.34 823.913 L1737.34 823.513 L1737.68 823.313 L1738.03 823.513 L1738.03 823.913 Z\" fill=\"#009af9\" fill-rule=\"evenodd\" fill-opacity=\"1\" stroke=\"#000000\" stroke-opacity=\"1\" stroke-width=\"3.2\"/>\n",
       "<path clip-path=\"url(#clip942)\" d=\"M1226.65 841.564 L1226.3 841.364 L1226.3 840.964 L1226.65 840.764 L1227 840.964 L1227 841.364 Z\" fill=\"#009af9\" fill-rule=\"evenodd\" fill-opacity=\"1\" stroke=\"#000000\" stroke-opacity=\"1\" stroke-width=\"3.2\"/>\n",
       "<path clip-path=\"url(#clip942)\" d=\"M982.334 1144.48 L981.988 1144.28 L981.988 1143.88 L982.334 1143.68 L982.68 1143.88 L982.68 1144.28 Z\" fill=\"#009af9\" fill-rule=\"evenodd\" fill-opacity=\"1\" stroke=\"#000000\" stroke-opacity=\"1\" stroke-width=\"3.2\"/>\n",
       "<path clip-path=\"url(#clip942)\" d=\"M1163.03 1338.08 L1162.68 1337.88 L1162.68 1337.48 L1163.03 1337.28 L1163.38 1337.48 L1163.38 1337.88 Z\" fill=\"#009af9\" fill-rule=\"evenodd\" fill-opacity=\"1\" stroke=\"#000000\" stroke-opacity=\"1\" stroke-width=\"3.2\"/>\n",
       "<path clip-path=\"url(#clip942)\" d=\"M662.317 1279.72 L661.971 1279.52 L661.971 1279.12 L662.317 1278.92 L662.664 1279.12 L662.664 1279.52 Z\" fill=\"#009af9\" fill-rule=\"evenodd\" fill-opacity=\"1\" stroke=\"#000000\" stroke-opacity=\"1\" stroke-width=\"3.2\"/>\n",
       "<path clip-path=\"url(#clip942)\" d=\"M1519.34 1080.57 L1518.99 1080.37 L1518.99 1079.97 L1519.34 1079.77 L1519.69 1079.97 L1519.69 1080.37 Z\" fill=\"#009af9\" fill-rule=\"evenodd\" fill-opacity=\"1\" stroke=\"#000000\" stroke-opacity=\"1\" stroke-width=\"3.2\"/>\n",
       "<path clip-path=\"url(#clip942)\" d=\"M864.283 514.05 L863.936 513.85 L863.936 513.45 L864.283 513.25 L864.629 513.45 L864.629 513.85 Z\" fill=\"#009af9\" fill-rule=\"evenodd\" fill-opacity=\"1\" stroke=\"#000000\" stroke-opacity=\"1\" stroke-width=\"3.2\"/>\n",
       "<path clip-path=\"url(#clip940)\" d=\"M1182.55 273.994 L1189.24 273.994 L1189.24 250.924 L1181.97 252.382 L1181.97 248.656 L1189.2 247.197 L1193.29 247.197 L1193.29 273.994 L1199.97 273.994 L1199.97 277.437 L1182.55 277.437 L1182.55 273.994 Z\" fill=\"#000000\" fill-rule=\"evenodd\" fill-opacity=\"1\" /><path clip-path=\"url(#clip940)\" d=\"M1410.23 578.084 L1424.51 578.084 L1424.51 581.528 L1405.3 581.528 L1405.3 578.084 Q1407.63 575.674 1411.64 571.623 Q1415.67 567.552 1416.71 566.377 Q1418.67 564.17 1419.44 562.651 Q1420.23 561.111 1420.23 559.633 Q1420.23 557.222 1418.53 555.703 Q1416.85 554.184 1414.14 554.184 Q1412.21 554.184 1410.06 554.853 Q1407.94 555.521 1405.51 556.878 L1405.51 552.746 Q1407.98 551.754 1410.12 551.247 Q1412.27 550.741 1414.05 550.741 Q1418.75 550.741 1421.55 553.09 Q1424.34 555.44 1424.34 559.369 Q1424.34 561.233 1423.63 562.914 Q1422.95 564.575 1421.1 566.843 Q1420.6 567.431 1417.88 570.246 Q1415.17 573.041 1410.23 578.084 Z\" fill=\"#000000\" fill-rule=\"evenodd\" fill-opacity=\"1\" /><path clip-path=\"url(#clip940)\" d=\"M1741.4 822.528 Q1744.34 823.156 1745.98 825.141 Q1747.64 827.126 1747.64 830.042 Q1747.64 834.518 1744.56 836.969 Q1741.48 839.42 1735.81 839.42 Q1733.91 839.42 1731.88 839.035 Q1729.87 838.671 1727.73 837.921 L1727.73 833.972 Q1729.43 834.964 1731.45 835.47 Q1733.48 835.977 1735.69 835.977 Q1739.54 835.977 1741.54 834.458 Q1743.57 832.939 1743.57 830.042 Q1743.57 827.369 1741.68 825.87 Q1739.82 824.351 1736.48 824.351 L1732.95 824.351 L1732.95 820.988 L1736.64 820.988 Q1739.66 820.988 1741.26 819.793 Q1742.86 818.578 1742.86 816.31 Q1742.86 813.98 1741.2 812.745 Q1739.56 811.489 1736.48 811.489 Q1734.8 811.489 1732.87 811.854 Q1730.95 812.218 1728.64 812.988 L1728.64 809.342 Q1730.97 808.694 1732.99 808.37 Q1735.04 808.046 1736.84 808.046 Q1741.5 808.046 1744.21 810.173 Q1746.93 812.279 1746.93 815.884 Q1746.93 818.396 1745.49 820.138 Q1744.05 821.859 1741.4 822.528 Z\" fill=\"#000000\" fill-rule=\"evenodd\" fill-opacity=\"1\" /><path clip-path=\"url(#clip940)\" d=\"M1229.28 829.608 L1218.95 845.751 L1229.28 845.751 L1229.28 829.608 M1228.21 826.044 L1233.35 826.044 L1233.35 845.751 L1237.67 845.751 L1237.67 849.154 L1233.35 849.154 L1233.35 856.284 L1229.28 856.284 L1229.28 849.154 L1215.63 849.154 L1215.63 845.204 L1228.21 826.044 Z\" fill=\"#000000\" fill-rule=\"evenodd\" fill-opacity=\"1\" /><path clip-path=\"url(#clip940)\" d=\"M973.827 1128.96 L989.889 1128.96 L989.889 1132.4 L977.574 1132.4 L977.574 1139.82 Q978.465 1139.51 979.357 1139.37 Q980.248 1139.21 981.139 1139.21 Q986.203 1139.21 989.16 1141.98 Q992.117 1144.76 992.117 1149.5 Q992.117 1154.38 989.079 1157.09 Q986.041 1159.79 980.511 1159.79 Q978.607 1159.79 976.622 1159.46 Q974.658 1159.14 972.551 1158.49 L972.551 1154.38 Q974.374 1155.37 976.318 1155.86 Q978.263 1156.34 980.43 1156.34 Q983.934 1156.34 985.98 1154.5 Q988.026 1152.66 988.026 1149.5 Q988.026 1146.34 985.98 1144.5 Q983.934 1142.65 980.43 1142.65 Q978.79 1142.65 977.149 1143.02 Q975.529 1143.38 973.827 1144.15 L973.827 1128.96 Z\" fill=\"#000000\" fill-rule=\"evenodd\" fill-opacity=\"1\" /><path clip-path=\"url(#clip940)\" d=\"M1163.38 1336.05 Q1160.63 1336.05 1159.01 1337.94 Q1157.41 1339.82 1157.41 1343.1 Q1157.41 1346.36 1159.01 1348.27 Q1160.63 1350.15 1163.38 1350.15 Q1166.14 1350.15 1167.74 1348.27 Q1169.36 1346.36 1169.36 1343.1 Q1169.36 1339.82 1167.74 1337.94 Q1166.14 1336.05 1163.38 1336.05 M1171.51 1323.23 L1171.51 1326.96 Q1169.97 1326.23 1168.39 1325.84 Q1166.83 1325.46 1165.29 1325.46 Q1161.24 1325.46 1159.09 1328.19 Q1156.96 1330.93 1156.66 1336.46 Q1157.86 1334.7 1159.66 1333.76 Q1161.46 1332.81 1163.63 1332.81 Q1168.19 1332.81 1170.82 1335.59 Q1173.47 1338.34 1173.47 1343.1 Q1173.47 1347.76 1170.72 1350.57 Q1167.96 1353.39 1163.38 1353.39 Q1158.14 1353.39 1155.36 1349.38 Q1152.59 1345.35 1152.59 1337.71 Q1152.59 1330.54 1155.99 1326.29 Q1159.39 1322.02 1165.13 1322.02 Q1166.67 1322.02 1168.23 1322.32 Q1169.81 1322.62 1171.51 1323.23 Z\" fill=\"#000000\" fill-rule=\"evenodd\" fill-opacity=\"1\" /><path clip-path=\"url(#clip940)\" d=\"M652.595 1264.2 L672.039 1264.2 L672.039 1265.95 L661.061 1294.44 L656.788 1294.44 L667.118 1267.65 L652.595 1267.65 L652.595 1264.2 Z\" fill=\"#000000\" fill-rule=\"evenodd\" fill-opacity=\"1\" /><path clip-path=\"url(#clip940)\" d=\"M1519.34 1080.93 Q1516.42 1080.93 1514.74 1082.49 Q1513.08 1084.05 1513.08 1086.79 Q1513.08 1089.52 1514.74 1091.08 Q1516.42 1092.64 1519.34 1092.64 Q1522.26 1092.64 1523.94 1091.08 Q1525.62 1089.5 1525.62 1086.79 Q1525.62 1084.05 1523.94 1082.49 Q1522.28 1080.93 1519.34 1080.93 M1515.25 1079.19 Q1512.62 1078.54 1511.14 1076.74 Q1509.68 1074.94 1509.68 1072.35 Q1509.68 1068.72 1512.25 1066.61 Q1514.84 1064.51 1519.34 1064.51 Q1523.86 1064.51 1526.43 1066.61 Q1529 1068.72 1529 1072.35 Q1529 1074.94 1527.52 1076.74 Q1526.07 1078.54 1523.45 1079.19 Q1526.41 1079.88 1528.05 1081.88 Q1529.71 1083.89 1529.71 1086.79 Q1529.71 1091.18 1527.02 1093.53 Q1524.34 1095.88 1519.34 1095.88 Q1514.34 1095.88 1511.64 1093.53 Q1508.97 1091.18 1508.97 1086.79 Q1508.97 1083.89 1510.63 1081.88 Q1512.29 1079.88 1515.25 1079.19 M1513.75 1072.73 Q1513.75 1075.08 1515.21 1076.4 Q1516.69 1077.71 1519.34 1077.71 Q1521.97 1077.71 1523.45 1076.4 Q1524.95 1075.08 1524.95 1072.73 Q1524.95 1070.38 1523.45 1069.06 Q1521.97 1067.75 1519.34 1067.75 Q1516.69 1067.75 1515.21 1069.06 Q1513.75 1070.38 1513.75 1072.73 Z\" fill=\"#000000\" fill-rule=\"evenodd\" fill-opacity=\"1\" /><path clip-path=\"url(#clip940)\" d=\"M855.796 528.142 L855.796 524.415 Q857.335 525.144 858.915 525.529 Q860.495 525.914 862.014 525.914 Q866.065 525.914 868.192 523.2 Q870.339 520.465 870.643 514.915 Q869.468 516.657 867.665 517.589 Q865.862 518.521 863.675 518.521 Q859.138 518.521 856.485 515.786 Q853.852 513.032 853.852 508.272 Q853.852 503.613 856.606 500.798 Q859.361 497.983 863.938 497.983 Q869.184 497.983 871.939 502.013 Q874.714 506.024 874.714 513.68 Q874.714 520.83 871.311 525.103 Q867.928 529.357 862.196 529.357 Q860.657 529.357 859.077 529.053 Q857.497 528.749 855.796 528.142 M863.938 515.321 Q866.693 515.321 868.293 513.437 Q869.913 511.553 869.913 508.272 Q869.913 505.011 868.293 503.127 Q866.693 501.223 863.938 501.223 Q861.184 501.223 859.563 503.127 Q857.963 505.011 857.963 508.272 Q857.963 511.553 859.563 513.437 Q861.184 515.321 863.938 515.321 Z\" fill=\"#000000\" fill-rule=\"evenodd\" fill-opacity=\"1\" /></svg>\n"
      ]
     },
     "metadata": {},
     "output_type": "display_data"
    }
   ],
   "source": [
    "BestProfit, Bestsol, trParentnodes, trChildnodes, trNamenodes = SolveKnapInstance(\"instancesETU/KNAPnewformat/test.opb.txt\", \"borne1\", true)\n",
    "println(\"\\n******\\n\\nOptimal value = \", BestProfit, \"\\n\\nOptimal x=\", Bestsol)\n",
    "graphplot(trParentnodes, trChildnodes, names=trNamenodes, method=:tree)"
   ]
  },
  {
   "cell_type": "code",
   "execution_count": 8,
   "metadata": {},
   "outputs": [],
   "source": []
  },
  {
   "cell_type": "code",
   "execution_count": 9,
   "metadata": {},
   "outputs": [
    {
     "ename": "ErrorException",
     "evalue": "syntax: extra token \"préliminares\" after end of expression",
     "output_type": "error",
     "traceback": [
      "syntax: extra token \"préliminares\" after end of expression\n",
      "\n",
      "Stacktrace:\n",
      " [1] top-level scope\n",
      "   @ ~/Enseeiht/S7/RechOp/TPs/instancesETU/KnapsackNEW_ETU.ipynb:1"
     ]
    }
   ],
   "source": [
    "Questions préliminares :\n",
    "\n",
    "1. La règle de séparation permet de divisier une situation en deux cas à observer. Dans le programme donnée dans ce notebook, la règle de séparation \n",
    "fait qu'à chaque étude, le programme regarde si le premier objet non fixé (donc pas dans listobjs) doit être présent ou non (val = 1 ou val = 0).\n",
    "Le programme parcours donc les objets dans leur ordre de présence\n",
    "\n",
    "\n",
    "2. A chaque itération, la borne supérieure correspond au résultat (objectif) de la résolution du modèle linéaire (avec donc les valeurs comprises en 0 et 1, et ainsi\n",
    "en flottant) en ayant fixé les objets déjà étudiés.\n",
    "\n",
    "3. Le test d'admissibilité permet de vérifier que l'on respecte bien les contraintes. Dans le programme donné, on vérifie que la modèlisation\n",
    "linéaire est faisable, qu'elle obtient bien une solution.\n",
    "   Le test d'Optimalité permet de vérifier qu'un résultat réalisable est plus optimal qu'un autre résultat dejà calculé étant réalisable.\n",
    "Dans le programme initiale, cet test correspond à vérifié si la borne supérieure est bien supérieure à un résultat réél (avec des valeurs entières)\n",
    "déjà trouvé.\n",
    "   Le test de résolution vérifie que la borne supérieur d'un état est égal à sa borne inférieur. Dans ce cas, cet état est la solution.\n",
    "\n",
    "4. Pour la stratégie d'exploration, le programme de base explore d'abord le cas où l'objet est présent (val = 1). Lorsque le noeud n'est pas\n",
    "sondable, on teste le noeud \"voisin\", lorsque l'objet n'est pas présent (val = 0). Et si ce noeud là n'est pas sondable, le programme remonte\n",
    "au cas précédent pour analyser le cas précédent où l'objet n'est pas présent. Le programme remonte jusqu'à trouver une branche sondable ou arriver à la racine."
   ]
  },
  {
   "cell_type": "code",
   "execution_count": 10,
   "metadata": {},
   "outputs": [
    {
     "name": "stdout",
     "output_type": "stream",
     "text": [
      "\n",
      "******\n",
      "\n",
      "Optimal value = 1894.0\n",
      "\n",
      "Nombre de nodes pour la borne 1 : "
     ]
    },
    {
     "name": "stdout",
     "output_type": "stream",
     "text": [
      "(2695,)\n",
      "\n",
      "******\n",
      "\n",
      "Optimal value = 1894.0\n",
      "\n",
      "Nombre de nodes pour la borne 2 : (2315,)\n"
     ]
    },
    {
     "name": "stdout",
     "output_type": "stream",
     "text": [
      "\n",
      "\n",
      "Profit identique : true\n",
      "Solution identique : true\n"
     ]
    }
   ],
   "source": [
    "BestProfit1, Bestsol1, trParentnodes, trChildnodes, trNamenodes1 = SolveKnapInstance(\"instancesETU/KNAPnewformat/strongly_correlated/knapPI_3_50_1000_1_-1894.opb.txt\", \"borne1\",false)\n",
    "println(\"\\n******\\n\\nOptimal value = \", BestProfit1)\n",
    "println(\"\\nNombre de nodes pour la borne 1 : \",size(trNamenodes1))\n",
    "BestProfit2, Bestsol2, trParentnodes, trChildnodes, trNamenodes2 = SolveKnapInstance(\"instancesETU/KNAPnewformat/strongly_correlated/knapPI_3_50_1000_1_-1894.opb.txt\", \"borne2\",false)\n",
    "println(\"\\n******\\n\\nOptimal value = \", BestProfit2)\n",
    "println(\"\\nNombre de nodes pour la borne 2 : \",size(trNamenodes2))\n",
    "println(\"\\n\\nProfit identique : \",BestProfit1==BestProfit2,\"\\nSolution identique : \",Bestsol1==Bestsol2)"
   ]
  },
  {
   "cell_type": "code",
   "execution_count": 12,
   "metadata": {},
   "outputs": [
    {
     "name": "stdout",
     "output_type": "stream",
     "text": [
      "\n",
      "******\n",
      "\n",
      "Optimal value = 997.0\n",
      "\n",
      "Nombre de nodes pour la borne 1 : (20029,)\n",
      "\n",
      "******\n",
      "\n",
      "Optimal value = "
     ]
    },
    {
     "name": "stdout",
     "output_type": "stream",
     "text": [
      "997.0\n",
      "\n",
      "Nombre de nodes pour la borne 2 : (20027,)\n",
      "\n",
      "\n",
      "Profit identique : true\n",
      "Solution identique : true\n"
     ]
    }
   ],
   "source": [
    "BestProfit1, Bestsol1, trParentnodes, trChildnodes, trNamenodes1 = SolveKnapInstance(\"instancesETU/KNAPnewformat/similar_weights/knapPI_9_100_1000_2_-997.opb.txt\", \"borne1\",false)\n",
    "println(\"\\n******\\n\\nOptimal value = \", BestProfit1)\n",
    "println(\"\\nNombre de nodes pour la borne 1 : \",size(trNamenodes1))\n",
    "BestProfit2, Bestsol2, trParentnodes, trChildnodes, trNamenodes2 = SolveKnapInstance(\"instancesETU/KNAPnewformat/similar_weights/knapPI_9_100_1000_2_-997.opb.txt\", \"borne2\",false)\n",
    "println(\"\\n******\\n\\nOptimal value = \", BestProfit2)\n",
    "println(\"\\nNombre de nodes pour la borne 2 : \",size(trNamenodes2))\n",
    "println(\"\\n\\nProfit identique : \",BestProfit1==BestProfit2,\"\\nSolution identique : \",Bestsol1==Bestsol2)"
   ]
  },
  {
   "cell_type": "code",
   "execution_count": 31,
   "metadata": {},
   "outputs": [
    {
     "name": "stdout",
     "output_type": "stream",
     "text": [
      "\n",
      "******\n",
      "\n",
      "Optimal value = 1514.0\n",
      "\n",
      "Nombre de nodes pour la borne 1 : (3731,)\n",
      "\n",
      "******\n",
      "\n",
      "Optimal value = "
     ]
    },
    {
     "name": "stdout",
     "output_type": "stream",
     "text": [
      "1514.0\n",
      "\n",
      "Nombre de nodes pour la borne 2 : (3487,)\n",
      "\n",
      "\n",
      "Profit identique : true\n",
      "Solution identique : true\n"
     ]
    }
   ],
   "source": [
    "BestProfit1, Bestsol1, trParentnodes, trChildnodes, trNamenodes1 = SolveKnapInstance(\"instancesETU/KNAPnewformat/weakly_correlated/knapPI_2_100_1000_1_-1514.opb.txt\", \"borne1\",false)\n",
    "println(\"\\n******\\n\\nOptimal value = \", BestProfit1)\n",
    "println(\"\\nNombre de nodes pour la borne 1 : \",size(trNamenodes1))\n",
    "BestProfit2, Bestsol2, trParentnodes, trChildnodes, trNamenodes2 = SolveKnapInstance(\"instancesETU/KNAPnewformat/weakly_correlated/knapPI_2_100_1000_1_-1514.opb.txt\", \"borne2\",false)\n",
    "println(\"\\n******\\n\\nOptimal value = \", BestProfit2)\n",
    "println(\"\\nNombre de nodes pour la borne 2 : \",size(trNamenodes2))\n",
    "println(\"\\n\\nProfit identique : \",BestProfit1==BestProfit2,\"\\nSolution identique : \",Bestsol1==Bestsol2)"
   ]
  },
  {
   "cell_type": "code",
   "execution_count": 32,
   "metadata": {},
   "outputs": [
    {
     "name": "stdout",
     "output_type": "stream",
     "text": [
      "\n",
      "******\n",
      "\n",
      "Optimal value = 2586.0\n",
      "\n",
      "Nombre de nodes pour la borne 1 : (303,)\n",
      "\n",
      "******\n",
      "\n",
      "Optimal value = 2586.0\n",
      "\n",
      "Nombre de nodes pour la borne 2 : (185,)\n",
      "\n",
      "\n",
      "Profit identique : true\n",
      "Solution identique : true\n"
     ]
    }
   ],
   "source": [
    "BestProfit1, Bestsol1, trParentnodes, trChildnodes, trNamenodes1 = SolveKnapInstance(\"instancesETU/KNAPnewformat/multiple_strongly_correlated/knapPI_14_50_1000_1_-2586.opb.txt\", \"borne1\",false)\n",
    "println(\"\\n******\\n\\nOptimal value = \", BestProfit1)\n",
    "println(\"\\nNombre de nodes pour la borne 1 : \",size(trNamenodes1))\n",
    "BestProfit2, Bestsol2, trParentnodes, trChildnodes, trNamenodes2 = SolveKnapInstance(\"instancesETU/KNAPnewformat/multiple_strongly_correlated/knapPI_14_50_1000_1_-2586.opb.txt\", \"borne2\",false)\n",
    "println(\"\\n******\\n\\nOptimal value = \", BestProfit2)\n",
    "println(\"\\nNombre de nodes pour la borne 2 : \",size(trNamenodes2))\n",
    "println(\"\\n\\nProfit identique : \",BestProfit1==BestProfit2,\"\\nSolution identique : \",Bestsol1==Bestsol2)"
   ]
  },
  {
   "cell_type": "code",
   "execution_count": 33,
   "metadata": {},
   "outputs": [
    {
     "name": "stdout",
     "output_type": "stream",
     "text": [
      "\n",
      "******\n",
      "\n",
      "Optimal value = 3408.0\n",
      "\n",
      "Nombre de nodes pour la borne 1 : (325,)\n",
      "\n",
      "******\n",
      "\n",
      "Optimal value = 3408.0\n",
      "\n",
      "Nombre de nodes pour la borne 2 : (201,)\n",
      "\n",
      "\n",
      "Profit identique : true\n",
      "Solution identique : false\n"
     ]
    }
   ],
   "source": [
    "BestProfit1, Bestsol2, trParentnodes, trChildnodes, trNamenodes1 = SolveKnapInstance(\"instancesETU/KNAPnewformat/circle/knapPI_16_50_1000_1_-3408.opb.txt\", \"borne1\",false)\n",
    "println(\"\\n******\\n\\nOptimal value = \", BestProfit1)\n",
    "println(\"\\nNombre de nodes pour la borne 1 : \",size(trNamenodes1))\n",
    "BestProfit2, Bestsol2, trParentnodes, trChildnodes, trNamenodes2 = SolveKnapInstance(\"instancesETU/KNAPnewformat/circle/knapPI_16_50_1000_1_-3408.opb.txt\", \"borne2\",false)\n",
    "println(\"\\n******\\n\\nOptimal value = \", BestProfit2)\n",
    "println(\"\\nNombre de nodes pour la borne 2 : \",size(trNamenodes2))\n",
    "println(\"\\n\\nProfit identique : \",BestProfit1==BestProfit2,\"\\nSolution identique : \",Bestsol1==Bestsol2)"
   ]
  },
  {
   "cell_type": "code",
   "execution_count": 45,
   "metadata": {},
   "outputs": [
    {
     "name": "stdout",
     "output_type": "stream",
     "text": [
      "\n",
      "******\n",
      "\n",
      "Optimal value = 1280.0\n",
      "\n",
      "Nombre de nodes pour la borne 1 : (18357,)\n",
      "\n",
      "******\n",
      "\n",
      "Optimal value = "
     ]
    },
    {
     "name": "stdout",
     "output_type": "stream",
     "text": [
      "1280.0\n",
      "\n",
      "Nombre de nodes pour la borne 2 : (18357,)\n",
      "\n",
      "\n",
      "Profit identique : true\n",
      "Solution identique : false\n"
     ]
    }
   ],
   "source": [
    "BestProfit1, Bestsol2, trParentnodes, trChildnodes, trNamenodes1 = SolveKnapInstance(\"instancesETU/KNAPnewformat/inverse_strongly_correlated/knapPI_4_50_1000_5_-1278.opb.txt\", \"borne1\",false)\n",
    "println(\"\\n******\\n\\nOptimal value = \", BestProfit1)\n",
    "println(\"\\nNombre de nodes pour la borne 1 : \",size(trNamenodes1))\n",
    "BestProfit2, Bestsol2, trParentnodes, trChildnodes, trNamenodes2 = SolveKnapInstance(\"instancesETU/KNAPnewformat/inverse_strongly_correlated/knapPI_4_50_1000_5_-1278.opb.txt\", \"borne2\",false)\n",
    "println(\"\\n******\\n\\nOptimal value = \", BestProfit2)\n",
    "println(\"\\nNombre de nodes pour la borne 2 : \",size(trNamenodes2))\n",
    "println(\"\\n\\nProfit identique : \",BestProfit1==BestProfit2,\"\\nSolution identique : \",Bestsol1==Bestsol2)"
   ]
  },
  {
   "cell_type": "code",
   "execution_count": 46,
   "metadata": {},
   "outputs": [
    {
     "name": "stdout",
     "output_type": "stream",
     "text": [
      "\n",
      "******\n",
      "\n",
      "Optimal value = 4400.0\n",
      "\n",
      "Nombre de nodes pour la borne 1 : (22079,)\n",
      "\n",
      "******\n",
      "\n",
      "Optimal value = "
     ]
    },
    {
     "name": "stdout",
     "output_type": "stream",
     "text": [
      "4400.0\n",
      "\n",
      "Nombre de nodes pour la borne 2 : (20395,)\n",
      "\n",
      "\n",
      "Profit identique : true\n",
      "Solution identique : false\n"
     ]
    }
   ],
   "source": [
    "BestProfit1, Bestsol2, trParentnodes, trChildnodes, trNamenodes1 = SolveKnapInstance(\"instancesETU/KNAPnewformat/circle/knapPI_16_100_1000_1_-4400.opb.txt\", \"borne1\",false)\n",
    "println(\"\\n******\\n\\nOptimal value = \", BestProfit1)\n",
    "println(\"\\nNombre de nodes pour la borne 1 : \",size(trNamenodes1))\n",
    "BestProfit2, Bestsol2, trParentnodes, trChildnodes, trNamenodes2 = SolveKnapInstance(\"instancesETU/KNAPnewformat/circle/knapPI_16_100_1000_1_-4400.opb.txt\", \"borne2\",false)\n",
    "println(\"\\n******\\n\\nOptimal value = \", BestProfit2)\n",
    "println(\"\\nNombre de nodes pour la borne 2 : \",size(trNamenodes2))\n",
    "println(\"\\n\\nProfit identique : \",BestProfit1==BestProfit2,\"\\nSolution identique : \",Bestsol1==Bestsol2)"
   ]
  },
  {
   "cell_type": "code",
   "execution_count": 47,
   "metadata": {},
   "outputs": [
    {
     "ename": "ErrorException",
     "evalue": "syntax: extra token \"borne\" after end of expression",
     "output_type": "error",
     "traceback": [
      "syntax: extra token \"borne\" after end of expression\n",
      "\n",
      "Stacktrace:\n",
      " [1] top-level scope\n",
      "   @ ~/Enseeiht/S7/RechOp/TPs/instancesETU/KnapsackNEW_ETU.ipynb:1"
     ]
    }
   ],
   "source": [
    "La borne 2 donne une borne supérieur plus proche de la solution que la borne 1 car il n'ajoute que des objets entiers (sauf pour le dernier pour atteindre la \n",
    "quantité maximale) qui sont triés par ordre de rentabilité (prix/poids) comme pour le choix des objets étudiés à chaque noeuds. De ce fait, il est logique \n",
    "qu'avec la borne 2, on arrive plus rapidement à la solution optimale qu'avec la borne 1. Dans les 5 tests réalisés précédements, on peut observer qu'avec \n",
    "la borne 2, on obtient moins de noeuds qu'avec la borne 1 pour un même profit, ce qui indique une exécution théoriquement plus rapide car moins de tests, \n",
    "ni de calculs de bornes sont réalisés.\n",
    "De plus, on peut remarquer dans les tests récupérés dans le dossier \"circle\", on obtient des solutions différentes pour des mêmes profits \n",
    "optimaux, ce qui montre que l'exécution est différente avec ces deux bornes.\n",
    "\n",
    "Pour des raisons de temps de calcul, les tests avec des matrices"
   ]
  },
  {
   "cell_type": "code",
   "execution_count": 48,
   "metadata": {},
   "outputs": [
    {
     "name": "stdout",
     "output_type": "stream",
     "text": [
      "\n",
      "******\n",
      "\n",
      "Optimal value = 40986.0\n",
      "\n",
      "Nombre de nodes pour la borne 1 : (1030173,)\n",
      "\n",
      "******\n",
      "\n",
      "Optimal value = "
     ]
    },
    {
     "name": "stdout",
     "output_type": "stream",
     "text": [
      "40986.0\n",
      "\n",
      "Nombre de nodes pour la borne 2 : (52389,)\n",
      "\n",
      "\n",
      "Profit identique : true\n",
      "Solution identique : false\n"
     ]
    }
   ],
   "source": [
    "BestProfit1, Bestsol2, trParentnodes, trChildnodes, trNamenodes1 = SolveKnapInstance(\"instancesETU/KNAPnewformat/almost_strongly_correlated/knapPI_5_50_10000_5_-22000.opb.txt\", \"borne1\",false)\n",
    "println(\"\\n******\\n\\nOptimal value = \", BestProfit1)\n",
    "println(\"\\nNombre de nodes pour la borne 1 : \",size(trNamenodes1))\n",
    "BestProfit2, Bestsol2, trParentnodes, trChildnodes, trNamenodes2 = SolveKnapInstance(\"instancesETU/KNAPnewformat/almost_strongly_correlated/knapPI_5_50_10000_5_-22000.opb.txt\", \"borne2\",false)\n",
    "println(\"\\n******\\n\\nOptimal value = \", BestProfit2)\n",
    "println(\"\\nNombre de nodes pour la borne 2 : \",size(trNamenodes2))\n",
    "println(\"\\n\\nProfit identique : \",BestProfit1==BestProfit2,\"\\nSolution identique : \",Bestsol1==Bestsol2)"
   ]
  },
  {
   "cell_type": "code",
   "execution_count": 70,
   "metadata": {},
   "outputs": [
    {
     "name": "stdout",
     "output_type": "stream",
     "text": [
      "\n",
      "Nombre d'élément dans la solution borne 1 :(23,)\n",
      "\n",
      "Nombre d'élément dans la solution borne 2 :(250,)\n",
      "\n",
      "Nombre d'élément dans le cas :(250,)\n"
     ]
    }
   ],
   "source": [
    "println(\"\\nNombre d'élément dans la solution borne 1 :\",size(Bestsol1))\n",
    "println(\"\\nNombre d'élément dans la solution borne 2 :\",size(Bestsol2))\n",
    "price, weight, capacity = readKnaptxtInstance(\"instancesETU/KNAPnewformat/almost_strongly_correlated/knapPI_5_50_10000_5_-22000.opb.txt\")\n",
    "println(\"\\nNombre d'élément dans le cas :\",size(price))\n"
   ]
  },
  {
   "cell_type": "code",
   "execution_count": 72,
   "metadata": {},
   "outputs": [
    {
     "ename": "ErrorException",
     "evalue": "syntax: extra token \"plus\" after end of expression",
     "output_type": "error",
     "traceback": [
      "syntax: extra token \"plus\" after end of expression\n",
      "\n",
      "Stacktrace:\n",
      " [1] top-level scope\n",
      "   @ ~/Enseeiht/S7/RechOp/TPs/instancesETU/KnapsackNEW_ETU.ipynb:1"
     ]
    }
   ],
   "source": [
    "De plus, en appliquant certaines instances comme \"almost_strongly_correlated\", on obtient un profit plus obtimal que celui attendu par l'exemple. En effet,\n",
    "dans le cas ci-dessus, on s'attend à avoir un profit de 22000 mais on obtient un proft de 40986. Ne sachant pas comment l'attente à été déterminer, il est \n",
    "compliqué de déterminer la cause. Mais au vu de la taille des solutions, on peut conclure que la borne 1 n'a pas abouti alors qu'elle renvoie un profit \n",
    "équivalent à la borne 2, qui elle semble avoir abouti."
   ]
  },
  {
   "cell_type": "code",
   "execution_count": 73,
   "metadata": {},
   "outputs": [],
   "source": [
    "Nous n'avons pas pu essayer des tailles trop importantes car les temps de calculs étaient trop long, ce qui fait que pour certains cas, la différence entre \n",
    "la borne 1 et la borne 2 n'est pas flagrante à cause de la faible quantité de donnée."
   ]
  }
 ],
 "metadata": {
  "kernelspec": {
   "display_name": "Julia 1.8.2",
   "language": "julia",
   "name": "julia-1.8"
  },
  "language_info": {
   "file_extension": ".jl",
   "mimetype": "application/julia",
   "name": "julia",
   "version": "1.8.2"
  }
 },
 "nbformat": 4,
 "nbformat_minor": 4
}
