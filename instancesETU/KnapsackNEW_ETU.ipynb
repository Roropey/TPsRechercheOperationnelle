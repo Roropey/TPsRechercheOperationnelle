{
 "cells": [
  {
   "attachments": {},
   "cell_type": "markdown",
   "metadata": {},
   "source": [
    "# TP 2 : Branch-and-bound applied to a knapsack problem"
   ]
  },
  {
   "cell_type": "markdown",
   "metadata": {},
   "source": [
    "### Initialisation (à faire une seule fois)"
   ]
  },
  {
   "cell_type": "code",
   "execution_count": 10,
   "metadata": {},
   "outputs": [
    {
     "name": "stderr",
     "output_type": "stream",
     "text": [
      "\u001b[32m\u001b[1m    Updating\u001b[22m\u001b[39m registry at `C:\\Users\\Lucas\\.julia\\registries\\General.toml`"
     ]
    },
    {
     "name": "stderr",
     "output_type": "stream",
     "text": [
      "\n",
      "\u001b[32m\u001b[1m   Resolving\u001b[22m\u001b[39m package versions..."
     ]
    },
    {
     "name": "stderr",
     "output_type": "stream",
     "text": [
      "\n",
      "\u001b[32m\u001b[1m  No Changes\u001b[22m\u001b[39m to `C:\\Users\\Lucas\\.julia\\environments\\v1.8\\Project.toml`\n",
      "\u001b[32m\u001b[1m  No Changes\u001b[22m\u001b[39m to `C:\\Users\\Lucas\\.julia\\environments\\v1.8\\Manifest.toml`"
     ]
    },
    {
     "name": "stderr",
     "output_type": "stream",
     "text": [
      "\n"
     ]
    },
    {
     "name": "stderr",
     "output_type": "stream",
     "text": [
      "\u001b[32m\u001b[1m   Resolving\u001b[22m\u001b[39m package versions..."
     ]
    },
    {
     "name": "stderr",
     "output_type": "stream",
     "text": [
      "\n",
      "\u001b[32m\u001b[1m  No Changes\u001b[22m\u001b[39m to `C:\\Users\\Lucas\\.julia\\environments\\v1.8\\Project.toml`\n",
      "\u001b[32m\u001b[1m  No Changes\u001b[22m\u001b[39m to `C:\\Users\\Lucas\\.julia\\environments\\v1.8\\Manifest.toml`\n"
     ]
    }
   ],
   "source": [
    "import Pkg; \n",
    "Pkg.add(\"GraphRecipes\"); Pkg.add(\"Plots\"); \n",
    "using GraphRecipes, Plots #only used to visualize the search tree at the end of the branch-and-bound"
   ]
  },
  {
   "cell_type": "markdown",
   "metadata": {},
   "source": [
    "### Récupération des données"
   ]
  },
  {
   "cell_type": "code",
   "execution_count": 11,
   "metadata": {},
   "outputs": [
    {
     "data": {
      "text/plain": [
       "readKnaptxtInstance (generic function with 1 method)"
      ]
     },
     "metadata": {},
     "output_type": "display_data"
    }
   ],
   "source": [
    "function readKnaptxtInstance(filename)\n",
    "    price=[]\n",
    "    weight=[]\n",
    "    KnapCap=[]\n",
    "    open(filename) do f\n",
    "        for i in 1:3\n",
    "            tok = split(readline(f))\n",
    "            if(tok[1] == \"ListPrices=\")\n",
    "                for i in 2:(length(tok)-1)\n",
    "                    push!(price,parse(Int64, tok[i]))\n",
    "                end\n",
    "            elseif(tok[1] == \"ListWeights=\")\n",
    "                for i in 2:(length(tok)-1)\n",
    "                    push!(weight,parse(Int64, tok[i]))\n",
    "                end\n",
    "            elseif(tok[1] == \"Capacity=\")\n",
    "                push!(KnapCap, parse(Int64, tok[2]))\n",
    "            else\n",
    "                println(\"Unknown read :\", tok)\n",
    "            end \n",
    "        end\n",
    "    end\n",
    "    capacity=KnapCap[1]\n",
    "    return price, weight, capacity\n",
    "end"
   ]
  },
  {
   "cell_type": "markdown",
   "metadata": {},
   "source": [
    "### Tests de sondabilités TA, TO et TR basés sur le modèle linéaire"
   ]
  },
  {
   "cell_type": "code",
   "execution_count": 168,
   "metadata": {},
   "outputs": [
    {
     "data": {
      "text/plain": [
       "TestsSondabilite (generic function with 1 method)"
      ]
     },
     "metadata": {},
     "output_type": "display_data"
    }
   ],
   "source": [
    "# function TestsSondabilite_LP(model2, x, BestProfit, Bestsol)\n",
    "#     TA, TO, TR = false, false, false\n",
    "#     if(termination_status(model2) == MOI.INFEASIBLE)#Test de faisabilite\n",
    "#         TA=true\n",
    "#         println(\"TA\")\n",
    "#     elseif(objective_value(model2) <= BestProfit) #Test d'optimalite\n",
    "#         TO=true\n",
    "#         println(\"TO\")\n",
    "#     elseif( prod(abs.([round.(v, digits=0) for v in value.(x)]-value.(x)) .<= fill(10^-5, size(x))) \n",
    "#         ) #Test de resolution\n",
    "#         TR=true\n",
    "#         println(\"TR\")\n",
    "#         #if (value(benef) >= BestProfit)\n",
    "#         if (objective_value(model2) >= BestProfit)\n",
    "#             Bestsol = value.(x)\n",
    "#             #BestProfit=value(benef)\n",
    "#             BestProfit=objective_value(model2)\n",
    "#             println(\"\\nNew Solution memorized \", Bestsol, \" with bestprofit \", BestProfit, \"\\n\")\n",
    "#         end\n",
    "#     else\n",
    "#         println(\"non sondable\")\n",
    "#     end\n",
    "#     TA, TO, TR, Bestsol, BestProfit\n",
    "# end\n",
    "\n",
    "\n",
    "function TestsSondabilite(listobjs, listvals, price, weight, capacity, borneinf, bornesup, BestProfit, Bestsol)\n",
    "    TA, TO, TR = false, false, false\n",
    "    \n",
    "    current_weight = 0\n",
    "    current_price = 0\n",
    "    for i in 1:length(listobjs)\n",
    "        if listvals[i] == 1\n",
    "            current_weight += weight[listobjs[i]]\n",
    "            current_price += price[listobjs[i]]\n",
    "        end\n",
    "               \n",
    "    end\n",
    "\n",
    "    if current_weight > capacity  # Test d'Admissibilité\n",
    "        TA = true\n",
    "        println(\"TA\")\n",
    "    elseif (bornesup < BestProfit)  # Test d'optimalite\n",
    "        TO = true\n",
    "        println(\"TO\")\n",
    "    elseif borneinf == bornesup # Test de resolution\n",
    "        TR = true\n",
    "        println(\"TR\")\n",
    "        if bornesup >= BestProfit\n",
    "            Bestsol = copy(listobjs)\n",
    "            BestProfit = bornesup\n",
    "            println(\"\\nNew Solution memorized \", Bestsol, \" with bestprofit \", BestProfit, \"\\n\")\n",
    "        end\n",
    "    else\n",
    "        println(\"non sondable\")\n",
    "    end\n",
    "    return TA, TO, TR, Bestsol, BestProfit\n",
    "end\n",
    "\n",
    "\n",
    "\n",
    "    "
   ]
  },
  {
   "cell_type": "markdown",
   "metadata": {},
   "source": [
    "## Procédure de séparation (branching) et stratégie d'exploration permettant de se placer au prochain noeud à traiter"
   ]
  },
  {
   "cell_type": "code",
   "execution_count": 85,
   "metadata": {},
   "outputs": [
    {
     "data": {
      "text/plain": [
       "ExplorerAutreNoeud_depthfirst! (generic function with 1 method)"
      ]
     },
     "metadata": {},
     "output_type": "display_data"
    }
   ],
   "source": [
    "function SeparerNoeud_lexicographic_depthfirst!(listobjs, listvals, n,  price, weight)\n",
    "    # this node is non-sondable. Apply the branching criterion to separate it into two subnodes\n",
    "    # and choose the child-node at the left  \n",
    "    \n",
    "    # lexicographic branching criterion: branch on the 1st object not yet fixed\n",
    "    i, obj, maxr = 1, 0, -1.0\n",
    "    while((i <= n))\n",
    "        if (!(i in listobjs)) && ((price[i]/weight[i]) >= maxr)\n",
    "            maxr = (price[i]/weight[i])\n",
    "            obj = i\n",
    "        end        \n",
    "        i+=1\n",
    "    end\n",
    "    \n",
    "    println(\"\\nbranch on object \", obj, \"\\n\")\n",
    "\n",
    "    # depthfirst exploration strategy: the node selected will be the most left of the child-nodes just created\n",
    "    push!(listobjs,obj) #save the identity of the object selected for branching\n",
    "    push!(listvals,1.0) #save the node selected, identified by the value assigned to the variable/object chosen\n",
    "end\n",
    "\n",
    "\n",
    "function ExplorerAutreNoeud_depthfirst!(listobjs, listvals, listnodes)\n",
    "    #this node is sondable, go back to parent node then right child if possible\n",
    "    \n",
    "    stop=false\n",
    "    #check if we are not at the root node\n",
    "    if (length(listobjs)>= 1)\n",
    "        #go back to parent node\n",
    "        obj=pop!(listobjs)\n",
    "        theval=pop!(listvals)\n",
    "        tmp=pop!(listnodes)\n",
    "\n",
    "        #go to right child if possible, otherwise go back to parent\n",
    "        while( (theval==0.0) && (length(listobjs)>= 1))\n",
    "            obj=pop!(listobjs)\n",
    "            theval=pop!(listvals)\n",
    "            tmp=pop!(listnodes)\n",
    "        end\n",
    "        if theval==1.0\n",
    "            push!(listobjs,obj)\n",
    "            push!(listvals,0.0)\n",
    "        else\n",
    "            println(\"\\nFINISHED\")\n",
    "            stop=true\n",
    "        end\n",
    "    else\n",
    "        #the root node was sondable\n",
    "        println(\"\\nFINISHED\")\n",
    "        stop=true\n",
    "    end\n",
    "    return stop \n",
    "end"
   ]
  },
  {
   "cell_type": "markdown",
   "metadata": {},
   "source": [
    "###  Création de la relaxation linéaire (= modèle associé au noeud 0): <span style=\"color:red\"> SECTION A SUPPRIMER !!!! </span>\n",
    "\n",
    "<span style=\"color:red\"> Cette section est à commenter/supprimer et remplacer par vos propres calculs de bornes supérieures et autres, par exemple basées sur les bornes 1 et 2 vues en cours, ou d'autres calculs de bornes de votre choix/conception validés au préalable par votre encadrant/e de TP </span>"
   ]
  },
  {
   "cell_type": "code",
   "execution_count": 163,
   "metadata": {},
   "outputs": [
    {
     "data": {
      "text/plain": [
       "Bornes_2! (generic function with 2 methods)"
      ]
     },
     "metadata": {},
     "output_type": "display_data"
    }
   ],
   "source": [
    "#=Pkg.add(\"Clp\");\n",
    "Pkg.add(\"JuMP\");\n",
    "using JuMP, Clp\n",
    "\n",
    "function MajModele_LP!(model2, x, listobjs, listvals)\n",
    "    for i in 1:length(listobjs)\n",
    "        set_lower_bound(x[listobjs[i]],listvals[i])\n",
    "        set_upper_bound(x[listobjs[i]],listvals[i])\n",
    "    end\n",
    "end\n",
    "\n",
    "function Reset_LP!(model2, x, listobjs)\n",
    "    for i in 1:length(listobjs)\n",
    "        set_lower_bound(x[listobjs[i]],0.0)\n",
    "        set_upper_bound(x[listobjs[i]],1.0)\n",
    "    end\n",
    "end\n",
    "\n",
    "function Reset_allLP!(model2, x)\n",
    "    for i in 1:length(x)\n",
    "        set_lower_bound(x[i],0.0)\n",
    "        set_upper_bound(x[i],1.0)\n",
    "    end\n",
    "end\n",
    "\n",
    "function CreationModele_LP(price, weight, capacity),\n",
    "# ROOT NODE\n",
    "    \n",
    "    n=length(price)\n",
    "    \n",
    "    model2 = Model(Clp.Optimizer) # set optimizer\n",
    "    set_optimizer_attribute(model2, \"LogLevel\", 0) #don't display anything during solve\n",
    "    set_optimizer_attribute(model2, \"Algorithm\", 4) #LP solver chosen is simplex\n",
    "\n",
    "    # define x variables as CONTINUOUS (recall that it is not possible to define binary variables in Clp)\n",
    "    @variable(model2, 0 <= x[i in 1:n] <= 1)\n",
    "\n",
    "    # define objective function\n",
    "    @objective(model2, Max, sum(price[i]*x[i] for i in 1:n))\n",
    "\n",
    "    # define the capacity constraint \n",
    "    @constraint(model2, sum(weight[i]*x[i] for i in 1:n) <=  capacity)\n",
    "\n",
    "    println(model2) \n",
    "\n",
    "    return model2, x\n",
    "end=#\n",
    "\n",
    "\n",
    "function Bornes_1!(price, weight, capacity, listobjs, listvals)\n",
    "    \n",
    "    placeDispo, prixEnCours, obj, maxr = capacity, 0.0, 0, -1.0\n",
    "    for i in 1:length(listobjs)\n",
    "        if listvals[i] == 1\n",
    "            placeDispo -= weight[listobjs[i]]\n",
    "            prixEnCours += price[listobjs[i]]\n",
    "        end\n",
    "    end \n",
    "\n",
    "    if (length(listobjs) < length(price))\n",
    "        for i in 1:length(price)\n",
    "            if (!(i in listobjs)) && ((price[i]/weight[i]) >= maxr)\n",
    "                maxr = (price[i]/weight[i])\n",
    "                obj = i\n",
    "            end\n",
    "        end\n",
    "        facteurObj = placeDispo/weight[obj]\n",
    "\n",
    "        borneinf, bornesup = prixEnCours, (prixEnCours+facteurObj*price[obj])\n",
    "    else \n",
    "        borneinf, bornesup = prixEnCours, prixEnCours\n",
    "    end\n",
    "    return borneinf, bornesup\n",
    "\n",
    "end\n",
    "\n",
    "function Bornes_2!(price, weight, capacity, listobjs, listvals)\n",
    "    placeDispo, prixEnCours, listeAjoutee, obj = capacity, 0.0, [], -1\n",
    "    for i in 1:length(listobjs)\n",
    "        if listvals[i] == 1\n",
    "            placeDispo -= weight[listobjs[i]]\n",
    "            prixEnCours += price[listobjs[i]]\n",
    "        end\n",
    "    end\n",
    "    \n",
    "    if (length(listobjs) < length(price)) && (placeDispo > 0)\n",
    "        prixMax = prixEnCours\n",
    "        while (placeDispo > 0) && ((length(listobjs) + length(listeAjoutee)) < length(price)) \n",
    "            maxr, obj = -1.0, 0\n",
    "            for i in 1:length(price)\n",
    "                if (!(i in listobjs)) && (!(i in listeAjoutee)) && ((price[i]/weight[i]) >= maxr)\n",
    "                    maxr = (price[i]/weight[i])\n",
    "                    obj = i\n",
    "                end\n",
    "            end\n",
    "            push!(listeAjoutee,obj)\n",
    "\n",
    "            placeDispo -= weight[obj]\n",
    "            prixMax += price[obj]\n",
    "        end\n",
    "        \n",
    "        if placeDispo < 0    \n",
    "            placeDispo += weight[obj]\n",
    "            prixMax -= price[obj]\n",
    "        end\n",
    "        \n",
    "        facteurObj = placeDispo/weight[obj]  \n",
    "        return prixEnCours,prixMax+price[obj]*facteurObj\n",
    "    else\n",
    "        return prixEnCours, prixEnCours\n",
    "    end\n",
    "end\n"
   ]
  },
  {
   "cell_type": "markdown",
   "metadata": {},
   "source": [
    "### Boucle principale : résoudre une relaxation, appliquer les tests de sondabilité, identifier le prochain noeud, répéter."
   ]
  },
  {
   "cell_type": "code",
   "execution_count": 173,
   "metadata": {},
   "outputs": [
    {
     "data": {
      "text/plain": [
       "SolveKnapInstance (generic function with 1 method)"
      ]
     },
     "metadata": {},
     "output_type": "display_data"
    }
   ],
   "source": [
    "\n",
    "function SolveKnapInstance(filename, borne)\n",
    "\n",
    "    price, weight, capacity = readKnaptxtInstance(filename)\n",
    "\n",
    "    #model2, x = CreationModele_LP(price, weight, capacity)\n",
    "\n",
    "    #create the structure to memorize the search tree for visualization at the end\n",
    "    trParentnodes=Int64[] #will store orig node of arc in search tree\n",
    "    trChildnodes=Int64[] #will store destination node of arc in search tree\n",
    "    trNamenodes=[] #will store names of nodes in search tree\n",
    "\n",
    "    #intermediate structure to navigate in the search tree\n",
    "    listobjs=[]\n",
    "    listvals=[]\n",
    "    listnodes=[]\n",
    "\n",
    "    BestProfit=-1\n",
    "    Bestsol=[]\n",
    "\n",
    "    current_node_number=0\n",
    "    stop = false\n",
    "\n",
    "    while(!stop)\n",
    "\n",
    "        println(\"\\nNode number \", current_node_number, \": \\n---------------\\n\")\n",
    "\n",
    "        #Update the graphical tree\n",
    "        push!(trNamenodes,current_node_number+1) \n",
    "        if(length(trNamenodes)>=2)\n",
    "            push!(trParentnodes,listnodes[end]+1) # +1 because the 1st node is \"node 0\"\n",
    "            push!(trChildnodes, current_node_number+1) # +1 because the 1st node is \"node 0\"\n",
    "        end\n",
    "        push!(listnodes, current_node_number)\n",
    "\n",
    "        #=\n",
    "        #create LP of current node\n",
    "        MajModele_LP!(model2, x, listobjs, listvals)\n",
    "        \n",
    "        println(model2)\n",
    "        \n",
    "        print(\"Solve the LP model of the current node to compute its bound: start ... \")\n",
    "\n",
    "        status = optimize!(model2)\n",
    "\n",
    "        println(\"... end\"); \n",
    "\n",
    "        print(\": Solution LP\")\n",
    "        if(termination_status(model2) == MOI.INFEASIBLE)#(has_values(model2))\n",
    "            print(\" : NOT AVAILABLE (probably infeasible or ressources limit reached)\")\n",
    "        else\n",
    "            print(\" \", objective_value(model2))\n",
    "            [print(\"\\t\", name(v),\"=\",value(v)) for v in all_variables(model2)] \n",
    "        end\n",
    "        println(\" \"); \n",
    "\n",
    "        =#\n",
    "\n",
    "        #println(\"listobjs, listvals, listnodes\", listobjs, listvals, listnodes)\n",
    "        #Calcul des bornes\n",
    "        if borne == \"borne1\"\n",
    "            borneinf, bornesup = Bornes_1!(price, weight, capacity, listobjs, listvals)\n",
    "        else borne == \"borne2\"\n",
    "            borneinf, bornesup = Bornes_2!(price, weight, capacity, listobjs, listvals)\n",
    "        end\n",
    "        println(\"bornes :\", [borneinf, bornesup])\n",
    "        println(\"\\nPrevious Solution memorized \", Bestsol, \" with bestprofit \", BestProfit, \"\\n\")\n",
    "\n",
    "        \n",
    "        TA, TO, TR, Bestsol, BestProfit = TestsSondabilite(listobjs, listvals, price, weight, capacity, borneinf, bornesup, BestProfit, Bestsol)\n",
    "        \n",
    "        is_node_sondable = TA || TO || TR\n",
    "\n",
    "        #Reset_LP!(model2, x, listobjs)\n",
    "\n",
    "        \n",
    "        if(!is_node_sondable)\n",
    "            SeparerNoeud_lexicographic_depthfirst!(listobjs, listvals, length(price), price, weight)\n",
    "        else\n",
    "            stop = ExplorerAutreNoeud_depthfirst!(listobjs, listvals, listnodes)        \n",
    "        end\n",
    "        \n",
    "        \n",
    "        \n",
    "        #Reset_allLP!(model2, x)\n",
    "\n",
    "        current_node_number = current_node_number + 1\n",
    "    end\n",
    "\n",
    "    println(\"\\n******\\n\\nOptimal value = \", BestProfit, \"\\n\\nOptimal x=\", Bestsol)\n",
    "\n",
    "    return BestProfit, Bestsol, trParentnodes, trChildnodes, trNamenodes\n",
    "\n",
    "end\n"
   ]
  },
  {
   "cell_type": "markdown",
   "metadata": {},
   "source": [
    "### Affichage du résultat final"
   ]
  },
  {
   "cell_type": "code",
   "execution_count": 174,
   "metadata": {},
   "outputs": [
    {
     "name": "stdout",
     "output_type": "stream",
     "text": [
      "\n",
      "Node number 0: \n",
      "---------------\n",
      "\n",
      "bornes :[0.0, 100.0]\n",
      "\n",
      "Previous Solution memorized Any[] with bestprofit -1\n",
      "\n",
      "non sondable\n",
      "\n",
      "branch on object 2\n",
      "\n"
     ]
    },
    {
     "name": "stdout",
     "output_type": "stream",
     "text": [
      "\n",
      "Node number 1: \n",
      "---------------\n",
      "\n",
      "bornes :[40.0, 76.0]\n",
      "\n",
      "Previous Solution memorized Any[] with bestprofit -1\n",
      "\n",
      "non sondable\n",
      "\n",
      "branch on object 1\n",
      "\n",
      "\n",
      "Node number 2: \n",
      "---------------\n",
      "\n",
      "bornes :[82.0, 77.0]\n",
      "\n",
      "Previous Solution memorized Any[] with bestprofit -1\n",
      "\n",
      "TA\n",
      "\n",
      "Node number 3: \n",
      "---------------\n",
      "\n",
      "bornes :[40.0, 70.0]\n",
      "\n",
      "Previous Solution memorized Any[] with bestprofit -1\n",
      "\n",
      "non sondable\n",
      "\n",
      "branch on object 4\n",
      "\n",
      "\n",
      "Node number 4: \n",
      "---------------\n",
      "\n",
      "bornes :[65.0, 69.0]\n",
      "\n",
      "Previous Solution memorized Any[] with bestprofit -1\n",
      "\n",
      "non sondable\n",
      "\n",
      "branch on object 3\n",
      "\n",
      "\n",
      "Node number 5: \n",
      "---------------\n",
      "\n",
      "bornes :"
     ]
    },
    {
     "name": "stdout",
     "output_type": "stream",
     "text": [
      "[77.0, 77.0]\n",
      "\n",
      "Previous Solution memorized Any[] with bestprofit -1\n",
      "\n",
      "TA\n",
      "\n",
      "Node number 6: \n",
      "---------------\n",
      "\n",
      "bornes :[65.0, 65.0]\n",
      "\n",
      "Previous Solution memorized Any[] with bestprofit -1\n",
      "\n",
      "TR\n",
      "\n",
      "New Solution memorized Any[2, 1, 4, 3] with bestprofit 65.0\n",
      "\n",
      "\n",
      "Node number 7: \n",
      "---------------\n",
      "\n",
      "bornes :[40.0, 64.0]\n",
      "\n",
      "Previous Solution memorized Any[2, 1, 4, 3] with bestprofit 65.0\n",
      "\n",
      "TO\n",
      "\n",
      "Node number 8: \n",
      "---------------\n"
     ]
    },
    {
     "name": "stdout",
     "output_type": "stream",
     "text": [
      "\n",
      "bornes :[0.0, 60.0]\n",
      "\n",
      "Previous Solution memorized Any[2, 1, 4, 3] with bestprofit 65.0\n",
      "\n",
      "TO\n",
      "\n",
      "FINISHED\n",
      "\n",
      "******\n",
      "\n",
      "Optimal value = 65.0\n",
      "\n",
      "Optimal x=Any[2, 1, 4, 3]\n",
      "\n",
      "******\n",
      "\n",
      "Optimal value = 65.0\n",
      "\n",
      "Optimal x=Any[2, 1, 4, 3]\n"
     ]
    },
    {
     "data": {
      "image/png": "[encoded data removed]",
      "image/svg+xml": "<?xml version=\"1.0\" encoding=\"utf-8\"?>\n<svg xmlns=\"http://www.w3.org/2000/svg\" xmlns:xlink=\"http://www.w3.org/1999/xlink\" width=\"600\" height=\"400\" viewBox=\"0 0 2400 1600\">\n<defs>\n  <clipPath id=\"clip940\">\n    <rect x=\"0\" y=\"0\" width=\"2400\" height=\"1600\"/>\n  </clipPath>\n</defs>\n<path clip-path=\"url(#clip940)\" d=\"\nM0 1600 L2400 1600 L2400 0 L0 0  Z\n  \" fill=\"#ffffff\" fill-rule=\"evenodd\" fill-opacity=\"1\"/>\n<defs>\n  <clipPath id=\"clip941\">\n    <rect x=\"480\" y=\"0\" width=\"1681\" height=\"1600\"/>\n  </clipPath>\n</defs>\n<path clip-path=\"url(#clip940)\" d=\"\nM447.244 1552.76 L1952.76 1552.76 L1952.76 47.2441 L447.244 47.2441  Z\n  \" fill=\"#ffffff\" fill-rule=\"evenodd\" fill-opacity=\"1\"/>\n<defs>\n  <clipPath id=\"clip942\">\n    <rect x=\"447\" y=\"47\" width=\"1507\" height=\"1507\"/>\n  </clipPath>\n</defs>\n<polyline clip-path=\"url(#clip942)\" style=\"stroke:#000000; stroke-linecap:round; stroke-linejoin:round; stroke-width:4; stroke-opacity:1; fill:none\" points=\"\n  1119.79,262.317 1120.65,274.584 1123.15,286.554 1127.16,298.248 1132.56,309.689 1139.24,320.898 1147.07,331.899 1155.93,342.712 1165.7,353.36 1176.25,363.864 \n  1187.48,374.248 1199.24,384.532 1211.44,394.74 1223.93,404.892 1236.61,415.011 1249.35,425.119 1262.03,435.238 1274.52,445.391 1286.71,455.598 1298.48,465.882 \n  1309.71,476.266 1320.26,486.771 1330.03,497.419 1338.89,508.232 1346.72,519.232 1353.4,530.441 1358.8,541.882 1362.81,553.577 1365.31,565.546 1366.16,577.813 \n  \n  \"/>\n<polyline clip-path=\"url(#clip942)\" style=\"stroke:#000000; stroke-linecap:round; stroke-linejoin:round; stroke-width:4; stroke-opacity:1; fill:none\" points=\"\n  1366.16,577.813 1367.46,586.401 1371.22,594.418 1377.27,601.907 1385.42,608.91 1395.49,615.469 1407.29,621.626 1420.65,627.424 1435.38,632.905 1451.3,638.112 \n  1468.23,643.085 1485.97,647.869 1504.36,652.505 1523.2,657.035 1542.32,661.501 1561.53,665.947 1580.65,670.413 1599.49,674.943 1617.87,679.579 1635.62,684.362 \n  1652.55,689.336 1668.46,694.543 1683.19,700.024 1696.55,705.822 1708.36,711.979 1718.43,718.538 1726.58,725.541 1732.63,733.03 1736.39,741.047 1737.68,749.635 \n  \n  \"/>\n<polyline clip-path=\"url(#clip942)\" style=\"stroke:#000000; stroke-linecap:round; stroke-linejoin:round; stroke-width:4; stroke-opacity:1; fill:none\" points=\"\n  1366.16,577.813 1365.68,587.411 1364.28,596.999 1362.04,606.576 1359.01,616.145 1355.26,625.706 1350.87,635.259 1345.91,644.805 1340.43,654.346 1334.51,663.882 \n  1328.22,673.413 1321.63,682.941 1314.79,692.466 1307.79,701.989 1300.68,711.511 1293.54,721.033 1286.43,730.555 1279.43,740.078 1272.59,749.603 1266,759.131 \n  1259.7,768.663 1253.79,778.198 1248.31,787.739 1243.34,797.286 1238.96,806.839 1235.21,816.399 1232.18,825.968 1229.93,835.546 1228.54,845.134 1228.05,854.732 \n  \n  \"/>\n<polyline clip-path=\"url(#clip942)\" style=\"stroke:#000000; stroke-linecap:round; stroke-linejoin:round; stroke-width:4; stroke-opacity:1; fill:none\" points=\"\n  1228.05,854.732 1227.04,865.117 1224.09,874.812 1219.35,883.868 1212.95,892.336 1205.06,900.267 1195.8,907.713 1185.32,914.725 1173.77,921.353 1161.28,927.648 \n  1148.01,933.663 1134.09,939.448 1119.67,945.053 1104.89,950.531 1089.89,955.932 1074.83,961.308 1059.83,966.709 1045.05,972.187 1030.63,977.793 1016.71,983.578 \n  1003.44,989.592 990.956,995.888 979.402,1002.52 968.924,1009.53 959.665,1016.97 951.768,1024.9 945.376,1033.37 940.633,1042.43 937.682,1052.12 936.666,1062.51 \n  \n  \"/>\n<polyline clip-path=\"url(#clip942)\" style=\"stroke:#000000; stroke-linecap:round; stroke-linejoin:round; stroke-width:4; stroke-opacity:1; fill:none\" points=\"\n  936.666,1062.51 935.71,1073.58 932.931,1084.08 928.466,1094.04 922.447,1103.51 915.012,1112.54 906.294,1121.16 896.429,1129.41 885.551,1137.34 873.796,1145 \n  861.299,1152.42 848.194,1159.65 834.616,1166.73 820.701,1173.71 806.584,1180.62 792.399,1187.5 778.282,1194.41 764.367,1201.39 750.79,1208.47 737.685,1215.7 \n  725.187,1223.12 713.432,1230.78 702.554,1238.71 692.689,1246.96 683.971,1255.58 676.536,1264.61 670.518,1274.08 666.052,1284.04 663.273,1294.54 662.317,1305.61 \n  \n  \"/>\n<polyline clip-path=\"url(#clip942)\" style=\"stroke:#000000; stroke-linecap:round; stroke-linejoin:round; stroke-width:4; stroke-opacity:1; fill:none\" points=\"\n  936.666,1062.51 937.217,1072.32 938.816,1082.06 941.387,1091.74 944.852,1101.36 949.133,1110.92 954.152,1120.44 959.832,1129.91 966.094,1139.35 972.862,1148.75 \n  980.057,1158.12 987.602,1167.48 995.419,1176.81 1003.43,1186.13 1011.56,1195.44 1019.72,1204.75 1027.85,1214.06 1035.86,1223.38 1043.68,1232.72 1051.23,1242.07 \n  1058.42,1251.44 1065.19,1260.84 1071.45,1270.28 1077.13,1279.75 1082.15,1289.27 1086.43,1298.83 1089.9,1308.45 1092.47,1318.13 1094.07,1327.87 1094.62,1337.68 \n  \n  \"/>\n<polyline clip-path=\"url(#clip942)\" style=\"stroke:#000000; stroke-linecap:round; stroke-linejoin:round; stroke-width:4; stroke-opacity:1; fill:none\" points=\"\n  1228.05,854.732 1229.24,862.562 1232.69,869.873 1238.23,876.701 1245.69,883.087 1254.92,889.068 1265.74,894.682 1277.97,899.969 1291.47,904.967 1306.05,909.714 \n  1321.56,914.249 1337.82,918.611 1354.66,922.838 1371.93,926.969 1389.44,931.042 1407.04,935.095 1424.55,939.168 1441.82,943.299 1458.66,947.526 1474.92,951.887 \n  1490.42,956.423 1505.01,961.17 1518.5,966.168 1530.74,971.455 1541.56,977.069 1550.78,983.05 1558.25,989.435 1563.79,996.264 1567.24,1003.57 1568.42,1011.41 \n  \n  \"/>\n<polyline clip-path=\"url(#clip942)\" style=\"stroke:#000000; stroke-linecap:round; stroke-linejoin:round; stroke-width:4; stroke-opacity:1; fill:none\" points=\"\n  1119.79,262.317 1118.63,275.599 1115.27,288.165 1109.85,300.066 1102.55,311.357 1093.54,322.09 1082.97,332.319 1071.01,342.097 1057.82,351.476 1043.57,360.51 \n  1028.41,369.252 1012.52,377.755 996.063,386.073 979.192,394.257 962.075,402.362 944.876,410.44 927.76,418.545 910.889,426.73 894.427,435.047 878.537,443.55 \n  863.385,452.292 849.132,461.326 835.944,470.706 823.982,480.483 813.412,490.712 804.397,501.445 797.1,512.736 791.686,524.638 788.317,537.203 787.158,550.485 \n  \n  \"/>\n<path clip-path=\"url(#clip942)\" d=\"\nM1138.86 262.317 L1129.33 245.802 L1110.26 245.802 L1100.72 262.317 L1110.26 278.832 L1129.33 278.832 L1138.86 262.317 L1138.86 262.317  Z\n  \" fill=\"#009af9\" fill-rule=\"evenodd\" fill-opacity=\"1\"/>\n<polyline clip-path=\"url(#clip942)\" style=\"stroke:#000000; stroke-linecap:round; stroke-linejoin:round; stroke-width:4; stroke-opacity:1; fill:none\" points=\"\n  1138.86,262.317 1129.33,245.802 1110.26,245.802 1100.72,262.317 1110.26,278.832 1129.33,278.832 1138.86,262.317 \n  \"/>\n<path clip-path=\"url(#clip942)\" d=\"\nM1385.23 577.813 L1375.7 561.298 L1356.63 561.298 L1347.09 577.813 L1356.63 594.328 L1375.7 594.328 L1385.23 577.813 L1385.23 577.813  Z\n  \" fill=\"#009af9\" fill-rule=\"evenodd\" fill-opacity=\"1\"/>\n<polyline clip-path=\"url(#clip942)\" style=\"stroke:#000000; stroke-linecap:round; stroke-linejoin:round; stroke-width:4; stroke-opacity:1; fill:none\" points=\"\n  1385.23,577.813 1375.7,561.298 1356.63,561.298 1347.09,577.813 1356.63,594.328 1375.7,594.328 1385.23,577.813 \n  \"/>\n<path clip-path=\"url(#clip942)\" d=\"\nM1756.75 749.635 L1747.22 733.12 L1728.15 733.12 L1718.61 749.635 L1728.15 766.15 L1747.22 766.15 L1756.75 749.635 L1756.75 749.635  Z\n  \" fill=\"#009af9\" fill-rule=\"evenodd\" fill-opacity=\"1\"/>\n<polyline clip-path=\"url(#clip942)\" style=\"stroke:#000000; stroke-linecap:round; stroke-linejoin:round; stroke-width:4; stroke-opacity:1; fill:none\" points=\"\n  1756.75,749.635 1747.22,733.12 1728.15,733.12 1718.61,749.635 1728.15,766.15 1747.22,766.15 1756.75,749.635 \n  \"/>\n<path clip-path=\"url(#clip942)\" d=\"\nM1247.12 854.732 L1237.59 838.217 L1218.52 838.217 L1208.98 854.732 L1218.52 871.247 L1237.59 871.247 L1247.12 854.732 L1247.12 854.732  Z\n  \" fill=\"#009af9\" fill-rule=\"evenodd\" fill-opacity=\"1\"/>\n<polyline clip-path=\"url(#clip942)\" style=\"stroke:#000000; stroke-linecap:round; stroke-linejoin:round; stroke-width:4; stroke-opacity:1; fill:none\" points=\"\n  1247.12,854.732 1237.59,838.217 1218.52,838.217 1208.98,854.732 1218.52,871.247 1237.59,871.247 1247.12,854.732 \n  \"/>\n<path clip-path=\"url(#clip942)\" d=\"\nM955.736 1062.51 L946.201 1045.99 L927.131 1045.99 L917.596 1062.51 L927.131 1079.02 L946.201 1079.02 L955.736 1062.51 L955.736 1062.51  Z\n  \" fill=\"#009af9\" fill-rule=\"evenodd\" fill-opacity=\"1\"/>\n<polyline clip-path=\"url(#clip942)\" style=\"stroke:#000000; stroke-linecap:round; stroke-linejoin:round; stroke-width:4; stroke-opacity:1; fill:none\" points=\"\n  955.736,1062.51 946.201,1045.99 927.131,1045.99 917.596,1062.51 927.131,1079.02 946.201,1079.02 955.736,1062.51 \n  \"/>\n<path clip-path=\"url(#clip942)\" d=\"\nM681.387 1305.61 L671.852 1289.1 L652.782 1289.1 L643.247 1305.61 L652.782 1322.13 L671.852 1322.13 L681.387 1305.61 L681.387 1305.61  Z\n  \" fill=\"#009af9\" fill-rule=\"evenodd\" fill-opacity=\"1\"/>\n<polyline clip-path=\"url(#clip942)\" style=\"stroke:#000000; stroke-linecap:round; stroke-linejoin:round; stroke-width:4; stroke-opacity:1; fill:none\" points=\"\n  681.387,1305.61 671.852,1289.1 652.782,1289.1 643.247,1305.61 652.782,1322.13 671.852,1322.13 681.387,1305.61 \n  \"/>\n<path clip-path=\"url(#clip942)\" d=\"\nM1113.69 1337.68 L1104.15 1321.17 L1085.08 1321.17 L1075.55 1337.68 L1085.08 1354.2 L1104.15 1354.2 L1113.69 1337.68 L1113.69 1337.68  Z\n  \" fill=\"#009af9\" fill-rule=\"evenodd\" fill-opacity=\"1\"/>\n<polyline clip-path=\"url(#clip942)\" style=\"stroke:#000000; stroke-linecap:round; stroke-linejoin:round; stroke-width:4; stroke-opacity:1; fill:none\" points=\"\n  1113.69,1337.68 1104.15,1321.17 1085.08,1321.17 1075.55,1337.68 1085.08,1354.2 1104.15,1354.2 1113.69,1337.68 \n  \"/>\n<path clip-path=\"url(#clip942)\" d=\"\nM1587.49 1011.41 L1577.96 994.89 L1558.89 994.89 L1549.35 1011.41 L1558.89 1027.92 L1577.96 1027.92 L1587.49 1011.41 L1587.49 1011.41  Z\n  \" fill=\"#009af9\" fill-rule=\"evenodd\" fill-opacity=\"1\"/>\n<polyline clip-path=\"url(#clip942)\" style=\"stroke:#000000; stroke-linecap:round; stroke-linejoin:round; stroke-width:4; stroke-opacity:1; fill:none\" points=\"\n  1587.49,1011.41 1577.96,994.89 1558.89,994.89 1549.35,1011.41 1558.89,1027.92 1577.96,1027.92 1587.49,1011.41 \n  \"/>\n<path clip-path=\"url(#clip942)\" d=\"\nM806.227 550.485 L796.693 533.97 L777.623 533.97 L768.088 550.485 L777.623 567 L796.693 567 L806.227 550.485 L806.227 550.485  Z\n  \" fill=\"#009af9\" fill-rule=\"evenodd\" fill-opacity=\"1\"/>\n<polyline clip-path=\"url(#clip942)\" style=\"stroke:#000000; stroke-linecap:round; stroke-linejoin:round; stroke-width:4; stroke-opacity:1; fill:none\" points=\"\n  806.227,550.485 796.693,533.97 777.623,533.97 768.088,550.485 777.623,567 796.693,567 806.227,550.485 \n  \"/>\n<path clip-path=\"url(#clip942)\" d=\"M1119.79 262.717 L1119.45 262.517 L1119.45 262.117 L1119.79 261.917 L1120.14 262.117 L1120.14 262.517 Z\" fill=\"#009af9\" fill-rule=\"evenodd\" fill-opacity=\"1\" stroke=\"#000000\" stroke-opacity=\"1\" stroke-width=\"3.2\"/>\n<path clip-path=\"url(#clip942)\" d=\"M1366.16 578.213 L1365.82 578.013 L1365.82 577.613 L1366.16 577.413 L1366.51 577.613 L1366.51 578.013 Z\" fill=\"#009af9\" fill-rule=\"evenodd\" fill-opacity=\"1\" stroke=\"#000000\" stroke-opacity=\"1\" stroke-width=\"3.2\"/>\n<path clip-path=\"url(#clip942)\" d=\"M1737.68 750.035 L1737.34 749.835 L1737.34 749.435 L1737.68 749.235 L1738.03 749.435 L1738.03 749.835 Z\" fill=\"#009af9\" fill-rule=\"evenodd\" fill-opacity=\"1\" stroke=\"#000000\" stroke-opacity=\"1\" stroke-width=\"3.2\"/>\n<path clip-path=\"url(#clip942)\" d=\"M1228.05 855.132 L1227.71 854.932 L1227.71 854.532 L1228.05 854.332 L1228.4 854.532 L1228.4 854.932 Z\" fill=\"#009af9\" fill-rule=\"evenodd\" fill-opacity=\"1\" stroke=\"#000000\" stroke-opacity=\"1\" stroke-width=\"3.2\"/>\n<path clip-path=\"url(#clip942)\" d=\"M936.666 1062.91 L936.32 1062.71 L936.32 1062.31 L936.666 1062.11 L937.012 1062.31 L937.012 1062.71 Z\" fill=\"#009af9\" fill-rule=\"evenodd\" fill-opacity=\"1\" stroke=\"#000000\" stroke-opacity=\"1\" stroke-width=\"3.2\"/>\n<path clip-path=\"url(#clip942)\" d=\"M662.317 1306.01 L661.971 1305.81 L661.971 1305.41 L662.317 1305.21 L662.664 1305.41 L662.664 1305.81 Z\" fill=\"#009af9\" fill-rule=\"evenodd\" fill-opacity=\"1\" stroke=\"#000000\" stroke-opacity=\"1\" stroke-width=\"3.2\"/>\n<path clip-path=\"url(#clip942)\" d=\"M1094.62 1338.08 L1094.27 1337.88 L1094.27 1337.48 L1094.62 1337.28 L1094.96 1337.48 L1094.96 1337.88 Z\" fill=\"#009af9\" fill-rule=\"evenodd\" fill-opacity=\"1\" stroke=\"#000000\" stroke-opacity=\"1\" stroke-width=\"3.2\"/>\n<path clip-path=\"url(#clip942)\" d=\"M1568.42 1011.81 L1568.08 1011.61 L1568.08 1011.21 L1568.42 1011.01 L1568.77 1011.21 L1568.77 1011.61 Z\" fill=\"#009af9\" fill-rule=\"evenodd\" fill-opacity=\"1\" stroke=\"#000000\" stroke-opacity=\"1\" stroke-width=\"3.2\"/>\n<path clip-path=\"url(#clip942)\" d=\"M787.158 550.885 L786.811 550.685 L786.811 550.285 L787.158 550.085 L787.504 550.285 L787.504 550.685 Z\" fill=\"#009af9\" fill-rule=\"evenodd\" fill-opacity=\"1\" stroke=\"#000000\" stroke-opacity=\"1\" stroke-width=\"3.2\"/>\n<path clip-path=\"url(#clip940)\" d=\"M1111.38 273.994 L1118.06 273.994 L1118.06 250.924 L1110.79 252.382 L1110.79 248.656 L1118.02 247.197 L1122.11 247.197 L1122.11 273.994 L1128.8 273.994 L1128.8 277.437 L1111.38 277.437 L1111.38 273.994 Z\" fill=\"#000000\" fill-rule=\"evenodd\" fill-opacity=\"1\" /><path clip-path=\"url(#clip940)\" d=\"M1361.49 589.49 L1375.76 589.49 L1375.76 592.933 L1356.56 592.933 L1356.56 589.49 Q1358.89 587.079 1362.9 583.029 Q1366.93 578.957 1367.97 577.783 Q1369.93 575.575 1370.7 574.056 Q1371.49 572.516 1371.49 571.038 Q1371.49 568.628 1369.79 567.108 Q1368.11 565.589 1365.39 565.589 Q1363.47 565.589 1361.32 566.258 Q1359.2 566.926 1356.77 568.283 L1356.77 564.151 Q1359.24 563.159 1361.38 562.652 Q1363.53 562.146 1365.31 562.146 Q1370.01 562.146 1372.81 564.496 Q1375.6 566.845 1375.6 570.775 Q1375.6 572.638 1374.89 574.319 Q1374.21 575.98 1372.36 578.248 Q1371.86 578.836 1369.14 581.651 Q1366.43 584.446 1361.49 589.49 Z\" fill=\"#000000\" fill-rule=\"evenodd\" fill-opacity=\"1\" /><path clip-path=\"url(#clip940)\" d=\"M1741.4 748.45 Q1744.34 749.078 1745.98 751.063 Q1747.64 753.048 1747.64 755.964 Q1747.64 760.441 1744.56 762.891 Q1741.48 765.342 1735.81 765.342 Q1733.91 765.342 1731.88 764.957 Q1729.87 764.593 1727.73 763.843 L1727.73 759.894 Q1729.43 760.886 1731.45 761.393 Q1733.48 761.899 1735.69 761.899 Q1739.54 761.899 1741.54 760.38 Q1743.57 758.861 1743.57 755.964 Q1743.57 753.291 1741.68 751.792 Q1739.82 750.273 1736.48 750.273 L1732.95 750.273 L1732.95 746.911 L1736.64 746.911 Q1739.66 746.911 1741.26 745.716 Q1742.86 744.5 1742.86 742.232 Q1742.86 739.903 1741.2 738.667 Q1739.56 737.411 1736.48 737.411 Q1734.8 737.411 1732.87 737.776 Q1730.95 738.14 1728.64 738.91 L1728.64 735.264 Q1730.97 734.616 1732.99 734.292 Q1735.04 733.968 1736.84 733.968 Q1741.5 733.968 1744.21 736.095 Q1746.93 738.201 1746.93 741.806 Q1746.93 744.318 1745.49 746.06 Q1744.05 747.782 1741.4 748.45 Z\" fill=\"#000000\" fill-rule=\"evenodd\" fill-opacity=\"1\" /><path clip-path=\"url(#clip940)\" d=\"M1230.69 843.176 L1220.36 859.319 L1230.69 859.319 L1230.69 843.176 M1229.61 839.612 L1234.76 839.612 L1234.76 859.319 L1239.07 859.319 L1239.07 862.722 L1234.76 862.722 L1234.76 869.852 L1230.69 869.852 L1230.69 862.722 L1217.04 862.722 L1217.04 858.772 L1229.61 839.612 Z\" fill=\"#000000\" fill-rule=\"evenodd\" fill-opacity=\"1\" /><path clip-path=\"url(#clip940)\" d=\"M928.159 1047.39 L944.221 1047.39 L944.221 1050.83 L931.906 1050.83 L931.906 1058.25 Q932.797 1057.94 933.689 1057.8 Q934.58 1057.64 935.471 1057.64 Q940.535 1057.64 943.492 1060.41 Q946.449 1063.19 946.449 1067.93 Q946.449 1072.81 943.411 1075.52 Q940.373 1078.22 934.843 1078.22 Q932.939 1078.22 930.954 1077.89 Q928.99 1077.57 926.883 1076.92 L926.883 1072.81 Q928.706 1073.8 930.65 1074.29 Q932.595 1074.77 934.762 1074.77 Q938.266 1074.77 940.312 1072.93 Q942.358 1071.09 942.358 1067.93 Q942.358 1064.77 940.312 1062.92 Q938.266 1061.08 934.762 1061.08 Q933.121 1061.08 931.481 1061.45 Q929.861 1061.81 928.159 1062.58 L928.159 1047.39 Z\" fill=\"#000000\" fill-rule=\"evenodd\" fill-opacity=\"1\" /><path clip-path=\"url(#clip940)\" d=\"M662.672 1303.98 Q659.917 1303.98 658.297 1305.86 Q656.697 1307.75 656.697 1311.03 Q656.697 1314.29 658.297 1316.19 Q659.917 1318.08 662.672 1318.08 Q665.426 1318.08 667.026 1316.19 Q668.647 1314.29 668.647 1311.03 Q668.647 1307.75 667.026 1305.86 Q665.426 1303.98 662.672 1303.98 M670.794 1291.16 L670.794 1294.89 Q669.254 1294.16 667.675 1293.77 Q666.115 1293.39 664.576 1293.39 Q660.525 1293.39 658.378 1296.12 Q656.251 1298.86 655.947 1304.39 Q657.142 1302.62 658.945 1301.69 Q660.747 1300.74 662.915 1300.74 Q667.472 1300.74 670.105 1303.51 Q672.758 1306.27 672.758 1311.03 Q672.758 1315.69 670.004 1318.5 Q667.249 1321.32 662.672 1321.32 Q657.426 1321.32 654.651 1317.31 Q651.876 1313.28 651.876 1305.64 Q651.876 1298.47 655.279 1294.22 Q658.682 1289.94 664.414 1289.94 Q665.953 1289.94 667.512 1290.25 Q669.092 1290.55 670.794 1291.16 Z\" fill=\"#000000\" fill-rule=\"evenodd\" fill-opacity=\"1\" /><path clip-path=\"url(#clip940)\" d=\"M1084.89 1322.56 L1104.34 1322.56 L1104.34 1324.3 L1093.36 1352.8 L1089.09 1352.8 L1099.42 1326.01 L1084.89 1326.01 L1084.89 1322.56 Z\" fill=\"#000000\" fill-rule=\"evenodd\" fill-opacity=\"1\" /><path clip-path=\"url(#clip940)\" d=\"M1568.42 1012.16 Q1565.51 1012.16 1563.83 1013.72 Q1562.16 1015.28 1562.16 1018.02 Q1562.16 1020.75 1563.83 1022.31 Q1565.51 1023.87 1568.42 1023.87 Q1571.34 1023.87 1573.02 1022.31 Q1574.7 1020.73 1574.7 1018.02 Q1574.7 1015.28 1573.02 1013.72 Q1571.36 1012.16 1568.42 1012.16 M1564.33 1010.42 Q1561.7 1009.77 1560.22 1007.97 Q1558.76 1006.17 1558.76 1003.58 Q1558.76 999.951 1561.33 997.845 Q1563.93 995.738 1568.42 995.738 Q1572.94 995.738 1575.51 997.845 Q1578.08 999.951 1578.08 1003.58 Q1578.08 1006.17 1576.61 1007.97 Q1575.15 1009.77 1572.54 1010.42 Q1575.49 1011.11 1577.13 1013.12 Q1578.79 1015.12 1578.79 1018.02 Q1578.79 1022.41 1576.1 1024.76 Q1573.43 1027.11 1568.42 1027.11 Q1563.42 1027.11 1560.73 1024.76 Q1558.05 1022.41 1558.05 1018.02 Q1558.05 1015.12 1559.71 1013.12 Q1561.37 1011.11 1564.33 1010.42 M1562.83 1003.96 Q1562.83 1006.31 1564.29 1007.63 Q1565.77 1008.94 1568.42 1008.94 Q1571.06 1008.94 1572.54 1007.63 Q1574.03 1006.31 1574.03 1003.96 Q1574.03 1001.61 1572.54 1000.3 Q1571.06 998.979 1568.42 998.979 Q1565.77 998.979 1564.29 1000.3 Q1562.83 1001.61 1562.83 1003.96 Z\" fill=\"#000000\" fill-rule=\"evenodd\" fill-opacity=\"1\" /><path clip-path=\"url(#clip940)\" d=\"M778.671 564.977 L778.671 561.251 Q780.21 561.98 781.79 562.365 Q783.37 562.749 784.889 562.749 Q788.94 562.749 791.067 560.035 Q793.214 557.301 793.518 551.751 Q792.343 553.493 790.54 554.425 Q788.737 555.357 786.55 555.357 Q782.013 555.357 779.36 552.622 Q776.727 549.868 776.727 545.108 Q776.727 540.449 779.481 537.634 Q782.236 534.818 786.813 534.818 Q792.059 534.818 794.814 538.849 Q797.589 542.859 797.589 550.516 Q797.589 557.666 794.186 561.939 Q790.803 566.193 785.071 566.193 Q783.532 566.193 781.952 565.889 Q780.372 565.585 778.671 564.977 M786.813 552.156 Q789.568 552.156 791.168 550.273 Q792.788 548.389 792.788 545.108 Q792.788 541.847 791.168 539.963 Q789.568 538.059 786.813 538.059 Q784.059 538.059 782.438 539.963 Q780.838 541.847 780.838 545.108 Q780.838 548.389 782.438 550.273 Q784.059 552.156 786.813 552.156 Z\" fill=\"#000000\" fill-rule=\"evenodd\" fill-opacity=\"1\" /></svg>\n",
      "text/html": [
       "<?xml version=\"1.0\" encoding=\"utf-8\"?>\n",
       "<svg xmlns=\"http://www.w3.org/2000/svg\" xmlns:xlink=\"http://www.w3.org/1999/xlink\" width=\"600\" height=\"400\" viewBox=\"0 0 2400 1600\">\n",
       "<defs>\n",
       "  <clipPath id=\"clip970\">\n",
       "    <rect x=\"0\" y=\"0\" width=\"2400\" height=\"1600\"/>\n",
       "  </clipPath>\n",
       "</defs>\n",
       "<path clip-path=\"url(#clip970)\" d=\"\n",
       "M0 1600 L2400 1600 L2400 0 L0 0  Z\n",
       "  \" fill=\"#ffffff\" fill-rule=\"evenodd\" fill-opacity=\"1\"/>\n",
       "<defs>\n",
       "  <clipPath id=\"clip971\">\n",
       "    <rect x=\"480\" y=\"0\" width=\"1681\" height=\"1600\"/>\n",
       "  </clipPath>\n",
       "</defs>\n",
       "<path clip-path=\"url(#clip970)\" d=\"\n",
       "M447.244 1552.76 L1952.76 1552.76 L1952.76 47.2441 L447.244 47.2441  Z\n",
       "  \" fill=\"#ffffff\" fill-rule=\"evenodd\" fill-opacity=\"1\"/>\n",
       "<defs>\n",
       "  <clipPath id=\"clip972\">\n",
       "    <rect x=\"447\" y=\"47\" width=\"1507\" height=\"1507\"/>\n",
       "  </clipPath>\n",
       "</defs>\n",
       "<polyline clip-path=\"url(#clip972)\" style=\"stroke:#000000; stroke-linecap:round; stroke-linejoin:round; stroke-width:4; stroke-opacity:1; fill:none\" points=\"\n",
       "  1119.79,262.317 1120.65,274.584 1123.15,286.554 1127.16,298.248 1132.56,309.689 1139.24,320.898 1147.07,331.899 1155.93,342.712 1165.7,353.36 1176.25,363.864 \n",
       "  1187.48,374.248 1199.24,384.532 1211.44,394.74 1223.93,404.892 1236.61,415.011 1249.35,425.119 1262.03,435.238 1274.52,445.391 1286.71,455.598 1298.48,465.882 \n",
       "  1309.71,476.266 1320.26,486.771 1330.03,497.419 1338.89,508.232 1346.72,519.232 1353.4,530.441 1358.8,541.882 1362.81,553.577 1365.31,565.546 1366.16,577.813 \n",
       "  \n",
       "  \"/>\n",
       "<polyline clip-path=\"url(#clip972)\" style=\"stroke:#000000; stroke-linecap:round; stroke-linejoin:round; stroke-width:4; stroke-opacity:1; fill:none\" points=\"\n",
       "  1366.16,577.813 1367.46,586.401 1371.22,594.418 1377.27,601.907 1385.42,608.91 1395.49,615.469 1407.29,621.626 1420.65,627.424 1435.38,632.905 1451.3,638.112 \n",
       "  1468.23,643.085 1485.97,647.869 1504.36,652.505 1523.2,657.035 1542.32,661.501 1561.53,665.947 1580.65,670.413 1599.49,674.943 1617.87,679.579 1635.62,684.362 \n",
       "  1652.55,689.336 1668.46,694.543 1683.19,700.024 1696.55,705.822 1708.36,711.979 1718.43,718.538 1726.58,725.541 1732.63,733.03 1736.39,741.047 1737.68,749.635 \n",
       "  \n",
       "  \"/>\n",
       "<polyline clip-path=\"url(#clip972)\" style=\"stroke:#000000; stroke-linecap:round; stroke-linejoin:round; stroke-width:4; stroke-opacity:1; fill:none\" points=\"\n",
       "  1366.16,577.813 1365.68,587.411 1364.28,596.999 1362.04,606.576 1359.01,616.145 1355.26,625.706 1350.87,635.259 1345.91,644.805 1340.43,654.346 1334.51,663.882 \n",
       "  1328.22,673.413 1321.63,682.941 1314.79,692.466 1307.79,701.989 1300.68,711.511 1293.54,721.033 1286.43,730.555 1279.43,740.078 1272.59,749.603 1266,759.131 \n",
       "  1259.7,768.663 1253.79,778.198 1248.31,787.739 1243.34,797.286 1238.96,806.839 1235.21,816.399 1232.18,825.968 1229.93,835.546 1228.54,845.134 1228.05,854.732 \n",
       "  \n",
       "  \"/>\n",
       "<polyline clip-path=\"url(#clip972)\" style=\"stroke:#000000; stroke-linecap:round; stroke-linejoin:round; stroke-width:4; stroke-opacity:1; fill:none\" points=\"\n",
       "  1228.05,854.732 1227.04,865.117 1224.09,874.812 1219.35,883.868 1212.95,892.336 1205.06,900.267 1195.8,907.713 1185.32,914.725 1173.77,921.353 1161.28,927.648 \n",
       "  1148.01,933.663 1134.09,939.448 1119.67,945.053 1104.89,950.531 1089.89,955.932 1074.83,961.308 1059.83,966.709 1045.05,972.187 1030.63,977.793 1016.71,983.578 \n",
       "  1003.44,989.592 990.956,995.888 979.402,1002.52 968.924,1009.53 959.665,1016.97 951.768,1024.9 945.376,1033.37 940.633,1042.43 937.682,1052.12 936.666,1062.51 \n",
       "  \n",
       "  \"/>\n",
       "<polyline clip-path=\"url(#clip972)\" style=\"stroke:#000000; stroke-linecap:round; stroke-linejoin:round; stroke-width:4; stroke-opacity:1; fill:none\" points=\"\n",
       "  936.666,1062.51 935.71,1073.58 932.931,1084.08 928.466,1094.04 922.447,1103.51 915.012,1112.54 906.294,1121.16 896.429,1129.41 885.551,1137.34 873.796,1145 \n",
       "  861.299,1152.42 848.194,1159.65 834.616,1166.73 820.701,1173.71 806.584,1180.62 792.399,1187.5 778.282,1194.41 764.367,1201.39 750.79,1208.47 737.685,1215.7 \n",
       "  725.187,1223.12 713.432,1230.78 702.554,1238.71 692.689,1246.96 683.971,1255.58 676.536,1264.61 670.518,1274.08 666.052,1284.04 663.273,1294.54 662.317,1305.61 \n",
       "  \n",
       "  \"/>\n",
       "<polyline clip-path=\"url(#clip972)\" style=\"stroke:#000000; stroke-linecap:round; stroke-linejoin:round; stroke-width:4; stroke-opacity:1; fill:none\" points=\"\n",
       "  936.666,1062.51 937.217,1072.32 938.816,1082.06 941.387,1091.74 944.852,1101.36 949.133,1110.92 954.152,1120.44 959.832,1129.91 966.094,1139.35 972.862,1148.75 \n",
       "  980.057,1158.12 987.602,1167.48 995.419,1176.81 1003.43,1186.13 1011.56,1195.44 1019.72,1204.75 1027.85,1214.06 1035.86,1223.38 1043.68,1232.72 1051.23,1242.07 \n",
       "  1058.42,1251.44 1065.19,1260.84 1071.45,1270.28 1077.13,1279.75 1082.15,1289.27 1086.43,1298.83 1089.9,1308.45 1092.47,1318.13 1094.07,1327.87 1094.62,1337.68 \n",
       "  \n",
       "  \"/>\n",
       "<polyline clip-path=\"url(#clip972)\" style=\"stroke:#000000; stroke-linecap:round; stroke-linejoin:round; stroke-width:4; stroke-opacity:1; fill:none\" points=\"\n",
       "  1228.05,854.732 1229.24,862.562 1232.69,869.873 1238.23,876.701 1245.69,883.087 1254.92,889.068 1265.74,894.682 1277.97,899.969 1291.47,904.967 1306.05,909.714 \n",
       "  1321.56,914.249 1337.82,918.611 1354.66,922.838 1371.93,926.969 1389.44,931.042 1407.04,935.095 1424.55,939.168 1441.82,943.299 1458.66,947.526 1474.92,951.887 \n",
       "  1490.42,956.423 1505.01,961.17 1518.5,966.168 1530.74,971.455 1541.56,977.069 1550.78,983.05 1558.25,989.435 1563.79,996.264 1567.24,1003.57 1568.42,1011.41 \n",
       "  \n",
       "  \"/>\n",
       "<polyline clip-path=\"url(#clip972)\" style=\"stroke:#000000; stroke-linecap:round; stroke-linejoin:round; stroke-width:4; stroke-opacity:1; fill:none\" points=\"\n",
       "  1119.79,262.317 1118.63,275.599 1115.27,288.165 1109.85,300.066 1102.55,311.357 1093.54,322.09 1082.97,332.319 1071.01,342.097 1057.82,351.476 1043.57,360.51 \n",
       "  1028.41,369.252 1012.52,377.755 996.063,386.073 979.192,394.257 962.075,402.362 944.876,410.44 927.76,418.545 910.889,426.73 894.427,435.047 878.537,443.55 \n",
       "  863.385,452.292 849.132,461.326 835.944,470.706 823.982,480.483 813.412,490.712 804.397,501.445 797.1,512.736 791.686,524.638 788.317,537.203 787.158,550.485 \n",
       "  \n",
       "  \"/>\n",
       "<path clip-path=\"url(#clip972)\" d=\"\n",
       "M1138.86 262.317 L1129.33 245.802 L1110.26 245.802 L1100.72 262.317 L1110.26 278.832 L1129.33 278.832 L1138.86 262.317 L1138.86 262.317  Z\n",
       "  \" fill=\"#009af9\" fill-rule=\"evenodd\" fill-opacity=\"1\"/>\n",
       "<polyline clip-path=\"url(#clip972)\" style=\"stroke:#000000; stroke-linecap:round; stroke-linejoin:round; stroke-width:4; stroke-opacity:1; fill:none\" points=\"\n",
       "  1138.86,262.317 1129.33,245.802 1110.26,245.802 1100.72,262.317 1110.26,278.832 1129.33,278.832 1138.86,262.317 \n",
       "  \"/>\n",
       "<path clip-path=\"url(#clip972)\" d=\"\n",
       "M1385.23 577.813 L1375.7 561.298 L1356.63 561.298 L1347.09 577.813 L1356.63 594.328 L1375.7 594.328 L1385.23 577.813 L1385.23 577.813  Z\n",
       "  \" fill=\"#009af9\" fill-rule=\"evenodd\" fill-opacity=\"1\"/>\n",
       "<polyline clip-path=\"url(#clip972)\" style=\"stroke:#000000; stroke-linecap:round; stroke-linejoin:round; stroke-width:4; stroke-opacity:1; fill:none\" points=\"\n",
       "  1385.23,577.813 1375.7,561.298 1356.63,561.298 1347.09,577.813 1356.63,594.328 1375.7,594.328 1385.23,577.813 \n",
       "  \"/>\n",
       "<path clip-path=\"url(#clip972)\" d=\"\n",
       "M1756.75 749.635 L1747.22 733.12 L1728.15 733.12 L1718.61 749.635 L1728.15 766.15 L1747.22 766.15 L1756.75 749.635 L1756.75 749.635  Z\n",
       "  \" fill=\"#009af9\" fill-rule=\"evenodd\" fill-opacity=\"1\"/>\n",
       "<polyline clip-path=\"url(#clip972)\" style=\"stroke:#000000; stroke-linecap:round; stroke-linejoin:round; stroke-width:4; stroke-opacity:1; fill:none\" points=\"\n",
       "  1756.75,749.635 1747.22,733.12 1728.15,733.12 1718.61,749.635 1728.15,766.15 1747.22,766.15 1756.75,749.635 \n",
       "  \"/>\n",
       "<path clip-path=\"url(#clip972)\" d=\"\n",
       "M1247.12 854.732 L1237.59 838.217 L1218.52 838.217 L1208.98 854.732 L1218.52 871.247 L1237.59 871.247 L1247.12 854.732 L1247.12 854.732  Z\n",
       "  \" fill=\"#009af9\" fill-rule=\"evenodd\" fill-opacity=\"1\"/>\n",
       "<polyline clip-path=\"url(#clip972)\" style=\"stroke:#000000; stroke-linecap:round; stroke-linejoin:round; stroke-width:4; stroke-opacity:1; fill:none\" points=\"\n",
       "  1247.12,854.732 1237.59,838.217 1218.52,838.217 1208.98,854.732 1218.52,871.247 1237.59,871.247 1247.12,854.732 \n",
       "  \"/>\n",
       "<path clip-path=\"url(#clip972)\" d=\"\n",
       "M955.736 1062.51 L946.201 1045.99 L927.131 1045.99 L917.596 1062.51 L927.131 1079.02 L946.201 1079.02 L955.736 1062.51 L955.736 1062.51  Z\n",
       "  \" fill=\"#009af9\" fill-rule=\"evenodd\" fill-opacity=\"1\"/>\n",
       "<polyline clip-path=\"url(#clip972)\" style=\"stroke:#000000; stroke-linecap:round; stroke-linejoin:round; stroke-width:4; stroke-opacity:1; fill:none\" points=\"\n",
       "  955.736,1062.51 946.201,1045.99 927.131,1045.99 917.596,1062.51 927.131,1079.02 946.201,1079.02 955.736,1062.51 \n",
       "  \"/>\n",
       "<path clip-path=\"url(#clip972)\" d=\"\n",
       "M681.387 1305.61 L671.852 1289.1 L652.782 1289.1 L643.247 1305.61 L652.782 1322.13 L671.852 1322.13 L681.387 1305.61 L681.387 1305.61  Z\n",
       "  \" fill=\"#009af9\" fill-rule=\"evenodd\" fill-opacity=\"1\"/>\n",
       "<polyline clip-path=\"url(#clip972)\" style=\"stroke:#000000; stroke-linecap:round; stroke-linejoin:round; stroke-width:4; stroke-opacity:1; fill:none\" points=\"\n",
       "  681.387,1305.61 671.852,1289.1 652.782,1289.1 643.247,1305.61 652.782,1322.13 671.852,1322.13 681.387,1305.61 \n",
       "  \"/>\n",
       "<path clip-path=\"url(#clip972)\" d=\"\n",
       "M1113.69 1337.68 L1104.15 1321.17 L1085.08 1321.17 L1075.55 1337.68 L1085.08 1354.2 L1104.15 1354.2 L1113.69 1337.68 L1113.69 1337.68  Z\n",
       "  \" fill=\"#009af9\" fill-rule=\"evenodd\" fill-opacity=\"1\"/>\n",
       "<polyline clip-path=\"url(#clip972)\" style=\"stroke:#000000; stroke-linecap:round; stroke-linejoin:round; stroke-width:4; stroke-opacity:1; fill:none\" points=\"\n",
       "  1113.69,1337.68 1104.15,1321.17 1085.08,1321.17 1075.55,1337.68 1085.08,1354.2 1104.15,1354.2 1113.69,1337.68 \n",
       "  \"/>\n",
       "<path clip-path=\"url(#clip972)\" d=\"\n",
       "M1587.49 1011.41 L1577.96 994.89 L1558.89 994.89 L1549.35 1011.41 L1558.89 1027.92 L1577.96 1027.92 L1587.49 1011.41 L1587.49 1011.41  Z\n",
       "  \" fill=\"#009af9\" fill-rule=\"evenodd\" fill-opacity=\"1\"/>\n",
       "<polyline clip-path=\"url(#clip972)\" style=\"stroke:#000000; stroke-linecap:round; stroke-linejoin:round; stroke-width:4; stroke-opacity:1; fill:none\" points=\"\n",
       "  1587.49,1011.41 1577.96,994.89 1558.89,994.89 1549.35,1011.41 1558.89,1027.92 1577.96,1027.92 1587.49,1011.41 \n",
       "  \"/>\n",
       "<path clip-path=\"url(#clip972)\" d=\"\n",
       "M806.227 550.485 L796.693 533.97 L777.623 533.97 L768.088 550.485 L777.623 567 L796.693 567 L806.227 550.485 L806.227 550.485  Z\n",
       "  \" fill=\"#009af9\" fill-rule=\"evenodd\" fill-opacity=\"1\"/>\n",
       "<polyline clip-path=\"url(#clip972)\" style=\"stroke:#000000; stroke-linecap:round; stroke-linejoin:round; stroke-width:4; stroke-opacity:1; fill:none\" points=\"\n",
       "  806.227,550.485 796.693,533.97 777.623,533.97 768.088,550.485 777.623,567 796.693,567 806.227,550.485 \n",
       "  \"/>\n",
       "<path clip-path=\"url(#clip972)\" d=\"M1119.79 262.717 L1119.45 262.517 L1119.45 262.117 L1119.79 261.917 L1120.14 262.117 L1120.14 262.517 Z\" fill=\"#009af9\" fill-rule=\"evenodd\" fill-opacity=\"1\" stroke=\"#000000\" stroke-opacity=\"1\" stroke-width=\"3.2\"/>\n",
       "<path clip-path=\"url(#clip972)\" d=\"M1366.16 578.213 L1365.82 578.013 L1365.82 577.613 L1366.16 577.413 L1366.51 577.613 L1366.51 578.013 Z\" fill=\"#009af9\" fill-rule=\"evenodd\" fill-opacity=\"1\" stroke=\"#000000\" stroke-opacity=\"1\" stroke-width=\"3.2\"/>\n",
       "<path clip-path=\"url(#clip972)\" d=\"M1737.68 750.035 L1737.34 749.835 L1737.34 749.435 L1737.68 749.235 L1738.03 749.435 L1738.03 749.835 Z\" fill=\"#009af9\" fill-rule=\"evenodd\" fill-opacity=\"1\" stroke=\"#000000\" stroke-opacity=\"1\" stroke-width=\"3.2\"/>\n",
       "<path clip-path=\"url(#clip972)\" d=\"M1228.05 855.132 L1227.71 854.932 L1227.71 854.532 L1228.05 854.332 L1228.4 854.532 L1228.4 854.932 Z\" fill=\"#009af9\" fill-rule=\"evenodd\" fill-opacity=\"1\" stroke=\"#000000\" stroke-opacity=\"1\" stroke-width=\"3.2\"/>\n",
       "<path clip-path=\"url(#clip972)\" d=\"M936.666 1062.91 L936.32 1062.71 L936.32 1062.31 L936.666 1062.11 L937.012 1062.31 L937.012 1062.71 Z\" fill=\"#009af9\" fill-rule=\"evenodd\" fill-opacity=\"1\" stroke=\"#000000\" stroke-opacity=\"1\" stroke-width=\"3.2\"/>\n",
       "<path clip-path=\"url(#clip972)\" d=\"M662.317 1306.01 L661.971 1305.81 L661.971 1305.41 L662.317 1305.21 L662.664 1305.41 L662.664 1305.81 Z\" fill=\"#009af9\" fill-rule=\"evenodd\" fill-opacity=\"1\" stroke=\"#000000\" stroke-opacity=\"1\" stroke-width=\"3.2\"/>\n",
       "<path clip-path=\"url(#clip972)\" d=\"M1094.62 1338.08 L1094.27 1337.88 L1094.27 1337.48 L1094.62 1337.28 L1094.96 1337.48 L1094.96 1337.88 Z\" fill=\"#009af9\" fill-rule=\"evenodd\" fill-opacity=\"1\" stroke=\"#000000\" stroke-opacity=\"1\" stroke-width=\"3.2\"/>\n",
       "<path clip-path=\"url(#clip972)\" d=\"M1568.42 1011.81 L1568.08 1011.61 L1568.08 1011.21 L1568.42 1011.01 L1568.77 1011.21 L1568.77 1011.61 Z\" fill=\"#009af9\" fill-rule=\"evenodd\" fill-opacity=\"1\" stroke=\"#000000\" stroke-opacity=\"1\" stroke-width=\"3.2\"/>\n",
       "<path clip-path=\"url(#clip972)\" d=\"M787.158 550.885 L786.811 550.685 L786.811 550.285 L787.158 550.085 L787.504 550.285 L787.504 550.685 Z\" fill=\"#009af9\" fill-rule=\"evenodd\" fill-opacity=\"1\" stroke=\"#000000\" stroke-opacity=\"1\" stroke-width=\"3.2\"/>\n",
       "<path clip-path=\"url(#clip970)\" d=\"M1111.38 273.994 L1118.06 273.994 L1118.06 250.924 L1110.79 252.382 L1110.79 248.656 L1118.02 247.197 L1122.11 247.197 L1122.11 273.994 L1128.8 273.994 L1128.8 277.437 L1111.38 277.437 L1111.38 273.994 Z\" fill=\"#000000\" fill-rule=\"evenodd\" fill-opacity=\"1\" /><path clip-path=\"url(#clip970)\" d=\"M1361.49 589.49 L1375.76 589.49 L1375.76 592.933 L1356.56 592.933 L1356.56 589.49 Q1358.89 587.079 1362.9 583.029 Q1366.93 578.957 1367.97 577.783 Q1369.93 575.575 1370.7 574.056 Q1371.49 572.516 1371.49 571.038 Q1371.49 568.628 1369.79 567.108 Q1368.11 565.589 1365.39 565.589 Q1363.47 565.589 1361.32 566.258 Q1359.2 566.926 1356.77 568.283 L1356.77 564.151 Q1359.24 563.159 1361.38 562.652 Q1363.53 562.146 1365.31 562.146 Q1370.01 562.146 1372.81 564.496 Q1375.6 566.845 1375.6 570.775 Q1375.6 572.638 1374.89 574.319 Q1374.21 575.98 1372.36 578.248 Q1371.86 578.836 1369.14 581.651 Q1366.43 584.446 1361.49 589.49 Z\" fill=\"#000000\" fill-rule=\"evenodd\" fill-opacity=\"1\" /><path clip-path=\"url(#clip970)\" d=\"M1741.4 748.45 Q1744.34 749.078 1745.98 751.063 Q1747.64 753.048 1747.64 755.964 Q1747.64 760.441 1744.56 762.891 Q1741.48 765.342 1735.81 765.342 Q1733.91 765.342 1731.88 764.957 Q1729.87 764.593 1727.73 763.843 L1727.73 759.894 Q1729.43 760.886 1731.45 761.393 Q1733.48 761.899 1735.69 761.899 Q1739.54 761.899 1741.54 760.38 Q1743.57 758.861 1743.57 755.964 Q1743.57 753.291 1741.68 751.792 Q1739.82 750.273 1736.48 750.273 L1732.95 750.273 L1732.95 746.911 L1736.64 746.911 Q1739.66 746.911 1741.26 745.716 Q1742.86 744.5 1742.86 742.232 Q1742.86 739.903 1741.2 738.667 Q1739.56 737.411 1736.48 737.411 Q1734.8 737.411 1732.87 737.776 Q1730.95 738.14 1728.64 738.91 L1728.64 735.264 Q1730.97 734.616 1732.99 734.292 Q1735.04 733.968 1736.84 733.968 Q1741.5 733.968 1744.21 736.095 Q1746.93 738.201 1746.93 741.806 Q1746.93 744.318 1745.49 746.06 Q1744.05 747.782 1741.4 748.45 Z\" fill=\"#000000\" fill-rule=\"evenodd\" fill-opacity=\"1\" /><path clip-path=\"url(#clip970)\" d=\"M1230.69 843.176 L1220.36 859.319 L1230.69 859.319 L1230.69 843.176 M1229.61 839.612 L1234.76 839.612 L1234.76 859.319 L1239.07 859.319 L1239.07 862.722 L1234.76 862.722 L1234.76 869.852 L1230.69 869.852 L1230.69 862.722 L1217.04 862.722 L1217.04 858.772 L1229.61 839.612 Z\" fill=\"#000000\" fill-rule=\"evenodd\" fill-opacity=\"1\" /><path clip-path=\"url(#clip970)\" d=\"M928.159 1047.39 L944.221 1047.39 L944.221 1050.83 L931.906 1050.83 L931.906 1058.25 Q932.797 1057.94 933.689 1057.8 Q934.58 1057.64 935.471 1057.64 Q940.535 1057.64 943.492 1060.41 Q946.449 1063.19 946.449 1067.93 Q946.449 1072.81 943.411 1075.52 Q940.373 1078.22 934.843 1078.22 Q932.939 1078.22 930.954 1077.89 Q928.99 1077.57 926.883 1076.92 L926.883 1072.81 Q928.706 1073.8 930.65 1074.29 Q932.595 1074.77 934.762 1074.77 Q938.266 1074.77 940.312 1072.93 Q942.358 1071.09 942.358 1067.93 Q942.358 1064.77 940.312 1062.92 Q938.266 1061.08 934.762 1061.08 Q933.121 1061.08 931.481 1061.45 Q929.861 1061.81 928.159 1062.58 L928.159 1047.39 Z\" fill=\"#000000\" fill-rule=\"evenodd\" fill-opacity=\"1\" /><path clip-path=\"url(#clip970)\" d=\"M662.672 1303.98 Q659.917 1303.98 658.297 1305.86 Q656.697 1307.75 656.697 1311.03 Q656.697 1314.29 658.297 1316.19 Q659.917 1318.08 662.672 1318.08 Q665.426 1318.08 667.026 1316.19 Q668.647 1314.29 668.647 1311.03 Q668.647 1307.75 667.026 1305.86 Q665.426 1303.98 662.672 1303.98 M670.794 1291.16 L670.794 1294.89 Q669.254 1294.16 667.675 1293.77 Q666.115 1293.39 664.576 1293.39 Q660.525 1293.39 658.378 1296.12 Q656.251 1298.86 655.947 1304.39 Q657.142 1302.62 658.945 1301.69 Q660.747 1300.74 662.915 1300.74 Q667.472 1300.74 670.105 1303.51 Q672.758 1306.27 672.758 1311.03 Q672.758 1315.69 670.004 1318.5 Q667.249 1321.32 662.672 1321.32 Q657.426 1321.32 654.651 1317.31 Q651.876 1313.28 651.876 1305.64 Q651.876 1298.47 655.279 1294.22 Q658.682 1289.94 664.414 1289.94 Q665.953 1289.94 667.512 1290.25 Q669.092 1290.55 670.794 1291.16 Z\" fill=\"#000000\" fill-rule=\"evenodd\" fill-opacity=\"1\" /><path clip-path=\"url(#clip970)\" d=\"M1084.89 1322.56 L1104.34 1322.56 L1104.34 1324.3 L1093.36 1352.8 L1089.09 1352.8 L1099.42 1326.01 L1084.89 1326.01 L1084.89 1322.56 Z\" fill=\"#000000\" fill-rule=\"evenodd\" fill-opacity=\"1\" /><path clip-path=\"url(#clip970)\" d=\"M1568.42 1012.16 Q1565.51 1012.16 1563.83 1013.72 Q1562.16 1015.28 1562.16 1018.02 Q1562.16 1020.75 1563.83 1022.31 Q1565.51 1023.87 1568.42 1023.87 Q1571.34 1023.87 1573.02 1022.31 Q1574.7 1020.73 1574.7 1018.02 Q1574.7 1015.28 1573.02 1013.72 Q1571.36 1012.16 1568.42 1012.16 M1564.33 1010.42 Q1561.7 1009.77 1560.22 1007.97 Q1558.76 1006.17 1558.76 1003.58 Q1558.76 999.951 1561.33 997.845 Q1563.93 995.738 1568.42 995.738 Q1572.94 995.738 1575.51 997.845 Q1578.08 999.951 1578.08 1003.58 Q1578.08 1006.17 1576.61 1007.97 Q1575.15 1009.77 1572.54 1010.42 Q1575.49 1011.11 1577.13 1013.12 Q1578.79 1015.12 1578.79 1018.02 Q1578.79 1022.41 1576.1 1024.76 Q1573.43 1027.11 1568.42 1027.11 Q1563.42 1027.11 1560.73 1024.76 Q1558.05 1022.41 1558.05 1018.02 Q1558.05 1015.12 1559.71 1013.12 Q1561.37 1011.11 1564.33 1010.42 M1562.83 1003.96 Q1562.83 1006.31 1564.29 1007.63 Q1565.77 1008.94 1568.42 1008.94 Q1571.06 1008.94 1572.54 1007.63 Q1574.03 1006.31 1574.03 1003.96 Q1574.03 1001.61 1572.54 1000.3 Q1571.06 998.979 1568.42 998.979 Q1565.77 998.979 1564.29 1000.3 Q1562.83 1001.61 1562.83 1003.96 Z\" fill=\"#000000\" fill-rule=\"evenodd\" fill-opacity=\"1\" /><path clip-path=\"url(#clip970)\" d=\"M778.671 564.977 L778.671 561.251 Q780.21 561.98 781.79 562.365 Q783.37 562.749 784.889 562.749 Q788.94 562.749 791.067 560.035 Q793.214 557.301 793.518 551.751 Q792.343 553.493 790.54 554.425 Q788.737 555.357 786.55 555.357 Q782.013 555.357 779.36 552.622 Q776.727 549.868 776.727 545.108 Q776.727 540.449 779.481 537.634 Q782.236 534.818 786.813 534.818 Q792.059 534.818 794.814 538.849 Q797.589 542.859 797.589 550.516 Q797.589 557.666 794.186 561.939 Q790.803 566.193 785.071 566.193 Q783.532 566.193 781.952 565.889 Q780.372 565.585 778.671 564.977 M786.813 552.156 Q789.568 552.156 791.168 550.273 Q792.788 548.389 792.788 545.108 Q792.788 541.847 791.168 539.963 Q789.568 538.059 786.813 538.059 Q784.059 538.059 782.438 539.963 Q780.838 541.847 780.838 545.108 Q780.838 548.389 782.438 550.273 Q784.059 552.156 786.813 552.156 Z\" fill=\"#000000\" fill-rule=\"evenodd\" fill-opacity=\"1\" /></svg>\n"
      ]
     },
     "metadata": {},
     "output_type": "display_data"
    }
   ],
   "source": [
    "BestProfit, Bestsol, trParentnodes, trChildnodes, trNamenodes = SolveKnapInstance(\"instancesETU/KNAPnewformat/test.opb.txt\", \"borne1\")\n",
    "println(\"\\n******\\n\\nOptimal value = \", BestProfit, \"\\n\\nOptimal x=\", Bestsol)\n",
    "graphplot(trParentnodes, trChildnodes, names=trNamenodes, method=:tree)"
   ]
  },
  {
   "cell_type": "code",
   "execution_count": 36,
   "metadata": {},
   "outputs": [
    {
     "name": "stdout",
     "output_type": "stream",
     "text": [
      "2.5"
     ]
    }
   ],
   "source": []
  },
  {
   "cell_type": "code",
   "execution_count": null,
   "metadata": {},
   "outputs": [],
   "source": [
    "Questions préliminares :\n",
    "\n",
    "1. La règle de séparation permet de divisier une situation en deux cas à observer. Dans le problème du sac, on observe les variations (présent ou pas présent) pour l'objet $i$ ayant le plus grand ratio, c'est à dire $\\frac{p_i}{c_i}.\n",
    "On sépare donc notre situation dans un premier cas où l'objet $i$ solution de $max = \\frac{p_i}{c_i}$ est présent, et un second cas où il n'est pas présent.\n",
    "SeparerNoeud_lexicographic_depthfirst!\n",
    "\n",
    "2. Pour le calcul de la borne supérieure, on prend la valeur maximale $x_i$ dans R de la variable choisit dans l'étape de séparation qui permet de respecter la contrainte.\n",
    "\n",
    "\n",
    "3. Le test d'admissibilité permet de vérifier que l'on respecte bien les contraintes. \n",
    "   Le test d'Optimalité permet de vérifier qu'un résultat réalisable est plus optimal qu'un autre résultat dejà calculé étant réalisable.\n",
    "   Le test de résolution vérifie que la borne supérieur d'un état est égal à sa borne inférieur. Dans ce cas, cet état est la solution.\n",
    "\n",
    "4. On choisi le cas tel le UpperBound est maximal."
   ]
  },
  {
   "cell_type": "code",
   "execution_count": 105,
   "metadata": {},
   "outputs": [
    {
     "name": "stdout",
     "output_type": "stream",
     "text": [
      "[1, 2, 3]"
     ]
    }
   ],
   "source": [
    "a = [1,2,3,4]\n",
    "b = a\n",
    "pop!(a)\n",
    "print(b)"
   ]
  },
  {
   "cell_type": "code",
   "execution_count": null,
   "metadata": {},
   "outputs": [],
   "source": []
  }
 ],
 "metadata": {
  "kernelspec": {
   "display_name": "Julia 1.8.3",
   "language": "julia",
   "name": "julia-1.8"
  },
  "language_info": {
   "file_extension": ".jl",
   "mimetype": "application/julia",
   "name": "julia",
   "version": "1.8.3"
  }
 },
 "nbformat": 4,
 "nbformat_minor": 4
}
