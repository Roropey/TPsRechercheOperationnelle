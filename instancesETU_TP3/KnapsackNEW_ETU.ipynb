{
 "cells": [
  {
   "attachments": {},
   "cell_type": "markdown",
   "metadata": {},
   "source": [
    "# TP 3 : Branch-and-bound applied to a knapsack problem"
   ]
  },
  {
   "cell_type": "markdown",
   "metadata": {},
   "source": [
    "### Initialisation (à faire une seule fois)"
   ]
  },
  {
   "cell_type": "code",
   "execution_count": 32,
   "metadata": {},
   "outputs": [
    {
     "name": "stderr",
     "output_type": "stream",
     "text": [
      "\u001b[32m\u001b[1m   Resolving\u001b[22m\u001b[39m package versions...\n"
     ]
    },
    {
     "name": "stderr",
     "output_type": "stream",
     "text": [
      "\u001b[32m\u001b[1m  No Changes\u001b[22m\u001b[39m to `~/.julia/environments/v1.8/Project.toml`\n",
      "\u001b[32m\u001b[1m  No Changes\u001b[22m\u001b[39m to `~/.julia/environments/v1.8/Manifest.toml`\n"
     ]
    },
    {
     "name": "stderr",
     "output_type": "stream",
     "text": [
      "\u001b[32m\u001b[1m   Resolving\u001b[22m\u001b[39m package versions...\n"
     ]
    },
    {
     "name": "stderr",
     "output_type": "stream",
     "text": [
      "\u001b[32m\u001b[1m  No Changes\u001b[22m\u001b[39m to `~/.julia/environments/v1.8/Project.toml`\n",
      "\u001b[32m\u001b[1m  No Changes\u001b[22m\u001b[39m to `~/.julia/environments/v1.8/Manifest.toml`\n"
     ]
    }
   ],
   "source": [
    "import Pkg; \n",
    "Pkg.add(\"GraphRecipes\"); Pkg.add(\"Plots\"); \n",
    "using GraphRecipes, Plots #only used to visualize the search tree at the end of the branch-and-bound"
   ]
  },
  {
   "attachments": {},
   "cell_type": "markdown",
   "metadata": {},
   "source": [
    "### Récupération des données"
   ]
  },
  {
   "cell_type": "code",
   "execution_count": 33,
   "metadata": {},
   "outputs": [
    {
     "data": {
      "text/plain": [
       "readKnaptxtInstance (generic function with 1 method)"
      ]
     },
     "metadata": {},
     "output_type": "display_data"
    }
   ],
   "source": [
    "function readKnaptxtInstance(filename)\n",
    "    price=[]\n",
    "    weight=[]\n",
    "    KnapCap=[]\n",
    "    open(filename) do f\n",
    "        for i in 1:3\n",
    "            tok = split(readline(f))\n",
    "            if(tok[1] == \"ListPrices=\")\n",
    "                for i in 2:(length(tok)-1)\n",
    "                    push!(price,parse(Int64, tok[i]))\n",
    "                end\n",
    "            elseif(tok[1] == \"ListWeights=\")\n",
    "                for i in 2:(length(tok)-1)\n",
    "                    push!(weight,parse(Int64, tok[i]))\n",
    "                end\n",
    "            elseif(tok[1] == \"Capacity=\")\n",
    "                push!(KnapCap, parse(Int64, tok[2]))\n",
    "            else\n",
    "                println(\"Unknown read :\", tok)\n",
    "            end \n",
    "        end\n",
    "    end\n",
    "    capacity=KnapCap[1]\n",
    "    return price, weight, capacity\n",
    "end"
   ]
  },
  {
   "attachments": {},
   "cell_type": "markdown",
   "metadata": {},
   "source": [
    "### Programmation dynamique"
   ]
  },
  {
   "cell_type": "code",
   "execution_count": 96,
   "metadata": {},
   "outputs": [
    {
     "data": {
      "text/plain": [
       "SolveKnapInstanceDym (generic function with 1 method)"
      ]
     },
     "metadata": {},
     "output_type": "display_data"
    }
   ],
   "source": [
    "function constructionC(price, weight, capacity)\n",
    "    # Fonction pour construire la matrice C\n",
    "\n",
    "    # Initialisation de la matrice\n",
    "    c = zeros(length(price),capacity+1)\n",
    "\n",
    "    i = 1\n",
    "\n",
    "    while(i<= length(price))\n",
    "        # Initialisation des colonnes à 2 car la première colonne reste à 0\n",
    "        j = 2\n",
    "\n",
    "        while(j<=capacity+1)\n",
    "            # Définition des lignes et colonnes précédentes ou en enlevant le poids\n",
    "            # pour éviter de sortir de la matrice\n",
    "            i_prec = max(i-1,1)\n",
    "            j_moins_poids = max(1,j-weight[i])\n",
    "\n",
    "            # Calcul C récurrence pour comparaison\n",
    "                # Cas sans ajout du poids\n",
    "            c_prec = c[i_prec,j]\n",
    "                # Cas ajout du poids à partir du cas où le poids max était plus faible\n",
    "            c_actuel_ajout = c[i_prec,j_moins_poids]+price[i]\n",
    "                    # Test admissibilité, respect contrainte\n",
    "            if (weight[i]>j-1)\n",
    "                c_actuel_ajout = 0\n",
    "            end\n",
    "            # Comparaison des C obtenues (relation récurrence) pour maximiser le gain\n",
    "            c[i,j] = max(c_prec,c_actuel_ajout)\n",
    "\n",
    "            # Avancement colonne\n",
    "            j+=1\n",
    "\n",
    "        end\n",
    "        # Avancement ligne\n",
    "        i+=1\n",
    "\n",
    "    end\n",
    "\n",
    "    return c\n",
    "\n",
    "end\n",
    "\n",
    "function analyseC(c,price,weight,capacity)\n",
    "    # Initialisation des résultats\n",
    "    Bestsol, ObjSol, BestProfit = zeros(length(price)), Any[], -1\n",
    "    # Début analyse dans le cas de poids correspondant à l'étude et de gain maximal\n",
    "    i, j = length(price), capacity + 1\n",
    "    # Récupération meilleur profit\n",
    "    BestProfit = c[i,j]\n",
    "    # Parcours descendant des lignes (i décroit)\n",
    "    while (i > 1)\n",
    "        # Si le gain est égal à celui de la ligne précédente, alors l'objet n'a pas été pris\n",
    "        if c[i-1,j] == c[i,j]\n",
    "            Bestsol[i] = 0.0\n",
    "        # Sinon le gain à augmenter de la valeur ajoutée de l'objet\n",
    "        else\n",
    "            Bestsol[i] = 1.0\n",
    "            push!(ObjSol,i)\n",
    "            # On observe le gain pour un sac de capacité moindre et donc de poids occupé maximal sans l'objet validé\n",
    "            j -= weight[i]\n",
    "            # Vérification de non débordement de la matrice\n",
    "            if j <= 0\n",
    "                j = 1\n",
    "            end\n",
    "        end\n",
    "        # Analyse ligne suivante : si l'objet précédent est présent ou non\n",
    "        i-=1\n",
    "    end\n",
    "\n",
    "    # Analyse du premier objet potentiellement ajouté à part car pas possible d'observer les lignes précédentes.\n",
    "    if c[i,j] != 0\n",
    "        # Si le gain est non nul, alors ce premier objet est ajouté au sac\n",
    "        Bestsol[i] = 1.0\n",
    "    end \n",
    "\n",
    "    return Bestsol, ObjSol, BestProfit\n",
    "end\n",
    "\n",
    "function SolveKnapInstanceDym(filename, affichage)\n",
    "\n",
    "    price, weight, capacity = readKnaptxtInstance(filename)\n",
    "    if affichage\n",
    "        println(\"\\nConstruction de la matrice C ...\")\n",
    "    end\n",
    "    c = constructionC(price, weight, capacity)\n",
    "    if affichage\n",
    "        println(\"\\n... Matrice C contruite\")\n",
    "    end\n",
    "    #println(\"\\nMatrice C obtenue \",c)\n",
    "    if affichage\n",
    "        println(\"\\nAnalyse de la matrice C ...\\n\")\n",
    "    end\n",
    "    Bestsol,ObjSol,BestProfit = analyseC(c,price, weight, capacity)\n",
    "    if affichage\n",
    "        println(\"\\n... Matrice C analysée\")\n",
    "\n",
    "        println(\"\\n******\\n\\nOptimal value = \", BestProfit, \"\\n\\nOptimal (Matrice 0 objet pas présent, 1 objet présent) sol=\", Bestsol, \"\\n\\nOptima (objet présent) x=\",ObjSol)\n",
    "    end\n",
    "    return BestProfit,Bestsol,ObjSol\n",
    "\n",
    "end"
   ]
  },
  {
   "cell_type": "markdown",
   "metadata": {},
   "source": [
    "### Affichage du résultat final"
   ]
  },
  {
   "cell_type": "code",
   "execution_count": 97,
   "metadata": {},
   "outputs": [],
   "source": [
    "cd(\"/home/romai/Enseeiht/S7/RechOp/TPs/instancesETU_TP3/\")"
   ]
  },
  {
   "cell_type": "code",
   "execution_count": 98,
   "metadata": {},
   "outputs": [
    {
     "name": "stdout",
     "output_type": "stream",
     "text": [
      "\n",
      "Construction de la matrice C ...\n",
      "\n",
      "... Matrice C contruite\n",
      "\n",
      "Analyse de la matrice C ...\n",
      "\n",
      "\n",
      "... Matrice C analysée\n",
      "\n",
      "******\n",
      "\n",
      "Optimal value = 65.0\n",
      "\n",
      "Optimal (Matrice 0 objet pas présent, 1 objet présent) sol=[0.0, 1.0, 0.0, 1.0]\n",
      "\n",
      "Optima (objet présent) x=Any[4, 2]\n",
      "  0.084354 seconds (24.43 k allocations: 1.188 MiB, 99.17% compilation time)\n",
      "\n",
      "******\n",
      "\n",
      "Optimal value = 65.0\n",
      "\n",
      "Optimal (Matrice 0 objet pas présent, 1 objet présent) sol=[0.0, 1.0, 0.0, 1.0]\n",
      "\n",
      "Optima (objet présent) x=Any[4, 2]\n"
     ]
    }
   ],
   "source": [
    "\n",
    "@time BestProfit, Bestsol,ObjSol = SolveKnapInstanceDym(\"instancesETU/KNAPnewformat/test.opb.txt\",true)\n",
    "\n",
    "println(\"\\n******\\n\\nOptimal value = \", BestProfit, \"\\n\\nOptimal (Matrice 0 objet pas présent, 1 objet présent) sol=\", Bestsol, \"\\n\\nOptima (objet présent) x=\",ObjSol)\n"
   ]
  },
  {
   "attachments": {},
   "cell_type": "markdown",
   "metadata": {},
   "source": [
    "Par construction récurcive de la matrice C, pour chaque valeur $C_{i,j}$, on a la valeur maximale par ajout ou non des objets $k \\in [1;...;i]$ respectant la capacité maximale $j$. Ainsi la valeur de la dernière ligne et de la dernière colonne correspond à la valeur maximale obtenue après ajout ou non de tout les poids dans le cas de la capacité maximale de l'étude de départ. En inversant la construction de la matrice, on peut retrouver les objets ajoutés dans le sac et ainsi avoir la meilleur solution."
   ]
  },
  {
   "attachments": {},
   "cell_type": "markdown",
   "metadata": {},
   "source": [
    "### Programme Branch-and-Bound (TP2)"
   ]
  },
  {
   "cell_type": "code",
   "execution_count": 135,
   "metadata": {},
   "outputs": [
    {
     "data": {
      "text/plain": [
       "SolveKnapInstanceBranch (generic function with 1 method)"
      ]
     },
     "metadata": {},
     "output_type": "display_data"
    }
   ],
   "source": [
    "function readKnaptxtInstance(filename)\n",
    "    price=[]\n",
    "    weight=[]\n",
    "    KnapCap=[]\n",
    "    open(filename) do f\n",
    "        for i in 1:3\n",
    "            tok = split(readline(f))\n",
    "            if(tok[1] == \"ListPrices=\")\n",
    "                for i in 2:(length(tok)-1)\n",
    "                    push!(price,parse(Int64, tok[i]))\n",
    "                end\n",
    "            elseif(tok[1] == \"ListWeights=\")\n",
    "                for i in 2:(length(tok)-1)\n",
    "                    push!(weight,parse(Int64, tok[i]))\n",
    "                end\n",
    "            elseif(tok[1] == \"Capacity=\")\n",
    "                push!(KnapCap, parse(Int64, tok[2]))\n",
    "            else\n",
    "                println(\"Unknown read :\", tok)\n",
    "            end \n",
    "        end\n",
    "    end\n",
    "    capacity=KnapCap[1]\n",
    "    return price, weight, capacity\n",
    "end\n",
    "function TestsSondabilite(listobjs, listvals, price, weight, capacity, borneinf, bornesup, BestProfit, Bestsol, affichage)\n",
    "    TA, TO, TR = false, false, false\n",
    "    \n",
    "    current_weight = 0\n",
    "    current_price = 0\n",
    "    for i in 1:length(listobjs)\n",
    "        if listvals[i] == 1\n",
    "            current_weight += weight[listobjs[i]]\n",
    "            current_price += price[listobjs[i]]\n",
    "        end\n",
    "               \n",
    "    end\n",
    "\n",
    "    if current_weight > capacity  # Test d'Admissibilité\n",
    "        TA = true\n",
    "        if affichage\n",
    "            println(\"TA\")\n",
    "        end\n",
    "    elseif (bornesup < BestProfit)  # Test d'optimalite\n",
    "        TO = true\n",
    "        if affichage\n",
    "            println(\"TO\")\n",
    "        end\n",
    "    elseif borneinf == bornesup # Test de resolution\n",
    "        TR = true\n",
    "        if affichage\n",
    "            println(\"TR\")\n",
    "        end\n",
    "        if bornesup >= BestProfit\n",
    "            Bestsol = copy(listobjs.*listvals)\n",
    "            BestProfit = bornesup\n",
    "            if affichage\n",
    "                println(\"\\nNew Solution memorized \", Bestsol, \" with bestprofit \", BestProfit, \"\\n\")\n",
    "            end\n",
    "        end\n",
    "    else\n",
    "        if affichage\n",
    "            println(\"non sondable\")\n",
    "        end\n",
    "    end\n",
    "    return TA, TO, TR, Bestsol, BestProfit\n",
    "end\n",
    "\n",
    "function SeparerNoeud_lexicographic_depthfirst!(listobjs, listvals, n,  price, weight, affichage)\n",
    "    # this node is non-sondable. Apply the branching criterion to separate it into two subnodes\n",
    "    # and choose the child-node at the left  \n",
    "    \n",
    "    # lexicographic branching criterion: branch on the 1st object not yet fixed\n",
    "    i, obj, maxr = 1, 0, -1.0\n",
    "    while((i <= n))\n",
    "        if (!(i in listobjs)) && ((price[i]/weight[i]) >= maxr)\n",
    "            maxr = (price[i]/weight[i])\n",
    "            obj = i\n",
    "        end        \n",
    "        i+=1\n",
    "    end\n",
    "\n",
    "    if affichage\n",
    "        println(\"\\nbranch on object \", obj, \"\\n\")\n",
    "    end\n",
    "    # depthfirst exploration strategy: the node selected will be the most left of the child-nodes just created\n",
    "    push!(listobjs,obj) #save the identity of the object selected for branching\n",
    "    push!(listvals,1.0) #save the node selected, identified by the value assigned to the variable/object chosen\n",
    "end\n",
    "\n",
    "\n",
    "function ExplorerAutreNoeud_depthfirst!(listobjs, listvals, listnodes, affichage)\n",
    "    #this node is sondable, go back to parent node then right child if possible\n",
    "    \n",
    "    stop=false\n",
    "    #check if we are not at the root node\n",
    "    if (length(listobjs)>= 1)\n",
    "        #go back to parent node\n",
    "        obj=pop!(listobjs)\n",
    "        theval=pop!(listvals)\n",
    "        tmp=pop!(listnodes)\n",
    "\n",
    "        #go to right child if possible, otherwise go back to parent\n",
    "        while( (theval==0.0) && (length(listobjs)>= 1))\n",
    "            obj=pop!(listobjs)\n",
    "            theval=pop!(listvals)\n",
    "            tmp=pop!(listnodes)\n",
    "        end\n",
    "        if theval==1.0\n",
    "            push!(listobjs,obj)\n",
    "            push!(listvals,0.0)\n",
    "        else\n",
    "            if affichage\n",
    "                println(\"\\nFINISHED\")\n",
    "            end\n",
    "            stop=true\n",
    "        end\n",
    "    else\n",
    "        #the root node was sondable\n",
    "        if affichage\n",
    "            println(\"\\nFINISHED\")\n",
    "        end\n",
    "        stop=true\n",
    "    end\n",
    "    return stop \n",
    "end\n",
    "function Bornes_1!(price, weight, capacity, listobjs, listvals)\n",
    "    \n",
    "    placeDispo, prixEnCours, obj, maxr = capacity, 0.0, 0, -1.0\n",
    "    for i in 1:length(listobjs)\n",
    "        if listvals[i] == 1\n",
    "            placeDispo -= weight[listobjs[i]]\n",
    "            prixEnCours += price[listobjs[i]]\n",
    "        end\n",
    "    end \n",
    "\n",
    "    if (length(listobjs) < length(price))\n",
    "        for i in 1:length(price)\n",
    "            if (!(i in listobjs)) && ((price[i]/weight[i]) >= maxr)\n",
    "                maxr = (price[i]/weight[i])\n",
    "                obj = i\n",
    "            end\n",
    "        end\n",
    "        facteurObj = placeDispo/weight[obj]\n",
    "\n",
    "        borneinf, bornesup = prixEnCours, (prixEnCours+facteurObj*price[obj])\n",
    "    else \n",
    "        borneinf, bornesup = prixEnCours, prixEnCours\n",
    "    end\n",
    "    return borneinf, bornesup\n",
    "\n",
    "end\n",
    "\n",
    "function Bornes_2!(price, weight, capacity, listobjs, listvals)\n",
    "    placeDispo, prixEnCours, listeAjoutee, obj = capacity, 0.0, [], -1\n",
    "    for i in 1:length(listobjs)\n",
    "        if listvals[i] == 1\n",
    "            placeDispo -= weight[listobjs[i]]\n",
    "            prixEnCours += price[listobjs[i]]\n",
    "        end\n",
    "    end\n",
    "    \n",
    "    if (length(listobjs) < length(price)) && (placeDispo > 0)\n",
    "        prixMax = prixEnCours\n",
    "        while (placeDispo > 0) && ((length(listobjs) + length(listeAjoutee)) < length(price)) \n",
    "            maxr, obj = -1.0, 0\n",
    "            for i in 1:length(price)\n",
    "                if (!(i in listobjs)) && (!(i in listeAjoutee)) && ((price[i]/weight[i]) >= maxr)\n",
    "                    maxr = (price[i]/weight[i])\n",
    "                    obj = i\n",
    "                end\n",
    "            end\n",
    "            push!(listeAjoutee,obj)\n",
    "\n",
    "            placeDispo -= weight[obj]\n",
    "            prixMax += price[obj]\n",
    "        end\n",
    "        \n",
    "        if placeDispo < 0    \n",
    "            placeDispo += weight[obj]\n",
    "            prixMax -= price[obj]\n",
    "        end\n",
    "        \n",
    "        facteurObj = placeDispo/weight[obj]  \n",
    "        return prixEnCours,prixMax+price[obj]*facteurObj\n",
    "    else\n",
    "        return prixEnCours, prixEnCours\n",
    "    end\n",
    "end\n",
    "function SolveKnapInstanceBranch(filename, borne, affichage)\n",
    "\n",
    "    price, weight, capacity = readKnaptxtInstance(filename)\n",
    "\n",
    "    #model2, x = CreationModele_LP(price, weight, capacity)\n",
    "\n",
    "    #create the structure to memorize the search tree for visualization at the end\n",
    "    trParentnodes=Int64[] #will store orig node of arc in search tree\n",
    "    trChildnodes=Int64[] #will store destination node of arc in search tree\n",
    "    trNamenodes=[] #will store names of nodes in search tree\n",
    "\n",
    "    #intermediate structure to navigate in the search tree\n",
    "    listobjs=[]\n",
    "    listvals=[]\n",
    "    listnodes=[]\n",
    "\n",
    "    BestProfit=-1\n",
    "    Bestsol=[]\n",
    "    Bestvals=[]\n",
    "\n",
    "    current_node_number=0\n",
    "    stop = false\n",
    "\n",
    "    while(!stop)\n",
    "        if affichage\n",
    "            println(\"\\nNode number \", current_node_number, \": \\n---------------\\n\")\n",
    "        end\n",
    "        #Update the graphical tree\n",
    "        push!(trNamenodes,current_node_number+1) \n",
    "        if(length(trNamenodes)>=2)\n",
    "            push!(trParentnodes,listnodes[end]+1) # +1 because the 1st node is \"node 0\"\n",
    "            push!(trChildnodes, current_node_number+1) # +1 because the 1st node is \"node 0\"\n",
    "        end\n",
    "        push!(listnodes, current_node_number)\n",
    "\n",
    "        #=\n",
    "        #create LP of current node\n",
    "        MajModele_LP!(model2, x, listobjs, listvals)\n",
    "        \n",
    "        println(model2)\n",
    "        \n",
    "        print(\"Solve the LP model of the current node to compute its bound: start ... \")\n",
    "\n",
    "        status = optimize!(model2)\n",
    "\n",
    "        println(\"... end\"); \n",
    "\n",
    "        print(\": Solution LP\")\n",
    "        if(termination_status(model2) == MOI.INFEASIBLE)#(has_values(model2))\n",
    "            print(\" : NOT AVAILABLE (probably infeasible or ressources limit reached)\")\n",
    "        else\n",
    "            print(\" \", objective_value(model2))\n",
    "            [print(\"\\t\", name(v),\"=\",value(v)) for v in all_variables(model2)] \n",
    "        end\n",
    "        println(\" \"); \n",
    "\n",
    "        =#\n",
    "\n",
    "        #println(\"listobjs, listvals, listnodes\", listobjs, listvals, listnodes)\n",
    "        #Calcul des bornes\n",
    "        if borne == \"borne1\"\n",
    "            borneinf, bornesup = Bornes_1!(price, weight, capacity, listobjs, listvals)\n",
    "        else borne == \"borne2\"\n",
    "            borneinf, bornesup = Bornes_2!(price, weight, capacity, listobjs, listvals)\n",
    "        end\n",
    "        if (affichage==true)\n",
    "            println(\"bornes :\", [borneinf, bornesup])\n",
    "            println(\"\\nPrevious Solution memorized \", Bestsol, \" with bestprofit \", BestProfit, \"\\n\")\n",
    "        end\n",
    "        \n",
    "        TA, TO, TR, Bestsol, BestProfit = TestsSondabilite(listobjs, listvals, price, weight, capacity, borneinf, bornesup, BestProfit, Bestsol, affichage)\n",
    "        \n",
    "        is_node_sondable = TA || TO || TR\n",
    "\n",
    "        #Reset_LP!(model2, x, listobjs)\n",
    "\n",
    "        \n",
    "        if(!is_node_sondable)\n",
    "            SeparerNoeud_lexicographic_depthfirst!(listobjs, listvals, length(price), price, weight, affichage)\n",
    "        else\n",
    "            stop = ExplorerAutreNoeud_depthfirst!(listobjs, listvals, listnodes, affichage)        \n",
    "        end\n",
    "        \n",
    "        \n",
    "        \n",
    "        #Reset_allLP!(model2, x)\n",
    "\n",
    "        current_node_number = current_node_number + 1\n",
    "    end\n",
    "    if affichage\n",
    "        println(\"\\n******\\n\\nOptimal value = \", BestProfit, \"\\n\\nOptimal x=\", Bestsol)\n",
    "    end\n",
    "    return BestProfit, filter(p->(>0),Bestsol), trParentnodes, trChildnodes, trNamenodes, listvals\n",
    "\n",
    "end"
   ]
  },
  {
   "cell_type": "code",
   "execution_count": 136,
   "metadata": {},
   "outputs": [
    {
     "name": "stdout",
     "output_type": "stream",
     "text": [
      "\n",
      "******\n",
      " Cas dynamique\n",
      "\n"
     ]
    },
    {
     "name": "stdout",
     "output_type": "stream",
     "text": [
      "  0.012430 seconds (264.19 k allocations: 4.428 MiB)\n",
      "\n",
      "Optimal value = 1894.0\n",
      "Optimal x=Any[47, 44, 30, 27, 25, 21, 20, 13, 2]\n",
      "\n",
      "******\n",
      " Cas Branch-and-Bound\n",
      "\n"
     ]
    },
    {
     "name": "stdout",
     "output_type": "stream",
     "text": [
      "  0.227321 seconds (359.24 k allocations: 13.434 MiB, 83.37% compilation time)\n",
      "\n",
      "Optimal value = 1894.0\n",
      "Optimal x=[30.0, 21.0, 13.0, 47.0, 27.0, 2.0, 25.0, 44.0, 0.0, 0.0, 0.0, 0.0, 0.0, 0.0, 0.0, 0.0, 0.0, 0.0, 0.0, 20.0]\n"
     ]
    }
   ],
   "source": [
    "println(\"\\n******\\n Cas dynamique\\n\")\n",
    "\n",
    "@time BestProfit, Bestsol,ObjSol = SolveKnapInstanceDym(\"instancesETU/KNAPnewformat/strongly_correlated/knapPI_3_50_1000_1_-1894.opb.txt\",false)\n",
    "\n",
    "println(\"\\nOptimal value = \", BestProfit, \"\\nOptimal x=\", ObjSol)\n",
    "println(\"\\n******\\n Cas Branch-and-Bound\\n\")\n",
    "\n",
    "@time BestProfit2, Bestsol2, trParentnodes, trChildnodes, trNamenodes2, listvals = SolveKnapInstanceBranch(\"instancesETU/KNAPnewformat/strongly_correlated/knapPI_3_50_1000_1_-1894.opb.txt\", \"borne2\",false)\n",
    "\n",
    "println(\"\\nOptimal value = \", BestProfit2, \"\\nOptimal x=\", Bestsol2)"
   ]
  },
  {
   "cell_type": "code",
   "execution_count": 137,
   "metadata": {},
   "outputs": [
    {
     "name": "stdout",
     "output_type": "stream",
     "text": [
      "\n",
      "******\n",
      " Cas dynamique\n",
      "  0.012223 seconds (264.19 k allocations: 4.428 MiB)\n",
      "\n",
      "Optimal value = 1894.0\n",
      "Optimal x=Any[47, 44, 30, 27, 25, 21, 20, 13, 2]\n",
      "\n",
      "******\n",
      " Cas Branch-and-Bound\n"
     ]
    },
    {
     "name": "stdout",
     "output_type": "stream",
     "text": [
      "  0.036783 seconds (158.64 k allocations: 2.828 MiB)\n",
      "\n",
      "Optimal value = 1894.0\n",
      "Optimal x=[30.0, 21.0, 13.0, 47.0, 27.0, 2.0, 25.0, 44.0, 0.0, 0.0, 0.0, 0.0, 0.0, 0.0, 0.0, 0.0, 0.0, 0.0, 0.0, 20.0]\n"
     ]
    }
   ],
   "source": [
    "println(\"\\n******\\n Cas dynamique\")\n",
    "\n",
    "@time BestProfit, Bestsol,ObjSol = SolveKnapInstanceDym(\"instancesETU/KNAPnewformat/strongly_correlated/knapPI_3_50_1000_1_-1894.opb.txt\",false)\n",
    "\n",
    "println(\"\\nOptimal value = \", BestProfit, \"\\nOptimal x=\", ObjSol)\n",
    "println(\"\\n******\\n Cas Branch-and-Bound\")\n",
    "\n",
    "@time BestProfit2, Bestsol2, trParentnodes, trChildnodes, trNamenodes2 = SolveKnapInstanceBranch(\"instancesETU/KNAPnewformat/strongly_correlated/knapPI_3_50_1000_1_-1894.opb.txt\", \"borne2\",false)\n",
    "\n",
    "println(\"\\nOptimal value = \", BestProfit2, \"\\nOptimal x=\", Bestsol2)"
   ]
  },
  {
   "cell_type": "code",
   "execution_count": 138,
   "metadata": {},
   "outputs": [
    {
     "name": "stdout",
     "output_type": "stream",
     "text": [
      "\n",
      "******\n",
      " Cas dynamique\n"
     ]
    },
    {
     "name": "stdout",
     "output_type": "stream",
     "text": [
      " 10.834877 seconds (296.47 M allocations: 4.713 GiB, 5.43% gc time)\n",
      "\n",
      "Optimal value = 997.0\n",
      "Optimal x=Any[119]\n",
      "\n",
      "******\n",
      " Cas Branch-and-Bound\n"
     ]
    },
    {
     "name": "stdout",
     "output_type": "stream",
     "text": [
      "  3.403447 seconds (2.59 M allocations: 42.404 MiB)\n",
      "\n",
      "Optimal value = 997.0\n",
      "Optimal x=[119.0, 0.0, 0.0, 0.0, 0.0, 0.0, 0.0, 0.0, 0.0, 0.0, 0.0, 0.0, 0.0, 0.0, 0.0, 0.0, 0.0, 0.0, 0.0, 0.0, 0.0, 0.0, 0.0, 0.0, 0.0, 0.0, 0.0, 0.0, 0.0, 0.0, 0.0, 0.0, 0.0, 0.0, 0.0, 0.0, 0.0, 0.0, 0.0, 0.0, 0.0, 0.0, 0.0, 0.0, 0.0, 0.0, 0.0, 0.0, 0.0, 0.0, 0.0, 0.0, 0.0, 0.0, 0.0, 0.0, 0.0, 0.0, 0.0, 0.0, 0.0, 0.0, 0.0, 0.0, 0.0, 0.0, 0.0, 0.0, 0.0, 0.0, 0.0, 0.0, 0.0, 0.0, 0.0, 0.0, 0.0, 0.0, 0.0, 0.0, 0.0, 0.0, 0.0, 0.0, 0.0, 0.0, 0.0, 0.0, 0.0, 0.0, 0.0, 0.0, 0.0, 0.0, 0.0, 0.0, 0.0, 0.0, 0.0, 0.0, 0.0, 0.0, 0.0, 0.0, 0.0, 0.0, 0.0, 0.0, 0.0, 0.0, 0.0, 0.0, 0.0, 0.0, 0.0, 0.0, 0.0, 0.0, 0.0, 0.0, 0.0, 0.0, 0.0, 0.0, 0.0, 0.0, 0.0, 0.0, 0.0, 0.0, 0.0, 0.0, 0.0, 0.0, 0.0, 0.0, 0.0, 0.0, 0.0, 0.0, 0.0, 0.0, 0.0, 0.0, 0.0, 0.0, 0.0, 0.0, 0.0, 0.0, 0.0, 0.0, 0.0, 0.0, 0.0, 0.0, 0.0, 0.0, 0.0, 0.0, 0.0, 0.0, 0.0, 0.0, 0.0, 0.0, 0.0, 0.0, 0.0, 0.0, 0.0, 0.0, 0.0, 0.0, 0.0, 0.0, 0.0, 0.0, 0.0, 0.0, 0.0, 0.0, 0.0, 0.0, 0.0, 0.0, 0.0, 0.0, 0.0, 0.0, 0.0, 0.0, 0.0, 0.0, 0.0, 0.0, 0.0, 0.0, 0.0, 0.0]\n"
     ]
    }
   ],
   "source": [
    "println(\"\\n******\\n Cas dynamique\")\n",
    "\n",
    "@time BestProfit, Bestsol,ObjSol = SolveKnapInstanceDym(\"instancesETU/KNAPnewformat/similar_weights/knapPI_9_100_1000_2_-997.opb.txt\",false)\n",
    "\n",
    "println(\"\\nOptimal value = \", BestProfit, \"\\nOptimal x=\", ObjSol)\n",
    "println(\"\\n******\\n Cas Branch-and-Bound\")\n",
    "\n",
    "@time BestProfit2, Bestsol2, trParentnodes, trChildnodes, trNamenodes2 = SolveKnapInstanceBranch(\"instancesETU/KNAPnewformat/similar_weights/knapPI_9_100_1000_2_-997.opb.txt\", \"borne2\",false)\n",
    "\n",
    "println(\"\\nOptimal value = \", BestProfit2, \"\\nOptimal x=\", Bestsol2)"
   ]
  },
  {
   "cell_type": "code",
   "execution_count": 139,
   "metadata": {},
   "outputs": [
    {
     "name": "stdout",
     "output_type": "stream",
     "text": [
      "\n",
      "******\n",
      " Cas dynamique\n",
      "  0.024126 seconds (532.09 k allocations: 8.897 MiB)\n",
      "\n",
      "Optimal value = 1514.0\n",
      "Optimal x=Any[85, 71, 57, 49, 45, 38, 33, 24, 11]\n",
      "\n",
      "******\n",
      " Cas Branch-and-Bound\n"
     ]
    },
    {
     "name": "stdout",
     "output_type": "stream",
     "text": [
      "  0.159441 seconds (351.73 k allocations: 5.881 MiB)\n",
      "\n",
      "Optimal value = 1514.0\n",
      "Optimal x=[38.0, 24.0, 0.0, 33.0, 71.0, 57.0, 85.0, 45.0, 0.0, 0.0, 0.0, 0.0, 0.0, 0.0, 0.0, 0.0, 0.0, 0.0, 0.0, 0.0, 0.0, 0.0, 0.0, 0.0, 0.0, 0.0, 0.0, 0.0, 0.0, 0.0, 0.0, 0.0, 0.0, 0.0, 0.0, 0.0, 0.0, 0.0, 0.0, 0.0, 0.0, 0.0, 0.0, 0.0, 0.0, 0.0, 0.0, 0.0, 0.0, 0.0, 0.0, 0.0, 0.0, 0.0, 0.0, 0.0, 0.0, 0.0, 0.0, 0.0, 0.0, 0.0, 0.0, 0.0, 0.0, 0.0, 0.0, 0.0, 0.0, 0.0, 0.0, 0.0, 0.0, 0.0, 0.0, 0.0, 0.0, 0.0, 0.0, 0.0, 0.0, 0.0, 0.0, 0.0, 0.0, 0.0, 0.0, 0.0, 0.0, 0.0, 0.0, 0.0, 0.0, 0.0, 0.0, 0.0, 0.0, 0.0, 11.0, 49.0]\n"
     ]
    }
   ],
   "source": [
    "println(\"\\n******\\n Cas dynamique\")\n",
    "\n",
    "@time BestProfit, Bestsol,ObjSol = SolveKnapInstanceDym(\"instancesETU/KNAPnewformat/weakly_correlated/knapPI_2_100_1000_1_-1514.opb.txt\",false)\n",
    "\n",
    "println(\"\\nOptimal value = \", BestProfit, \"\\nOptimal x=\", ObjSol)\n",
    "println(\"\\n******\\n Cas Branch-and-Bound\")\n",
    "\n",
    "@time BestProfit2, Bestsol2, trParentnodes, trChildnodes, trNamenodes2 = SolveKnapInstanceBranch(\"instancesETU/KNAPnewformat/weakly_correlated/knapPI_2_100_1000_1_-1514.opb.txt\", \"borne2\",false)\n",
    "\n",
    "println(\"\\nOptimal value = \", BestProfit2, \"\\nOptimal x=\", Bestsol2)"
   ]
  },
  {
   "cell_type": "code",
   "execution_count": 140,
   "metadata": {},
   "outputs": [
    {
     "name": "stdout",
     "output_type": "stream",
     "text": [
      "\n",
      "******\n",
      " Cas dynamique\n",
      "  0.012756 seconds (262.90 k allocations: 4.409 MiB)\n",
      "\n",
      "Optimal value = 3392.0\n",
      "Optimal x=Any[45, 43, 15]\n",
      "\n",
      "******\n",
      " Cas Branch-and-Bound\n",
      "  0.003157 seconds (14.97 k allocations: 299.321 KiB)\n",
      "\n",
      "Optimal value = 2586.0\n",
      "Optimal x=[15.0, 45.0, 43.0, 1.0, 32.0, 22.0, 30.0, 0.0, 46.0, 0.0, 0.0, 0.0, 0.0, 0.0, 0.0, 0.0, 0.0, 0.0, 0.0, 0.0, 0.0, 0.0, 0.0, 0.0, 0.0, 0.0, 0.0, 0.0, 0.0, 0.0, 0.0, 0.0, 0.0, 0.0, 0.0, 0.0, 0.0, 0.0, 0.0, 0.0, 0.0, 0.0, 0.0, 0.0, 0.0, 0.0, 0.0, 0.0, 0.0, 0.0]\n"
     ]
    }
   ],
   "source": [
    "println(\"\\n******\\n Cas dynamique\")\n",
    "\n",
    "@time BestProfit, Bestsol,ObjSol = SolveKnapInstanceDym(\"instancesETU/KNAPnewformat/multiple_strongly_correlated/knapPI_14_50_1000_1_-2586.opb.txt\",false)\n",
    "\n",
    "println(\"\\nOptimal value = \", BestProfit, \"\\nOptimal x=\", ObjSol)\n",
    "println(\"\\n******\\n Cas Branch-and-Bound\")\n",
    "\n",
    "@time BestProfit2, Bestsol2, trParentnodes, trChildnodes, trNamenodes2 = SolveKnapInstanceBranch(\"instancesETU/KNAPnewformat/multiple_strongly_correlated/knapPI_14_50_1000_1_-2586.opb.txt\", \"borne2\",false)\n",
    "\n",
    "println(\"\\nOptimal value = \", BestProfit2, \"\\nOptimal x=\", Bestsol2)"
   ]
  },
  {
   "cell_type": "code",
   "execution_count": 141,
   "metadata": {},
   "outputs": [
    {
     "name": "stdout",
     "output_type": "stream",
     "text": [
      "\n",
      "Construction de la matrice C ...\n",
      "\n",
      "... Matrice C contruite\n",
      "\n",
      "Analyse de la matrice C ...\n",
      "\n",
      "\n",
      "... Matrice C analysée\n",
      "\n",
      "******\n",
      "\n",
      "Optimal value = 1894.0\n",
      "\n",
      "Optimal (Matrice 0 objet pas présent, 1 objet présent) sol=[0.0, 1.0, 0.0, 0.0, 0.0, 0.0, 0.0, 0.0, 0.0, 0.0, 0.0, 0.0, 1.0, 0.0, 0.0, 0.0, 0.0, 0.0, 0.0, 1.0, 1.0, 0.0, 0.0, 0.0, 1.0, 0.0, 1.0, 0.0, 0.0, 1.0, 0.0, 0.0, 0.0, 0.0, 0.0, 0.0, 0.0, 0.0, 0.0, 0.0, 0.0, 0.0, 0.0, 1.0, 0.0, 0.0, 1.0, 0.0, 0.0, 0.0]\n",
      "\n",
      "Optima (objet présent) x=Any[47, 44, 30, 27, 25, 21, 20, 13, 2]\n",
      "  0.011411 seconds (266.39 k allocations: 4.495 MiB)\n"
     ]
    },
    {
     "data": {
      "text/plain": [
       "(1894.0, [0.0, 1.0, 0.0, 0.0, 0.0, 0.0, 0.0, 0.0, 0.0, 0.0  …  0.0, 0.0, 0.0, 1.0, 0.0, 0.0, 1.0, 0.0, 0.0, 0.0], Any[47, 44, 30, 27, 25, 21, 20, 13, 2])"
      ]
     },
     "metadata": {},
     "output_type": "display_data"
    }
   ],
   "source": [
    "\n",
    "@time BestProfit, Bestsol,ObjSol = SolveKnapInstanceDym(\"instancesETU/KNAPnewformat/strongly_correlated/knapPI_3_50_1000_1_-1894.opb.txt\",true)"
   ]
  },
  {
   "cell_type": "code",
   "execution_count": 142,
   "metadata": {},
   "outputs": [
    {
     "name": "stdout",
     "output_type": "stream",
     "text": [
      "\n",
      "Construction de la matrice C ...\n",
      "\n",
      "... Matrice C contruite\n",
      "\n",
      "Analyse de la matrice C ...\n",
      "\n",
      "\n",
      "... Matrice C analysée\n",
      "\n",
      "******\n",
      "\n",
      "Optimal value = 8373.0\n",
      "\n",
      "Optimal (Matrice 0 objet pas présent, 1 objet présent) sol=[0.0, 0.0, 0.0, 0.0, 0.0, 0.0, 1.0, 0.0, 0.0, 0.0, 1.0, 0.0, 1.0, 1.0, 0.0, 0.0, 0.0, 0.0, 0.0, 0.0, 0.0, 0.0, 0.0, 1.0, 0.0, 1.0, 0.0, 0.0, 0.0, 0.0, 1.0, 0.0, 1.0, 0.0, 0.0, 0.0, 0.0, 1.0, 1.0, 0.0, 0.0, 0.0, 0.0, 0.0, 0.0, 0.0, 0.0, 0.0, 1.0, 0.0]\n",
      "\n",
      "Optima (objet présent) x=Any[49, 39, 38, 33, 31, 26, 24, 14, 13, 11, 7]\n"
     ]
    },
    {
     "data": {
      "text/plain": [
       "(8373.0, [0.0, 0.0, 0.0, 0.0, 0.0, 0.0, 1.0, 0.0, 0.0, 0.0  …  0.0, 0.0, 0.0, 0.0, 0.0, 0.0, 0.0, 0.0, 1.0, 0.0], Any[49, 39, 38, 33, 31, 26, 24, 14, 13, 11, 7])"
      ]
     },
     "metadata": {},
     "output_type": "display_data"
    }
   ],
   "source": [
    "BestProfit, Bestsol,ObjSol = SolveKnapInstanceDym(\"instancesETU/KNAPnewformat/uncorrelated/knapPI_1_50_1000_1_-8373.opb.txt\",true)"
   ]
  },
  {
   "cell_type": "code",
   "execution_count": 143,
   "metadata": {},
   "outputs": [
    {
     "name": "stdout",
     "output_type": "stream",
     "text": [
      "\n",
      "Construction de la matrice C ...\n",
      "\n",
      "... Matrice C contruite\n",
      "\n",
      "Analyse de la matrice C ...\n",
      "\n",
      "\n",
      "... Matrice C analysée\n",
      "\n",
      "******\n",
      "\n",
      "Optimal value = 1396.0\n",
      "\n",
      "Optimal (Matrice 0 objet pas présent, 1 objet présent) sol=[0.0, 0.0, 0.0, 1.0, 0.0, 0.0, 0.0, 0.0, 0.0, 0.0, 0.0, 0.0, 0.0, 0.0, 0.0, 0.0, 0.0, 0.0, 0.0, 0.0, 0.0, 0.0, 0.0, 1.0, 0.0, 0.0, 0.0, 0.0, 0.0, 0.0, 0.0, 0.0, 1.0, 0.0, 0.0, 0.0, 1.0, 1.0, 0.0, 0.0, 0.0, 0.0, 0.0, 0.0, 1.0, 0.0, 0.0, 0.0, 0.0, 0.0]\n",
      "\n",
      "Optima (objet présent) x=Any[45, 38, 37, 33, 24, 4]\n"
     ]
    },
    {
     "data": {
      "text/plain": [
       "(1396.0, [0.0, 0.0, 0.0, 1.0, 0.0, 0.0, 0.0, 0.0, 0.0, 0.0  …  0.0, 0.0, 0.0, 0.0, 1.0, 0.0, 0.0, 0.0, 0.0, 0.0], Any[45, 38, 37, 33, 24, 4])"
      ]
     },
     "metadata": {},
     "output_type": "display_data"
    }
   ],
   "source": [
    "BestProfit, Bestsol,ObjSol = SolveKnapInstanceDym(\"instancesETU/KNAPnewformat/weakly_correlated/knapPI_2_50_1000_1_-1396.opb.txt\",true)"
   ]
  },
  {
   "cell_type": "code",
   "execution_count": 144,
   "metadata": {},
   "outputs": [],
   "source": []
  },
  {
   "cell_type": "code",
   "execution_count": 145,
   "metadata": {},
   "outputs": [],
   "source": [
    "#=cd(\"instancesETU/KNAPnewformat\")\n",
    "listeDossier = readdir()\n",
    "for dossier in listeDossier\n",
    "    if isdir(dossier)\n",
    "        cd(dossier)\n",
    "        listeTest = readdir()\n",
    "        for test in listeTest\n",
    "            println(\"\\n\",test,\"\\n\")\n",
    "            _, _ = SolveKnapInstanceDym(test,false)\n",
    "            #=try \n",
    "                \n",
    "            catch e\n",
    "                println(\"Error test\")\n",
    "            end=#\n",
    "        end\n",
    "        cd(\"..\")\n",
    "    end\n",
    "end=#"
   ]
  }
 ],
 "metadata": {
  "kernelspec": {
   "display_name": "Julia 1.8.2",
   "language": "julia",
   "name": "julia-1.8"
  },
  "language_info": {
   "file_extension": ".jl",
   "mimetype": "application/julia",
   "name": "julia",
   "version": "1.8.2"
  }
 },
 "nbformat": 4,
 "nbformat_minor": 4
}
